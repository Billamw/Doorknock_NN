{
 "cells": [
  {
   "cell_type": "markdown",
   "metadata": {},
   "source": [
    "https://towardsdatascience.com/audio-deep-learning-made-simple-sound-classification-step-by-step-cebc936bbe5"
   ]
  },
  {
   "cell_type": "code",
   "execution_count": 1,
   "metadata": {},
   "outputs": [],
   "source": [
    "import torch\n",
    "import torch.nn as nn\n",
    "from torch.utils.data import DataLoader\n",
    "from SoundDS import SoundDS\n",
    "from AudioClassifier import AudioClassifier"
   ]
  },
  {
   "cell_type": "code",
   "execution_count": 15,
   "metadata": {},
   "outputs": [],
   "source": [
    "%load_ext autoreload\n",
    "%autoreload 2"
   ]
  },
  {
   "cell_type": "code",
   "execution_count": 2,
   "metadata": {},
   "outputs": [],
   "source": [
    "train_data = SoundDS('../data/train')\n",
    "test_data = SoundDS('../data/test')\n",
    "valid_data = SoundDS('../data/validation')\n",
    "\n",
    "train_dl = DataLoader(train_data, batch_size=16, shuffle=True)\n",
    "test_dl = DataLoader(test_data, batch_size=16, shuffle=True)\n",
    "val_dl = DataLoader(valid_data, batch_size=16, shuffle=True)"
   ]
  },
  {
   "cell_type": "code",
   "execution_count": 3,
   "metadata": {},
   "outputs": [
    {
     "data": {
      "text/plain": [
       "device(type='cuda', index=0)"
      ]
     },
     "execution_count": 3,
     "metadata": {},
     "output_type": "execute_result"
    }
   ],
   "source": [
    "# Create the model and put it on the GPU if available\n",
    "myModel = AudioClassifier()\n",
    "device = torch.device(\"cuda:0\" if torch.cuda.is_available() else \"cpu\")\n",
    "myModel = myModel.to(device)\n",
    "# Check that it is on Cuda\n",
    "next(myModel.parameters()).device"
   ]
  },
  {
   "cell_type": "code",
   "execution_count": 4,
   "metadata": {},
   "outputs": [],
   "source": [
    "# ----------------------------\n",
    "# Training Loop\n",
    "# ----------------------------\n",
    "def training(model, train_dl, num_epochs):\n",
    "  # Loss Function, Optimizer and Scheduler\n",
    "  criterion = nn.CrossEntropyLoss()\n",
    "  optimizer = torch.optim.Adam(model.parameters(),lr=0.003)\n",
    "  # scheduler = torch.optim.lr_scheduler.OneCycleLR(optimizer, max_lr=0.001,\n",
    "  #                                               steps_per_epoch=int(len(train_dl)),\n",
    "  #                                               epochs=num_epochs,\n",
    "  #                                               anneal_strategy='linear')\n",
    "\n",
    "  # Repeat for each epoch\n",
    "  for epoch in range(num_epochs):\n",
    "    running_loss = 0.0\n",
    "    correct_prediction = 0\n",
    "    total_prediction = 0\n",
    "\n",
    "    # Repeat for each batch in the training set\n",
    "    for i, data in enumerate(train_dl):\n",
    "        # Get the input features and target labels, and put them on the GPU\n",
    "        inputs, labels = data[0].to(device), data[1].to(device)\n",
    "\n",
    "        # Normalize the inputs\n",
    "        inputs_m, inputs_s = inputs.mean(), inputs.std()\n",
    "        inputs = (inputs - inputs_m) / inputs_s\n",
    "\n",
    "        # Zero the parameter gradients\n",
    "        optimizer.zero_grad()\n",
    "\n",
    "        # forward + backward + optimize\n",
    "        outputs = model(inputs)\n",
    "        loss = criterion(outputs, labels)\n",
    "        loss.backward()\n",
    "        optimizer.step()\n",
    "        # scheduler.step()\n",
    "\n",
    "        # Keep stats for Loss and Accuracy\n",
    "        running_loss += loss.item()\n",
    "\n",
    "        # Get the predicted class with the highest score\n",
    "        _, prediction = torch.max(outputs,1)\n",
    "        # Count of predictions that matched the target label\n",
    "        correct_prediction += (prediction == labels).sum().item()\n",
    "        total_prediction += prediction.shape[0]\n",
    "\n",
    "        # if i % 10 == 0:    # print every 10 mini-batches\n",
    "        #    print('[%d, %5d] loss: %.3f' % (epoch + 1, i + 1, running_loss / 10))\n",
    "    \n",
    "    # Print stats at the end of the epoch\n",
    "    num_batches = len(train_dl)\n",
    "    avg_loss = running_loss / num_batches\n",
    "    acc = correct_prediction/total_prediction\n",
    "    print(f'Epoch: {epoch+1}/{num_epochs}, Loss: {avg_loss:.2f}, Accuracy: {acc:.2f}')\n",
    "    if acc > 0.98:\n",
    "      break\n",
    "\n",
    "  print('Finished Training')"
   ]
  },
  {
   "cell_type": "code",
   "execution_count": 5,
   "metadata": {},
   "outputs": [
    {
     "name": "stdout",
     "output_type": "stream",
     "text": [
      "Epoch: 1/50, Loss: 0.55, Accuracy: 0.80\n",
      "Epoch: 2/50, Loss: 0.44, Accuracy: 0.89\n",
      "Epoch: 3/50, Loss: 0.42, Accuracy: 0.90\n",
      "Epoch: 4/50, Loss: 0.41, Accuracy: 0.91\n",
      "Epoch: 5/50, Loss: 0.41, Accuracy: 0.90\n",
      "Epoch: 6/50, Loss: 0.41, Accuracy: 0.90\n",
      "Epoch: 7/50, Loss: 0.41, Accuracy: 0.91\n",
      "Epoch: 8/50, Loss: 0.41, Accuracy: 0.91\n",
      "Epoch: 9/50, Loss: 0.40, Accuracy: 0.91\n",
      "Epoch: 10/50, Loss: 0.40, Accuracy: 0.91\n",
      "Epoch: 11/50, Loss: 0.41, Accuracy: 0.90\n",
      "Epoch: 12/50, Loss: 0.41, Accuracy: 0.90\n",
      "Epoch: 13/50, Loss: 0.40, Accuracy: 0.91\n",
      "Epoch: 14/50, Loss: 0.41, Accuracy: 0.89\n",
      "Epoch: 15/50, Loss: 0.40, Accuracy: 0.91\n",
      "Epoch: 16/50, Loss: 0.42, Accuracy: 0.90\n",
      "Epoch: 17/50, Loss: 0.41, Accuracy: 0.91\n",
      "Epoch: 18/50, Loss: 0.41, Accuracy: 0.90\n",
      "Epoch: 19/50, Loss: 0.41, Accuracy: 0.91\n",
      "Epoch: 20/50, Loss: 0.41, Accuracy: 0.90\n",
      "Epoch: 21/50, Loss: 0.42, Accuracy: 0.89\n",
      "Epoch: 22/50, Loss: 0.41, Accuracy: 0.90\n",
      "Epoch: 23/50, Loss: 0.40, Accuracy: 0.91\n",
      "Epoch: 24/50, Loss: 0.41, Accuracy: 0.90\n",
      "Epoch: 25/50, Loss: 0.41, Accuracy: 0.91\n",
      "Epoch: 26/50, Loss: 0.41, Accuracy: 0.89\n",
      "Epoch: 27/50, Loss: 0.40, Accuracy: 0.91\n",
      "Epoch: 28/50, Loss: 0.40, Accuracy: 0.90\n",
      "Epoch: 29/50, Loss: 0.40, Accuracy: 0.91\n",
      "Epoch: 30/50, Loss: 0.40, Accuracy: 0.91\n",
      "Epoch: 31/50, Loss: 0.40, Accuracy: 0.91\n",
      "Epoch: 32/50, Loss: 0.39, Accuracy: 0.92\n",
      "Epoch: 33/50, Loss: 0.40, Accuracy: 0.92\n",
      "Epoch: 34/50, Loss: 0.41, Accuracy: 0.90\n",
      "Epoch: 35/50, Loss: 0.40, Accuracy: 0.91\n",
      "Epoch: 36/50, Loss: 0.39, Accuracy: 0.92\n",
      "Epoch: 37/50, Loss: 0.41, Accuracy: 0.90\n",
      "Epoch: 38/50, Loss: 0.39, Accuracy: 0.93\n",
      "Epoch: 39/50, Loss: 0.39, Accuracy: 0.92\n",
      "Epoch: 40/50, Loss: 0.41, Accuracy: 0.90\n",
      "Epoch: 41/50, Loss: 0.40, Accuracy: 0.92\n",
      "Epoch: 42/50, Loss: 0.40, Accuracy: 0.90\n",
      "Epoch: 43/50, Loss: 0.39, Accuracy: 0.93\n",
      "Epoch: 44/50, Loss: 0.40, Accuracy: 0.91\n",
      "Epoch: 45/50, Loss: 0.39, Accuracy: 0.92\n",
      "Epoch: 46/50, Loss: 0.39, Accuracy: 0.92\n",
      "Epoch: 47/50, Loss: 0.38, Accuracy: 0.93\n",
      "Epoch: 48/50, Loss: 0.38, Accuracy: 0.93\n",
      "Epoch: 49/50, Loss: 0.38, Accuracy: 0.93\n",
      "Epoch: 50/50, Loss: 0.38, Accuracy: 0.93\n",
      "Finished Training\n"
     ]
    }
   ],
   "source": [
    "num_epochs=50  # Just for demo, adjust this higher.\n",
    "training(myModel, train_dl, num_epochs)"
   ]
  },
  {
   "cell_type": "code",
   "execution_count": 6,
   "metadata": {},
   "outputs": [],
   "source": [
    "def inference(model, val_dl):\n",
    "    correct_prediction = 0\n",
    "    total_prediction = 0\n",
    "    class_names = {0: 'Noise', 1: 'Knock', 2:'Kn_se'}  # Mapping class indices to class names\n",
    "\n",
    "    # ANSI escape codes for colors\n",
    "    RED = '\\033[91m'   # Red text\n",
    "    RESET = '\\033[0m'  # Reset to default color\n",
    "\n",
    "    # Disable gradient updates\n",
    "    with torch.no_grad():\n",
    "        for data in val_dl:\n",
    "            # Get the input features and target labels, and put them on the GPU\n",
    "            inputs, labels = data[0].to(device), data[1].to(device)\n",
    "\n",
    "            # Normalize the inputs\n",
    "            inputs_m, inputs_s = inputs.mean(), inputs.std()\n",
    "            inputs = (inputs - inputs_m) / inputs_s\n",
    "\n",
    "            # Get predictions\n",
    "            outputs = model(inputs)\n",
    "\n",
    "            # Get the predicted class with the highest score\n",
    "            _, prediction = torch.max(outputs, 1)\n",
    "            # Convert predictions and actual labels to class names\n",
    "            predicted_classes = [class_names.get(p.item(), p.item()) for p in prediction]\n",
    "            actual_classes = [class_names.get(l.item(), l.item()) for l in labels]\n",
    "            row_len = 50\n",
    "            # Prepare to print 10 predictions and actuals per line\n",
    "            for i in range(0, len(predicted_classes), row_len):\n",
    "                pred_slice = predicted_classes[i:i+row_len]\n",
    "                actual_slice = actual_classes[i:i+row_len]\n",
    "                pred_str = ', '.join([f'{RED if pred != actual else RESET}{pred}{RESET}' for pred, actual in zip(pred_slice, actual_slice)])\n",
    "                actual_str = ', '.join([f'{RED if pred != actual else RESET}{actual}{RESET}' for pred, actual in zip(pred_slice, actual_slice)])\n",
    "                print(f'Predicted: {pred_str}\\nActual:    {actual_str}\\n')\n",
    "\n",
    "            # Count of predictions that matched the target label\n",
    "            correct_prediction += (prediction == labels).sum().item()\n",
    "            total_prediction += prediction.shape[0]\n",
    "\n",
    "    acc = correct_prediction / total_prediction\n",
    "    print(f'Accuracy: {acc:.2f}, Total items: {total_prediction}')"
   ]
  },
  {
   "cell_type": "code",
   "execution_count": 7,
   "metadata": {},
   "outputs": [
    {
     "name": "stdout",
     "output_type": "stream",
     "text": [
      "Predicted: \u001b[0mKnock\u001b[0m, \u001b[0mKnock\u001b[0m, \u001b[0mKnock\u001b[0m, \u001b[0mKnock\u001b[0m, \u001b[0mKnock\u001b[0m, \u001b[0mNoise\u001b[0m, \u001b[91mKnock\u001b[0m, \u001b[0mNoise\u001b[0m, \u001b[0mKnock\u001b[0m, \u001b[0mKnock\u001b[0m, \u001b[0mKnock\u001b[0m, \u001b[0mKnock\u001b[0m, \u001b[0mKnock\u001b[0m, \u001b[0mKnock\u001b[0m, \u001b[0mNoise\u001b[0m, \u001b[0mKnock\u001b[0m\n",
      "Actual:    \u001b[0mKnock\u001b[0m, \u001b[0mKnock\u001b[0m, \u001b[0mKnock\u001b[0m, \u001b[0mKnock\u001b[0m, \u001b[0mKnock\u001b[0m, \u001b[0mNoise\u001b[0m, \u001b[91mNoise\u001b[0m, \u001b[0mNoise\u001b[0m, \u001b[0mKnock\u001b[0m, \u001b[0mKnock\u001b[0m, \u001b[0mKnock\u001b[0m, \u001b[0mKnock\u001b[0m, \u001b[0mKnock\u001b[0m, \u001b[0mKnock\u001b[0m, \u001b[0mNoise\u001b[0m, \u001b[0mKnock\u001b[0m\n",
      "\n",
      "Predicted: \u001b[0mKnock\u001b[0m, \u001b[91mKnock\u001b[0m, \u001b[0mKnock\u001b[0m, \u001b[0mKnock\u001b[0m, \u001b[0mKnock\u001b[0m, \u001b[0mKnock\u001b[0m, \u001b[0mKnock\u001b[0m, \u001b[0mKnock\u001b[0m, \u001b[0mKnock\u001b[0m, \u001b[0mNoise\u001b[0m, \u001b[0mNoise\u001b[0m, \u001b[0mKnock\u001b[0m, \u001b[91mKnock\u001b[0m, \u001b[0mNoise\u001b[0m, \u001b[0mKnock\u001b[0m, \u001b[0mKnock\u001b[0m\n",
      "Actual:    \u001b[0mKnock\u001b[0m, \u001b[91mNoise\u001b[0m, \u001b[0mKnock\u001b[0m, \u001b[0mKnock\u001b[0m, \u001b[0mKnock\u001b[0m, \u001b[0mKnock\u001b[0m, \u001b[0mKnock\u001b[0m, \u001b[0mKnock\u001b[0m, \u001b[0mKnock\u001b[0m, \u001b[0mNoise\u001b[0m, \u001b[0mNoise\u001b[0m, \u001b[0mKnock\u001b[0m, \u001b[91mNoise\u001b[0m, \u001b[0mNoise\u001b[0m, \u001b[0mKnock\u001b[0m, \u001b[0mKnock\u001b[0m\n",
      "\n",
      "Predicted: \u001b[0mKnock\u001b[0m, \u001b[0mKnock\u001b[0m, \u001b[0mKnock\u001b[0m, \u001b[0mKnock\u001b[0m, \u001b[0mKnock\u001b[0m, \u001b[91mKnock\u001b[0m, \u001b[0mKnock\u001b[0m, \u001b[0mKnock\u001b[0m, \u001b[0mKnock\u001b[0m, \u001b[0mKnock\u001b[0m, \u001b[91mNoise\u001b[0m, \u001b[91mNoise\u001b[0m, \u001b[0mKnock\u001b[0m, \u001b[0mKnock\u001b[0m, \u001b[0mKnock\u001b[0m, \u001b[0mKnock\u001b[0m\n",
      "Actual:    \u001b[0mKnock\u001b[0m, \u001b[0mKnock\u001b[0m, \u001b[0mKnock\u001b[0m, \u001b[0mKnock\u001b[0m, \u001b[0mKnock\u001b[0m, \u001b[91mNoise\u001b[0m, \u001b[0mKnock\u001b[0m, \u001b[0mKnock\u001b[0m, \u001b[0mKnock\u001b[0m, \u001b[0mKnock\u001b[0m, \u001b[91mKnock\u001b[0m, \u001b[91mKnock\u001b[0m, \u001b[0mKnock\u001b[0m, \u001b[0mKnock\u001b[0m, \u001b[0mKnock\u001b[0m, \u001b[0mKnock\u001b[0m\n",
      "\n",
      "Predicted: \u001b[0mKnock\u001b[0m, \u001b[0mNoise\u001b[0m, \u001b[91mKnock\u001b[0m, \u001b[0mKnock\u001b[0m, \u001b[0mKnock\u001b[0m, \u001b[0mKnock\u001b[0m, \u001b[0mKnock\u001b[0m, \u001b[0mKnock\u001b[0m, \u001b[0mNoise\u001b[0m, \u001b[0mNoise\u001b[0m, \u001b[0mKnock\u001b[0m, \u001b[0mNoise\u001b[0m, \u001b[0mKnock\u001b[0m, \u001b[0mKnock\u001b[0m, \u001b[0mKnock\u001b[0m, \u001b[0mKnock\u001b[0m\n",
      "Actual:    \u001b[0mKnock\u001b[0m, \u001b[0mNoise\u001b[0m, \u001b[91mNoise\u001b[0m, \u001b[0mKnock\u001b[0m, \u001b[0mKnock\u001b[0m, \u001b[0mKnock\u001b[0m, \u001b[0mKnock\u001b[0m, \u001b[0mKnock\u001b[0m, \u001b[0mNoise\u001b[0m, \u001b[0mNoise\u001b[0m, \u001b[0mKnock\u001b[0m, \u001b[0mNoise\u001b[0m, \u001b[0mKnock\u001b[0m, \u001b[0mKnock\u001b[0m, \u001b[0mKnock\u001b[0m, \u001b[0mKnock\u001b[0m\n",
      "\n",
      "Predicted: \u001b[0mKnock\u001b[0m, \u001b[0mKnock\u001b[0m, \u001b[0mKnock\u001b[0m, \u001b[0mKnock\u001b[0m, \u001b[0mKnock\u001b[0m, \u001b[0mKnock\u001b[0m, \u001b[0mKnock\u001b[0m, \u001b[0mKnock\u001b[0m, \u001b[0mKnock\u001b[0m, \u001b[91mNoise\u001b[0m, \u001b[0mNoise\u001b[0m, \u001b[0mKnock\u001b[0m, \u001b[0mKnock\u001b[0m, \u001b[0mKnock\u001b[0m, \u001b[0mKnock\u001b[0m, \u001b[0mKnock\u001b[0m\n",
      "Actual:    \u001b[0mKnock\u001b[0m, \u001b[0mKnock\u001b[0m, \u001b[0mKnock\u001b[0m, \u001b[0mKnock\u001b[0m, \u001b[0mKnock\u001b[0m, \u001b[0mKnock\u001b[0m, \u001b[0mKnock\u001b[0m, \u001b[0mKnock\u001b[0m, \u001b[0mKnock\u001b[0m, \u001b[91mKnock\u001b[0m, \u001b[0mNoise\u001b[0m, \u001b[0mKnock\u001b[0m, \u001b[0mKnock\u001b[0m, \u001b[0mKnock\u001b[0m, \u001b[0mKnock\u001b[0m, \u001b[0mKnock\u001b[0m\n",
      "\n",
      "Predicted: \u001b[0mKnock\u001b[0m, \u001b[0mKnock\u001b[0m, \u001b[91mKnock\u001b[0m, \u001b[91mKnock\u001b[0m, \u001b[0mKnock\u001b[0m, \u001b[0mKnock\u001b[0m, \u001b[0mNoise\u001b[0m, \u001b[0mKnock\u001b[0m, \u001b[0mKnock\u001b[0m, \u001b[0mKnock\u001b[0m, \u001b[0mKnock\u001b[0m, \u001b[0mKnock\u001b[0m, \u001b[0mKnock\u001b[0m, \u001b[0mKnock\u001b[0m, \u001b[0mKnock\u001b[0m, \u001b[0mKnock\u001b[0m\n",
      "Actual:    \u001b[0mKnock\u001b[0m, \u001b[0mKnock\u001b[0m, \u001b[91mNoise\u001b[0m, \u001b[91mNoise\u001b[0m, \u001b[0mKnock\u001b[0m, \u001b[0mKnock\u001b[0m, \u001b[0mNoise\u001b[0m, \u001b[0mKnock\u001b[0m, \u001b[0mKnock\u001b[0m, \u001b[0mKnock\u001b[0m, \u001b[0mKnock\u001b[0m, \u001b[0mKnock\u001b[0m, \u001b[0mKnock\u001b[0m, \u001b[0mKnock\u001b[0m, \u001b[0mKnock\u001b[0m, \u001b[0mKnock\u001b[0m\n",
      "\n",
      "Predicted: \u001b[91mKnock\u001b[0m, \u001b[0mKnock\u001b[0m, \u001b[0mKnock\u001b[0m, \u001b[0mNoise\u001b[0m, \u001b[0mKnock\u001b[0m, \u001b[0mKnock\u001b[0m\n",
      "Actual:    \u001b[91mNoise\u001b[0m, \u001b[0mKnock\u001b[0m, \u001b[0mKnock\u001b[0m, \u001b[0mNoise\u001b[0m, \u001b[0mKnock\u001b[0m, \u001b[0mKnock\u001b[0m\n",
      "\n",
      "Accuracy: 0.89, Total items: 102\n"
     ]
    }
   ],
   "source": [
    "inference(myModel, val_dl)"
   ]
  },
  {
   "cell_type": "code",
   "execution_count": 8,
   "metadata": {},
   "outputs": [],
   "source": [
    "#saving the model\n",
    "torch.save(myModel, '../data/models/V8_model_fullV4.pth')"
   ]
  },
  {
   "cell_type": "code",
   "execution_count": 10,
   "metadata": {},
   "outputs": [
    {
     "name": "stdout",
     "output_type": "stream",
     "text": [
      "Predicted: \u001b[0mKnock\u001b[0m, \u001b[0mKnock\u001b[0m, \u001b[0mKnock\u001b[0m, \u001b[0mKnock\u001b[0m, \u001b[0mNoise\u001b[0m, \u001b[0mKnock\u001b[0m, \u001b[0mKnock\u001b[0m, \u001b[0mKnock\u001b[0m, \u001b[0mKnock\u001b[0m, \u001b[0mKnock\u001b[0m, \u001b[0mKnock\u001b[0m, \u001b[0mKnock\u001b[0m, \u001b[0mKnock\u001b[0m, \u001b[0mKnock\u001b[0m, \u001b[0mKnock\u001b[0m, \u001b[0mKnock\u001b[0m\n",
      "Actual:    \u001b[0mKnock\u001b[0m, \u001b[0mKnock\u001b[0m, \u001b[0mKnock\u001b[0m, \u001b[0mKnock\u001b[0m, \u001b[0mNoise\u001b[0m, \u001b[0mKnock\u001b[0m, \u001b[0mKnock\u001b[0m, \u001b[0mKnock\u001b[0m, \u001b[0mKnock\u001b[0m, \u001b[0mKnock\u001b[0m, \u001b[0mKnock\u001b[0m, \u001b[0mKnock\u001b[0m, \u001b[0mKnock\u001b[0m, \u001b[0mKnock\u001b[0m, \u001b[0mKnock\u001b[0m, \u001b[0mKnock\u001b[0m\n",
      "\n",
      "Predicted: \u001b[0mKnock\u001b[0m, \u001b[0mKnock\u001b[0m, \u001b[91mNoise\u001b[0m, \u001b[91mNoise\u001b[0m, \u001b[0mKnock\u001b[0m, \u001b[91mKn_se\u001b[0m, \u001b[0mKnock\u001b[0m, \u001b[0mNoise\u001b[0m, \u001b[0mNoise\u001b[0m, \u001b[0mKnock\u001b[0m, \u001b[0mKnock\u001b[0m, \u001b[91mNoise\u001b[0m, \u001b[0mKnock\u001b[0m, \u001b[0mKnock\u001b[0m, \u001b[0mKnock\u001b[0m, \u001b[0mKnock\u001b[0m\n",
      "Actual:    \u001b[0mKnock\u001b[0m, \u001b[0mKnock\u001b[0m, \u001b[91mKn_se\u001b[0m, \u001b[91mKn_se\u001b[0m, \u001b[0mKnock\u001b[0m, \u001b[91mNoise\u001b[0m, \u001b[0mKnock\u001b[0m, \u001b[0mNoise\u001b[0m, \u001b[0mNoise\u001b[0m, \u001b[0mKnock\u001b[0m, \u001b[0mKnock\u001b[0m, \u001b[91mKn_se\u001b[0m, \u001b[0mKnock\u001b[0m, \u001b[0mKnock\u001b[0m, \u001b[0mKnock\u001b[0m, \u001b[0mKnock\u001b[0m\n",
      "\n",
      "Predicted: \u001b[0mKnock\u001b[0m, \u001b[91mKn_se\u001b[0m, \u001b[0mKnock\u001b[0m, \u001b[0mKnock\u001b[0m, \u001b[0mKnock\u001b[0m, \u001b[0mKnock\u001b[0m, \u001b[0mNoise\u001b[0m, \u001b[0mKnock\u001b[0m, \u001b[0mNoise\u001b[0m, \u001b[91mNoise\u001b[0m, \u001b[91mKnock\u001b[0m, \u001b[91mNoise\u001b[0m, \u001b[0mKnock\u001b[0m, \u001b[0mNoise\u001b[0m, \u001b[0mNoise\u001b[0m, \u001b[91mKn_se\u001b[0m\n",
      "Actual:    \u001b[0mKnock\u001b[0m, \u001b[91mNoise\u001b[0m, \u001b[0mKnock\u001b[0m, \u001b[0mKnock\u001b[0m, \u001b[0mKnock\u001b[0m, \u001b[0mKnock\u001b[0m, \u001b[0mNoise\u001b[0m, \u001b[0mKnock\u001b[0m, \u001b[0mNoise\u001b[0m, \u001b[91mKn_se\u001b[0m, \u001b[91mKn_se\u001b[0m, \u001b[91mKn_se\u001b[0m, \u001b[0mKnock\u001b[0m, \u001b[0mNoise\u001b[0m, \u001b[0mNoise\u001b[0m, \u001b[91mNoise\u001b[0m\n",
      "\n",
      "Predicted: \u001b[0mNoise\u001b[0m, \u001b[0mNoise\u001b[0m, \u001b[0mKnock\u001b[0m, \u001b[0mKnock\u001b[0m, \u001b[0mNoise\u001b[0m, \u001b[0mKnock\u001b[0m, \u001b[0mKnock\u001b[0m, \u001b[0mKnock\u001b[0m, \u001b[0mKnock\u001b[0m, \u001b[0mKnock\u001b[0m, \u001b[0mNoise\u001b[0m, \u001b[0mKnock\u001b[0m, \u001b[0mKnock\u001b[0m, \u001b[0mKnock\u001b[0m, \u001b[0mKnock\u001b[0m, \u001b[0mKnock\u001b[0m\n",
      "Actual:    \u001b[0mNoise\u001b[0m, \u001b[0mNoise\u001b[0m, \u001b[0mKnock\u001b[0m, \u001b[0mKnock\u001b[0m, \u001b[0mNoise\u001b[0m, \u001b[0mKnock\u001b[0m, \u001b[0mKnock\u001b[0m, \u001b[0mKnock\u001b[0m, \u001b[0mKnock\u001b[0m, \u001b[0mKnock\u001b[0m, \u001b[0mNoise\u001b[0m, \u001b[0mKnock\u001b[0m, \u001b[0mKnock\u001b[0m, \u001b[0mKnock\u001b[0m, \u001b[0mKnock\u001b[0m, \u001b[0mKnock\u001b[0m\n",
      "\n",
      "Predicted: \u001b[0mKnock\u001b[0m, \u001b[0mKnock\u001b[0m, \u001b[0mKnock\u001b[0m, \u001b[91mKn_se\u001b[0m, \u001b[0mKnock\u001b[0m, \u001b[0mKnock\u001b[0m, \u001b[0mNoise\u001b[0m, \u001b[0mKnock\u001b[0m, \u001b[0mKnock\u001b[0m, \u001b[0mKnock\u001b[0m, \u001b[0mKnock\u001b[0m, \u001b[0mNoise\u001b[0m, \u001b[0mKnock\u001b[0m, \u001b[0mKnock\u001b[0m, \u001b[0mKnock\u001b[0m, \u001b[0mKnock\u001b[0m\n",
      "Actual:    \u001b[0mKnock\u001b[0m, \u001b[0mKnock\u001b[0m, \u001b[0mKnock\u001b[0m, \u001b[91mNoise\u001b[0m, \u001b[0mKnock\u001b[0m, \u001b[0mKnock\u001b[0m, \u001b[0mNoise\u001b[0m, \u001b[0mKnock\u001b[0m, \u001b[0mKnock\u001b[0m, \u001b[0mKnock\u001b[0m, \u001b[0mKnock\u001b[0m, \u001b[0mNoise\u001b[0m, \u001b[0mKnock\u001b[0m, \u001b[0mKnock\u001b[0m, \u001b[0mKnock\u001b[0m, \u001b[0mKnock\u001b[0m\n",
      "\n",
      "Predicted: \u001b[0mKnock\u001b[0m, \u001b[0mKnock\u001b[0m, \u001b[0mKnock\u001b[0m, \u001b[0mKnock\u001b[0m, \u001b[0mKnock\u001b[0m, \u001b[0mNoise\u001b[0m, \u001b[0mNoise\u001b[0m, \u001b[0mKnock\u001b[0m, \u001b[0mKnock\u001b[0m, \u001b[0mKnock\u001b[0m, \u001b[0mKnock\u001b[0m, \u001b[0mKnock\u001b[0m, \u001b[91mKnock\u001b[0m, \u001b[0mKnock\u001b[0m, \u001b[0mKnock\u001b[0m, \u001b[0mKnock\u001b[0m\n",
      "Actual:    \u001b[0mKnock\u001b[0m, \u001b[0mKnock\u001b[0m, \u001b[0mKnock\u001b[0m, \u001b[0mKnock\u001b[0m, \u001b[0mKnock\u001b[0m, \u001b[0mNoise\u001b[0m, \u001b[0mNoise\u001b[0m, \u001b[0mKnock\u001b[0m, \u001b[0mKnock\u001b[0m, \u001b[0mKnock\u001b[0m, \u001b[0mKnock\u001b[0m, \u001b[0mKnock\u001b[0m, \u001b[91mNoise\u001b[0m, \u001b[0mKnock\u001b[0m, \u001b[0mKnock\u001b[0m, \u001b[0mKnock\u001b[0m\n",
      "\n",
      "Predicted: \u001b[0mKnock\u001b[0m, \u001b[0mKnock\u001b[0m, \u001b[0mKnock\u001b[0m, \u001b[0mKnock\u001b[0m, \u001b[0mKnock\u001b[0m, \u001b[0mNoise\u001b[0m\n",
      "Actual:    \u001b[0mKnock\u001b[0m, \u001b[0mKnock\u001b[0m, \u001b[0mKnock\u001b[0m, \u001b[0mKnock\u001b[0m, \u001b[0mKnock\u001b[0m, \u001b[0mNoise\u001b[0m\n",
      "\n",
      "Accuracy: 0.89, Total items: 102\n"
     ]
    }
   ],
   "source": [
    "model = torch.load('../data/models/V8_model_fullV4.pth')\n",
    "model = model.to(device)\n",
    "\n",
    "inference(model, val_dl)"
   ]
  }
 ],
 "metadata": {
  "kernelspec": {
   "display_name": "Python 3",
   "language": "python",
   "name": "python3"
  },
  "language_info": {
   "codemirror_mode": {
    "name": "ipython",
    "version": 3
   },
   "file_extension": ".py",
   "mimetype": "text/x-python",
   "name": "python",
   "nbconvert_exporter": "python",
   "pygments_lexer": "ipython3",
   "version": "3.11.3"
  }
 },
 "nbformat": 4,
 "nbformat_minor": 2
}
