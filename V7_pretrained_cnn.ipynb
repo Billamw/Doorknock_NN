{
 "cells": [
  {
   "cell_type": "code",
   "execution_count": null,
   "metadata": {},
   "outputs": [],
   "source": []
  },
  {
   "cell_type": "code",
   "execution_count": 1,
   "metadata": {},
   "outputs": [
    {
     "ename": "ModuleNotFoundError",
     "evalue": "No module named 'torchaudio'",
     "output_type": "error",
     "traceback": [
      "\u001b[1;31m---------------------------------------------------------------------------\u001b[0m",
      "\u001b[1;31mModuleNotFoundError\u001b[0m                       Traceback (most recent call last)",
      "Cell \u001b[1;32mIn[1], line 2\u001b[0m\n\u001b[0;32m      1\u001b[0m \u001b[38;5;66;03m# Step 2: Import necessary libraries\u001b[39;00m\n\u001b[1;32m----> 2\u001b[0m \u001b[38;5;28;01mimport\u001b[39;00m \u001b[38;5;21;01mtorchaudio\u001b[39;00m\n\u001b[0;32m      3\u001b[0m \u001b[38;5;28;01mimport\u001b[39;00m \u001b[38;5;21;01mmatplotlib\u001b[39;00m\u001b[38;5;21;01m.\u001b[39;00m\u001b[38;5;21;01mpyplot\u001b[39;00m \u001b[38;5;28;01mas\u001b[39;00m \u001b[38;5;21;01mplt\u001b[39;00m\n\u001b[0;32m      5\u001b[0m \u001b[38;5;66;03m# Step 3: Load an audio file\u001b[39;00m\n",
      "\u001b[1;31mModuleNotFoundError\u001b[0m: No module named 'torchaudio'"
     ]
    }
   ],
   "source": [
    "# Step 2: Import necessary libraries\n",
    "import torchaudio\n",
    "import matplotlib.pyplot as plt\n",
    "\n",
    "# Step 3: Load an audio file\n",
    "filename = \"data/knocks/knock_1.wav\"\n",
    "waveform, sample_rate = torchaudio.load(filename)\n",
    "\n",
    "# Step 4: Transform the audio (example: creating a spectrogram)\n",
    "%time spectrogram_transform = torchaudio.transforms.Spectrogram()\n",
    "%time spectrogram = spectrogram_transform(waveform)\n",
    "\n",
    "# Step 5: Visualize the audio (example: plotting the spectrogram)\n",
    "plt.figure()\n",
    "plt.imshow(spectrogram.log2()[0,:,:].numpy(), cmap='gray')\n",
    "plt.title(\"Spectrogram\")\n",
    "plt.xlabel(\"Time\")\n",
    "plt.ylabel(\"Frequency\")\n",
    "plt.colorbar(format='%+2.0f dB')\n",
    "plt.show()\n",
    "\n",
    "# Step 6: Save the processed audio (if necessary)\n",
    "# Example: Saving the waveform back to a file\n",
    "processed_filename = \"path/to/your/processed/audio/file.wav\"\n",
    "torchaudio.save(processed_filename, waveform, sample_rate)"
   ]
  }
 ],
 "metadata": {
  "kernelspec": {
   "display_name": "Python 3",
   "language": "python",
   "name": "python3"
  },
  "language_info": {
   "codemirror_mode": {
    "name": "ipython",
    "version": 3
   },
   "file_extension": ".py",
   "mimetype": "text/x-python",
   "name": "python",
   "nbconvert_exporter": "python",
   "pygments_lexer": "ipython3",
   "version": "3.11.3"
  }
 },
 "nbformat": 4,
 "nbformat_minor": 2
}
