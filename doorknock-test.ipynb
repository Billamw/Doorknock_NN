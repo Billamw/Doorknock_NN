{
 "cells": [
  {
   "cell_type": "code",
   "execution_count": 1,
   "metadata": {},
   "outputs": [
    {
     "name": "stdout",
     "output_type": "stream",
     "text": [
      "2.3.0+cu118\n",
      "Using device: cuda:0\n"
     ]
    }
   ],
   "source": [
    "import torch\n",
    "import pyaudio\n",
    "import wave\n",
    "import os\n",
    "import time\n",
    "from AudioUtil import AudioUtil\n",
    "from AudioClassifier import AudioClassifier\n",
    "\n",
    "print(torch.__version__)\n",
    "model = AudioClassifier()\n",
    "state_dict = torch.load(\"data/models/V8_model_state_dict.pth\")\n",
    "model.load_state_dict(state_dict)\n",
    "device = torch.device(\"cuda:0\" if torch.cuda.is_available() else \"cpu\")\n",
    "print(f\"Using device: {device}\")\n",
    "model.to(device)\n",
    "model.eval()\n",
    "\n",
    "CHUNK = 1050\n",
    "FORMAT = pyaudio.paInt16\n",
    "CHANNELS = 2\n",
    "RATE = 44100"
   ]
  },
  {
   "cell_type": "code",
   "execution_count": 2,
   "metadata": {},
   "outputs": [],
   "source": [
    "\n",
    "\n",
    "def record_audio(duration=2):\n",
    "    frames = []\n",
    "    p = pyaudio.PyAudio()\n",
    "    stream = p.open(format=FORMAT, channels=CHANNELS, rate=RATE, input=True, frames_per_buffer=CHUNK)\n",
    "    try:\n",
    "        # Calculate the correct number of iterations to cover the duration\n",
    "        num_frames = int((RATE / CHUNK) * duration)\n",
    "        for _ in range(num_frames):\n",
    "            data = stream.read(CHUNK)\n",
    "            frames.append(data)\n",
    "    finally:\n",
    "        stream.stop_stream()\n",
    "        stream.close()\n",
    "        p.terminate()\n",
    "    return frames\n",
    "\n",
    "def save_temp_audio(frames, filename=\"temp_audio.wav\"):\n",
    "    with wave.open(filename, 'wb') as wf:\n",
    "        wf.setnchannels(CHANNELS)\n",
    "        wf.setsampwidth(pyaudio.PyAudio().get_sample_size(FORMAT))\n",
    "        wf.setframerate(RATE)\n",
    "        wf.writeframes(b''.join(frames))\n",
    "\n",
    "def process_audio_file(filename):\n",
    "    aud = AudioUtil.open(filename)\n",
    "    os.remove(filename)\n",
    "    reaud = AudioUtil.resample(aud, RATE)\n",
    "    rechan = AudioUtil.rechannel(reaud, CHANNELS)\n",
    "    dur_aud = AudioUtil.pad_trunc(rechan, 2000)\n",
    "    sgram = AudioUtil.spectro_gram(dur_aud, n_mels=64, n_fft=1024, hop_len=None)\n",
    "    sgram = sgram.to(device)\n",
    "\n",
    "    prediction = model(sgram.unsqueeze(0))\n",
    "    print(f\"Prediction: {prediction.item()}\")\n",
    "    # if prediction > 0.5:\n",
    "    #     print(\"Klopfen erkannt!\")"
   ]
  },
  {
   "cell_type": "code",
   "execution_count": null,
   "metadata": {},
   "outputs": [],
   "source": [
    "print(\"Starte Klopfen-Erkennung...\")\n",
    "while True:\n",
    "    start_time = time.time()\n",
    "    frames = record_audio()\n",
    "    save_temp_audio(frames)\n",
    "    process_audio_file(\"temp_audio.wav\")\n",
    "    print(f\"Time taken: {time.time() - start_time}\")"
   ]
  }
 ],
 "metadata": {
  "kernelspec": {
   "display_name": "Python 3",
   "language": "python",
   "name": "python3"
  },
  "language_info": {
   "codemirror_mode": {
    "name": "ipython",
    "version": 3
   },
   "file_extension": ".py",
   "mimetype": "text/x-python",
   "name": "python",
   "nbconvert_exporter": "python",
   "pygments_lexer": "ipython3",
   "version": "3.11.3"
  }
 },
 "nbformat": 4,
 "nbformat_minor": 2
}
