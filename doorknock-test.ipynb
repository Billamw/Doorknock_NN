{
 "cells": [
  {
   "cell_type": "code",
   "execution_count": 3,
   "metadata": {},
   "outputs": [
    {
     "name": "stdout",
     "output_type": "stream",
     "text": [
      "2.3.0+cu118\n",
      "Starte Klopfen-Erkennung...\n",
      "<class 'torch.Tensor'>\n"
     ]
    },
    {
     "ename": "TypeError",
     "evalue": "'collections.OrderedDict' object is not callable",
     "output_type": "error",
     "traceback": [
      "\u001b[1;31m---------------------------------------------------------------------------\u001b[0m",
      "\u001b[1;31mTypeError\u001b[0m                                 Traceback (most recent call last)",
      "Cell \u001b[1;32mIn[3], line 57\u001b[0m\n\u001b[0;32m     55\u001b[0m frames \u001b[38;5;241m=\u001b[39m record_audio()\n\u001b[0;32m     56\u001b[0m save_temp_audio(frames)\n\u001b[1;32m---> 57\u001b[0m \u001b[43mprocess_audio_file\u001b[49m\u001b[43m(\u001b[49m\u001b[38;5;124;43m\"\u001b[39;49m\u001b[38;5;124;43mtemp_audio.wav\u001b[39;49m\u001b[38;5;124;43m\"\u001b[39;49m\u001b[43m)\u001b[49m\n\u001b[0;32m     58\u001b[0m \u001b[38;5;28mprint\u001b[39m(\u001b[38;5;124mf\u001b[39m\u001b[38;5;124m\"\u001b[39m\u001b[38;5;124mTime taken: \u001b[39m\u001b[38;5;132;01m{\u001b[39;00mtime\u001b[38;5;241m.\u001b[39mtime()\u001b[38;5;250m \u001b[39m\u001b[38;5;241m-\u001b[39m\u001b[38;5;250m \u001b[39mstart_time\u001b[38;5;132;01m}\u001b[39;00m\u001b[38;5;124m\"\u001b[39m)\n",
      "Cell \u001b[1;32mIn[3], line 48\u001b[0m, in \u001b[0;36mprocess_audio_file\u001b[1;34m(filename)\u001b[0m\n\u001b[0;32m     46\u001b[0m sgram \u001b[38;5;241m=\u001b[39m AudioUtil\u001b[38;5;241m.\u001b[39mspectro_gram(dur_aud, n_mels\u001b[38;5;241m=\u001b[39m\u001b[38;5;241m64\u001b[39m, n_fft\u001b[38;5;241m=\u001b[39m\u001b[38;5;241m1024\u001b[39m, hop_len\u001b[38;5;241m=\u001b[39m\u001b[38;5;28;01mNone\u001b[39;00m)\n\u001b[0;32m     47\u001b[0m \u001b[38;5;28mprint\u001b[39m(\u001b[38;5;28mtype\u001b[39m(sgram))\n\u001b[1;32m---> 48\u001b[0m prediction \u001b[38;5;241m=\u001b[39m \u001b[43mmodel\u001b[49m\u001b[43m(\u001b[49m\u001b[43msgram\u001b[49m\u001b[43m)\u001b[49m\n\u001b[0;32m     49\u001b[0m \u001b[38;5;28;01mif\u001b[39;00m prediction \u001b[38;5;241m>\u001b[39m \u001b[38;5;241m0.5\u001b[39m:\n\u001b[0;32m     50\u001b[0m     \u001b[38;5;28mprint\u001b[39m(\u001b[38;5;124m\"\u001b[39m\u001b[38;5;124mKlopfen erkannt!\u001b[39m\u001b[38;5;124m\"\u001b[39m)\n",
      "\u001b[1;31mTypeError\u001b[0m: 'collections.OrderedDict' object is not callable"
     ]
    }
   ],
   "source": [
    "import torch\n",
    "import pyaudio\n",
    "import wave\n",
    "import os\n",
    "import time\n",
    "from AudioUtil import AudioUtil\n",
    "\n",
    "print(torch.__version__)\n",
    "\n",
    "model = torch.load(\"data/models/V8_model.pth\")\n",
    "model.eval()\n",
    "\n",
    "CHUNK = 1050\n",
    "FORMAT = pyaudio.paInt16\n",
    "CHANNELS = 2\n",
    "RATE = 44100\n",
    "\n",
    "def record_audio(duration=2):\n",
    "    frames = []\n",
    "    p = pyaudio.PyAudio()\n",
    "    stream = p.open(format=FORMAT, channels=CHANNELS, rate=RATE, input=True, frames_per_buffer=CHUNK)\n",
    "    try:\n",
    "        # Calculate the correct number of iterations to cover the duration\n",
    "        num_frames = int((RATE / CHUNK) * duration)\n",
    "        for _ in range(num_frames):\n",
    "            data = stream.read(CHUNK)\n",
    "            frames.append(data)\n",
    "    finally:\n",
    "        stream.stop_stream()\n",
    "        stream.close()\n",
    "        p.terminate()\n",
    "    return frames\n",
    "\n",
    "def save_temp_audio(frames, filename=\"temp_audio.wav\"):\n",
    "    with wave.open(filename, 'wb') as wf:\n",
    "        wf.setnchannels(CHANNELS)\n",
    "        wf.setsampwidth(pyaudio.PyAudio().get_sample_size(FORMAT))\n",
    "        wf.setframerate(RATE)\n",
    "        wf.writeframes(b''.join(frames))\n",
    "\n",
    "def process_audio_file(filename):\n",
    "    aud = AudioUtil.open(filename)\n",
    "    os.remove(filename)\n",
    "    reaud = AudioUtil.resample(aud, RATE)\n",
    "    rechan = AudioUtil.rechannel(reaud, CHANNELS)\n",
    "    dur_aud = AudioUtil.pad_trunc(rechan, 2000)\n",
    "    sgram = AudioUtil.spectro_gram(dur_aud, n_mels=64, n_fft=1024, hop_len=None)\n",
    "\n",
    "    prediction = model(sgram)\n",
    "    if prediction > 0.5:\n",
    "        print(\"Klopfen erkannt!\")\n",
    "\n",
    "print(\"Starte Klopfen-Erkennung...\")\n",
    "while True:\n",
    "    start_time = time.time()\n",
    "    frames = record_audio()\n",
    "    save_temp_audio(frames)\n",
    "    process_audio_file(\"temp_audio.wav\")\n",
    "    print(f\"Time taken: {time.time() - start_time}\")"
   ]
  }
 ],
 "metadata": {
  "kernelspec": {
   "display_name": "Python 3",
   "language": "python",
   "name": "python3"
  },
  "language_info": {
   "codemirror_mode": {
    "name": "ipython",
    "version": 3
   },
   "file_extension": ".py",
   "mimetype": "text/x-python",
   "name": "python",
   "nbconvert_exporter": "python",
   "pygments_lexer": "ipython3",
   "version": "3.11.3"
  }
 },
 "nbformat": 4,
 "nbformat_minor": 2
}
