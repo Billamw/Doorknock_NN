{
 "cells": [
  {
   "cell_type": "code",
   "execution_count": 17,
   "metadata": {},
   "outputs": [
    {
     "name": "stdout",
     "output_type": "stream",
     "text": [
      "(20, 87) 20 87\n",
      "(1, 20, 87) 1 20\n"
     ]
    }
   ],
   "source": [
    "import librosa\n",
    "import torch\n",
    "import numpy as np\n",
    "import os\n",
    "\n",
    "# Definieren der Variablen\n",
    "source_dirs = [\"data/knocks\", \"data/knocks_with_noise\", \"data/noises\"]\n",
    "\n",
    "# Durchlaufen des Ordners und Vorverarbeiten der Audiodateien\n",
    "data = []\n",
    "labels = []\n",
    "for source_dir in source_dirs:\n",
    "    for filename in os.listdir(source_dir):\n",
    "        filepath = os.path.join(source_dir, filename)\n",
    "        \n",
    "        # Ignorieren von Verzeichnissen\n",
    "        if os.path.isdir(filepath):\n",
    "            continue\n",
    "        \n",
    "        # Audio laden\n",
    "        y, sr = librosa.load(filepath)\n",
    "\n",
    "        # Berechnen von MFCCs\n",
    "        mfcc = librosa.feature.mfcc(y=y, sr=sr)\n",
    "\n",
    "        print(mfcc.shape, len(mfcc), len(mfcc[0]))\n",
    "\n",
    "        # Hinzufügen einer Kanaldimension\n",
    "        mfcc = np.expand_dims(mfcc, axis=0)\n",
    "        print(mfcc.shape, len(mfcc), len(mfcc[0]))\n",
    "\n",
    "\n",
    "        data.append(mfcc)\n",
    "        labels.append(1 if filename.startswith(\"knock\") else 0)\n",
    "\n",
    "\n",
    "from torch.utils.data import Dataset\n",
    "\n",
    "class AudioDataset(Dataset):\n",
    "    def __init__(self, data, labels, transform=None):\n",
    "        self.data = data\n",
    "        self.labels = labels\n",
    "        self.transform = transform\n",
    "\n",
    "    def __len__(self):\n",
    "        return len(self.data)\n",
    "\n",
    "    def __getitem__(self, idx):\n",
    "        sample = self.data[idx]\n",
    "        if self.transform:\n",
    "            sample = self.transform(sample)\n",
    "        return sample, self.labels[idx]\n",
    "    \n",
    "from torchvision import transforms\n",
    "\n",
    "# Definieren der Transformation\n",
    "transform = transforms.Compose([\n",
    "    transforms.ToTensor(),\n",
    "    transforms.Normalize((0.5,), (0.5,))\n",
    "])\n",
    "    \n",
    "dataset = AudioDataset(data, labels, transform=transform)\n",
    "# Speichern des Datasets\n",
    "torch.save(dataset, 'dataset.pth')"
   ]
  },
  {
   "cell_type": "code",
   "execution_count": 18,
   "metadata": {},
   "outputs": [
    {
     "name": "stdout",
     "output_type": "stream",
     "text": [
      "<class '__main__.AudioDataset'>\n",
      "<class 'tuple'>\n",
      "(tensor([[[-1.2745e+03,  2.3464e+02, -2.7337e+01,  ...,  4.8698e+00,\n",
      "          -1.0860e+00,  1.0392e+01]],\n",
      "\n",
      "        [[-1.2037e+03,  2.3812e+02, -2.9034e+01,  ...,  1.4742e+00,\n",
      "           2.0559e+00,  8.2397e+00]],\n",
      "\n",
      "        [[-1.1983e+03,  2.4000e+02, -3.1538e+01,  ..., -5.7936e-01,\n",
      "          -2.9374e+00,  6.7674e+00]],\n",
      "\n",
      "        ...,\n",
      "\n",
      "        [[-1.1934e+03,  2.5568e+02, -1.3737e+01,  ...,  6.0407e-01,\n",
      "          -9.4601e+00,  9.7316e+00]],\n",
      "\n",
      "        [[-1.2061e+03,  2.4852e+02, -7.8982e+00,  ...,  4.9105e+00,\n",
      "          -9.9413e+00,  2.6640e+00]],\n",
      "\n",
      "        [[-1.2610e+03,  2.4565e+02, -8.5355e+00,  ..., -9.6243e-01,\n",
      "          -1.0896e+01,  8.8208e+00]]]), 1)\n"
     ]
    }
   ],
   "source": [
    "from torchvision import transforms\n",
    "\n",
    "dataset = torch.load('dataset.pth')\n",
    "print(type(dataset), len(dataset))\n",
    "print(type(dataset.__getitem__(0)))\n",
    "print(dataset.__getitem__(0))\n",
    "\n"
   ]
  }
 ],
 "metadata": {
  "kernelspec": {
   "display_name": "Python 3",
   "language": "python",
   "name": "python3"
  },
  "language_info": {
   "codemirror_mode": {
    "name": "ipython",
    "version": 3
   },
   "file_extension": ".py",
   "mimetype": "text/x-python",
   "name": "python",
   "nbconvert_exporter": "python",
   "pygments_lexer": "ipython3",
   "version": "3.11.3"
  }
 },
 "nbformat": 4,
 "nbformat_minor": 2
}
