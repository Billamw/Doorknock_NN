{
 "cells": [
  {
   "cell_type": "code",
   "execution_count": 14,
   "metadata": {},
   "outputs": [
    {
     "ename": "AttributeError",
     "evalue": "No librosa attribute output",
     "output_type": "error",
     "traceback": [
      "\u001b[1;31m---------------------------------------------------------------------------\u001b[0m",
      "\u001b[1;31mAttributeError\u001b[0m                            Traceback (most recent call last)",
      "Cell \u001b[1;32mIn[14], line 59\u001b[0m\n\u001b[0;32m     56\u001b[0m output_filepath \u001b[38;5;241m=\u001b[39m os\u001b[38;5;241m.\u001b[39mpath\u001b[38;5;241m.\u001b[39mjoin(source_dir, output_filename)\n\u001b[0;32m     58\u001b[0m \u001b[38;5;66;03m# Speichern des augmentierten Signals\u001b[39;00m\n\u001b[1;32m---> 59\u001b[0m \u001b[43mlibrosa\u001b[49m\u001b[38;5;241;43m.\u001b[39;49m\u001b[43moutput\u001b[49m\u001b[38;5;241m.\u001b[39mwrite_wav(output_filepath, augmented_signal, sr)\n",
      "File \u001b[1;32mc:\\Python311\\Lib\\site-packages\\lazy_loader\\__init__.py:89\u001b[0m, in \u001b[0;36mattach.<locals>.__getattr__\u001b[1;34m(name)\u001b[0m\n\u001b[0;32m     87\u001b[0m     \u001b[38;5;28;01mreturn\u001b[39;00m attr\n\u001b[0;32m     88\u001b[0m \u001b[38;5;28;01melse\u001b[39;00m:\n\u001b[1;32m---> 89\u001b[0m     \u001b[38;5;28;01mraise\u001b[39;00m \u001b[38;5;167;01mAttributeError\u001b[39;00m(\u001b[38;5;124mf\u001b[39m\u001b[38;5;124m\"\u001b[39m\u001b[38;5;124mNo \u001b[39m\u001b[38;5;132;01m{\u001b[39;00mpackage_name\u001b[38;5;132;01m}\u001b[39;00m\u001b[38;5;124m attribute \u001b[39m\u001b[38;5;132;01m{\u001b[39;00mname\u001b[38;5;132;01m}\u001b[39;00m\u001b[38;5;124m\"\u001b[39m)\n",
      "\u001b[1;31mAttributeError\u001b[0m: No librosa attribute output"
     ]
    }
   ],
   "source": [
    "import librosa\n",
    "import numpy as np\n",
    "import os\n",
    "import soundfile as sf\n",
    "\n",
    "# Definieren der Variablen\n",
    "source_dir = \"path_to_output_directory\"\n",
    "\n",
    "# Durchlaufen des Ordners und Vorverarbeiten der Audiodateien\n",
    "data = []\n",
    "labels = []\n",
    "for filename in os.listdir(source_dir):\n",
    "    filepath = os.path.join(source_dir, filename)\n",
    "    \n",
    "    # Ignorieren von Verzeichnissen\n",
    "    if os.path.isdir(filepath):\n",
    "        continue\n",
    "\n",
    "    # Laden der Audiodatei\n",
    "    y, sr = librosa.load(filepath)\n",
    "    y_norm = y / np.max(np.abs(y))\n",
    "\n",
    "    indices = np.where(np.abs(y_norm) > 0.1)[0]\n",
    "\n",
    "    # Extrahieren des Bereichs von dem ersten bis zum letzten Index, wo das Signal größer als 0,1 ist\n",
    "    if len(indices) > 0:\n",
    "        start_index = indices[0]\n",
    "        end_index = indices[-1]\n",
    "        y_extracted = y[start_index:end_index+1]\n",
    "    else:\n",
    "        print(\"Kein Signal größer als 0,1 gefunden.\")\n",
    "    \n",
    "    # Erstellen von 5 Arrays der Länge von y und Einfügen von y_extracted an zufälligen Positionen\n",
    "    augmented_signals = []\n",
    "    for _ in range(10):\n",
    "        # Erstellen eines neuen Arrays mit der gleichen Länge wie y, gefüllt mit Nullen\n",
    "        augmented_signal = np.zeros_like(y)\n",
    "\n",
    "        # Generieren einer zufälligen Startposition für y_extracted\n",
    "        start_pos = np.random.randint(0, len(y) - len(y_extracted) + 1)\n",
    "\n",
    "        # Einfügen von y_extracted an der zufälligen Position\n",
    "        augmented_signal[start_pos:start_pos + len(y_extracted)] = y_extracted\n",
    "\n",
    "        # Hinzufügen des augmentierten Signals zur Liste\n",
    "        augmented_signals.append(augmented_signal)\n",
    "\n",
    "    # Speichern der augmentierten Signale\n",
    "    for i, augmented_signal in enumerate(augmented_signals):\n",
    "        # Erstellen des Dateinamens\n",
    "        output_filename = f\"{filename}_var{i}.wav\"\n",
    "\n",
    "        # Erstellen des vollständigen Pfads zur Ausgabedatei\n",
    "        output_filepath = os.path.join(source_dir, output_filename)\n",
    "\n",
    "        # Speichern des augmentierten Signals\n",
    "        sf.write(output_filepath, augmented_signal, sr)\n",
    "        \n",
    "\n",
    "    "
   ]
  }
 ],
 "metadata": {
  "kernelspec": {
   "display_name": "Python 3",
   "language": "python",
   "name": "python3"
  },
  "language_info": {
   "codemirror_mode": {
    "name": "ipython",
    "version": 3
   },
   "file_extension": ".py",
   "mimetype": "text/x-python",
   "name": "python",
   "nbconvert_exporter": "python",
   "pygments_lexer": "ipython3",
   "version": "3.11.3"
  }
 },
 "nbformat": 4,
 "nbformat_minor": 2
}
