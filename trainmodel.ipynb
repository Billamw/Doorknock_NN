{
    "cells": [
        {
            "cell_type": "code",
            "execution_count": 1,
            "metadata": {},
            "outputs": [
                {
                    "name": "stdout",
                    "output_type": "stream",
                    "text": [
                        "2.2.2+cpu\n",
                        "defining model\n"
                    ]
                }
            ],
            "source": [
                "import torch\n",
                "import torch.nn as nn\n",
                "import torch.nn.functional as F\n",
                "\n",
                "\n",
                "# Erstellen des CNN-Modells\n",
                "print(\"defining model\")\n",
                "class CNN(nn.Module):\n",
                "    def __init__(self):\n",
                "        super().__init__()\n",
                "        self.conv1 = nn.Conv1d(1, 32, (3, 3))\n",
                "        self.pool1 = nn.MaxPool1d((2, 2))\n",
                "        self.conv2 = nn.Conv1d(32, 64, (3, 3))\n",
                "        self.pool2 = nn.MaxPool1d((2, 2))\n",
                "        self.fc1 = nn.Linear(64 * 4 * 4, 128)\n",
                "        self.fc2 = nn.Linear(128, 1)\n",
                "\n",
                "    def forward(self, x):\n",
                "        x = self.pool1(F.relu(self.conv1(x)))\n",
                "        x = self.pool2(F.relu(self.conv2(x)))\n",
                "        x = x.view(-1, 64 * 4 * 4)\n",
                "        x = F.relu(self.fc1(x))\n",
                "        x = torch.sigmoid(self.fc2(x))\n",
                "        return x\n",
                "\n",
                "# Initialisieren des Modells\n",
                "model = CNN()\n",
                "\n",
                "# Definieren des Optimierers und der Verlustfunktion\n",
                "optimizer = torch.optim.Adam(model.parameters(), lr=0.001)\n",
                "criterion = nn.CrossEntropyLoss()"
            ]
        },
        {
            "cell_type": "code",
            "execution_count": null,
            "metadata": {},
            "outputs": [],
            "source": [
                "print(\"training model\")\n",
                "# Trainieren des Modells\n",
                "for epoch in range(10):\n",
                "    # Trainieren des Modells mit einem Batch\n",
                "    outputs = model(X_train)\n",
                "    loss = criterion(outputs, y_train)\n",
                "    optimizer.zero_grad()\n",
                "    loss.backward()\n",
                "    optimizer.step()\n",
                "\n",
                "    # Drucken des Verlusts\n",
                "    print(f\"Epoch {epoch + 1}: {loss.item()}\")\n",
                "\n",
                "\n",
                "# # Bewertung des Modells\n",
                "# with torch.no_grad():\n",
                "#     outputs = model(X_test)\n",
                "#     _, predicted = torch.max(outputs.data, 1)\n",
                "#     accuracy = (predicted == y_test).sum().item() / len(y_test)\n",
                "\n",
                "# print(f\"Accuracy: {accuracy}\")\n",
                "\n",
                "# Speichern des Modells\n",
                "torch.save(model.state_dict(), \"model.pt\")\n"
            ]
        }
    ],
    "metadata": {
        "kernelspec": {
            "display_name": "Python 3",
            "language": "python",
            "name": "python3"
        },
        "language_info": {
            "codemirror_mode": {
                "name": "ipython",
                "version": 3
            },
            "file_extension": ".py",
            "mimetype": "text/x-python",
            "name": "python",
            "nbconvert_exporter": "python",
            "pygments_lexer": "ipython3",
            "version": "3.11.3"
        }
    },
    "nbformat": 4,
    "nbformat_minor": 2
}
