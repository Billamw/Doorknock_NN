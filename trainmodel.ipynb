{
    "cells": [
        {
            "cell_type": "code",
            "execution_count": 7,
            "metadata": {},
            "outputs": [
                {
                    "ename": "TypeError",
                    "evalue": "only integer tensors of a single element can be converted to an index",
                    "output_type": "error",
                    "traceback": [
                        "\u001b[1;31m---------------------------------------------------------------------------\u001b[0m",
                        "\u001b[1;31mTypeError\u001b[0m                                 Traceback (most recent call last)",
                        "Cell \u001b[1;32mIn[7], line 27\u001b[0m\n\u001b[0;32m     25\u001b[0m test_size \u001b[38;5;241m=\u001b[39m \u001b[38;5;28mlen\u001b[39m(dataset) \u001b[38;5;241m-\u001b[39m train_size\n\u001b[0;32m     26\u001b[0m train_dataset, test_dataset \u001b[38;5;241m=\u001b[39m torch\u001b[38;5;241m.\u001b[39mutils\u001b[38;5;241m.\u001b[39mdata\u001b[38;5;241m.\u001b[39mrandom_split(dataset, [train_size, test_size])\n\u001b[1;32m---> 27\u001b[0m X_train, y_train \u001b[38;5;241m=\u001b[39m \u001b[43mtrain_dataset\u001b[49m\u001b[38;5;241;43m.\u001b[39;49m\u001b[43mdataset\u001b[49m\u001b[43m[\u001b[49m\u001b[43mtorch\u001b[49m\u001b[38;5;241;43m.\u001b[39;49m\u001b[43mtensor\u001b[49m\u001b[43m(\u001b[49m\u001b[43mtrain_dataset\u001b[49m\u001b[38;5;241;43m.\u001b[39;49m\u001b[43mindices\u001b[49m\u001b[43m)\u001b[49m\u001b[43m]\u001b[49m\n\u001b[0;32m     28\u001b[0m X_test, y_test \u001b[38;5;241m=\u001b[39m test_dataset\u001b[38;5;241m.\u001b[39mdataset[torch\u001b[38;5;241m.\u001b[39mtensor(test_dataset\u001b[38;5;241m.\u001b[39mindices)]\n\u001b[0;32m     32\u001b[0m \u001b[38;5;66;03m# Erstellen des CNN-Modells\u001b[39;00m\n",
                        "Cell \u001b[1;32mIn[7], line 17\u001b[0m, in \u001b[0;36mAudioDataset.__getitem__\u001b[1;34m(self, idx)\u001b[0m\n\u001b[0;32m     16\u001b[0m \u001b[38;5;28;01mdef\u001b[39;00m \u001b[38;5;21m__getitem__\u001b[39m(\u001b[38;5;28mself\u001b[39m, idx):\n\u001b[1;32m---> 17\u001b[0m     sample \u001b[38;5;241m=\u001b[39m \u001b[38;5;28;43mself\u001b[39;49m\u001b[38;5;241;43m.\u001b[39;49m\u001b[43mdata\u001b[49m\u001b[43m[\u001b[49m\u001b[43midx\u001b[49m\u001b[43m]\u001b[49m\n\u001b[0;32m     18\u001b[0m     \u001b[38;5;28;01mif\u001b[39;00m \u001b[38;5;28mself\u001b[39m\u001b[38;5;241m.\u001b[39mtransform:\n\u001b[0;32m     19\u001b[0m         sample \u001b[38;5;241m=\u001b[39m \u001b[38;5;28mself\u001b[39m\u001b[38;5;241m.\u001b[39mtransform(sample)\n",
                        "\u001b[1;31mTypeError\u001b[0m: only integer tensors of a single element can be converted to an index"
                    ]
                }
            ],
            "source": [
                "import torch\n",
                "import torch.nn as nn\n",
                "import torch.nn.functional as F\n",
                "\n",
                "from torch.utils.data import Dataset\n",
                "\n",
                "class AudioDataset(Dataset):\n",
                "    def __init__(self, data, labels, transform=None):\n",
                "        self.data = data\n",
                "        self.labels = labels\n",
                "        self.transform = transform\n",
                "\n",
                "    def __len__(self):\n",
                "        return len(self.data)\n",
                "\n",
                "    def __getitem__(self, idx):\n",
                "        sample = self.data[idx]\n",
                "        if self.transform:\n",
                "            sample = self.transform(sample)\n",
                "        return sample, self.labels[idx]\n",
                "\n",
                "\n",
                "dataset = torch.load('dataset.pth')\n",
                "train_size = int(0.8 * len(dataset))\n",
                "test_size = len(dataset) - train_size\n",
                "train_dataset, test_dataset = torch.utils.data.random_split(dataset, [train_size, test_size])\n",
                "X_train, y_train = train_dataset.dataset[torch.tensor(train_dataset.indices)]\n",
                "X_test, y_test = test_dataset.dataset[torch.tensor(test_dataset.indices)]\n",
                "\n",
                "\n",
                "\n",
                "# Erstellen des CNN-Modells\n",
                "print(\"defining model\")\n",
                "class CNN(nn.Module):\n",
                "    def __init__(self):\n",
                "        super().__init__()\n",
                "        self.conv1 = nn.Conv1d(1, 32, (3, 3))\n",
                "        self.pool1 = nn.MaxPool1d((2, 2))\n",
                "        self.conv2 = nn.Conv1d(32, 64, (3, 3))\n",
                "        self.pool2 = nn.MaxPool1d((2, 2))\n",
                "        self.fc1 = nn.Linear(64 * 4 * 4, 128)\n",
                "        self.fc2 = nn.Linear(128, 1)\n",
                "\n",
                "    def forward(self, x):\n",
                "        x = self.pool1(F.relu(self.conv1(x)))\n",
                "        x = self.pool2(F.relu(self.conv2(x)))\n",
                "        x = x.view(-1, 64 * 4 * 4)\n",
                "        x = F.relu(self.fc1(x))\n",
                "        x = torch.sigmoid(self.fc2(x))\n",
                "        return x\n",
                "\n",
                "# Initialisieren des Modells\n",
                "model = CNN()\n",
                "\n",
                "# Definieren des Optimierers und der Verlustfunktion\n",
                "optimizer = torch.optim.Adam(model.parameters(), lr=0.001)\n",
                "criterion = nn.CrossEntropyLoss()"
            ]
        },
        {
            "cell_type": "code",
            "execution_count": null,
            "metadata": {},
            "outputs": [],
            "source": [
                "print(\"training model\")\n",
                "# Trainieren des Modells\n",
                "for epoch in range(10):\n",
                "    # Trainieren des Modells mit einem Batch\n",
                "    outputs = model(X_train)\n",
                "    loss = criterion(outputs, y_train)\n",
                "    optimizer.zero_grad()\n",
                "    loss.backward()\n",
                "    optimizer.step()\n",
                "\n",
                "    # Drucken des Verlusts\n",
                "    print(f\"Epoch {epoch + 1}: {loss.item()}\")\n",
                "\n",
                "\n",
                "# # Bewertung des Modells\n",
                "# with torch.no_grad():\n",
                "#     outputs = model(X_test)\n",
                "#     _, predicted = torch.max(outputs.data, 1)\n",
                "#     accuracy = (predicted == y_test).sum().item() / len(y_test)\n",
                "\n",
                "# print(f\"Accuracy: {accuracy}\")\n",
                "\n",
                "# Speichern des Modells\n",
                "torch.save(model.state_dict(), \"model.pt\")\n"
            ]
        }
    ],
    "metadata": {
        "kernelspec": {
            "display_name": "Python 3",
            "language": "python",
            "name": "python3"
        },
        "language_info": {
            "codemirror_mode": {
                "name": "ipython",
                "version": 3
            },
            "file_extension": ".py",
            "mimetype": "text/x-python",
            "name": "python",
            "nbconvert_exporter": "python",
            "pygments_lexer": "ipython3",
            "version": "3.11.3"
        }
    },
    "nbformat": 4,
    "nbformat_minor": 2
}
