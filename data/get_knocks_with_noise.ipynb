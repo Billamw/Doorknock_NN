{
 "cells": [
  {
   "cell_type": "code",
   "execution_count": 14,
   "metadata": {},
   "outputs": [],
   "source": [
    "import librosa\n",
    "import os\n",
    "import random\n",
    "import soundfile as sf\n",
    "\n",
    "knock_folder = \"knocks\"\n",
    "noise_folder = \"noises\"\n",
    "result_folder = \"knocks_with_noise\"\n",
    "num_files = 50\n",
    "\n",
    "files_knock = os.listdir(knock_folder)\n",
    "files_noise = os.listdir(noise_folder)\n",
    "\n",
    "random_files_knock = random.sample(files_knock, num_files)\n",
    "random_files_noise = random.sample(files_noise, num_files)\n",
    "\n",
    "\n",
    "for file_knock, file_noise in zip(random_files_knock, random_files_noise):\n",
    "\n",
    "    file_path_knock = os.path.join(knock_folder, file_knock)\n",
    "    file_path_noise = os.path.join(noise_folder, file_noise)\n",
    "    array_knock, _ = librosa.load(file_path_knock, sr=None)\n",
    "    array_noise, _ = librosa.load(file_path_noise, sr=_)\n",
    "    array_overlapped = array_knock + array_noise\n",
    "\n",
    "    file = \"knocks_with_noise_\" + str(len(os.listdir(result_folder))) + \".wav\"\n",
    "    result_file_path = os.path.join(result_folder, file)\n",
    "    sf.write(result_file_path, array_overlapped, _)\n",
    "    "
   ]
  }
 ],
 "metadata": {
  "kernelspec": {
   "display_name": "Python 3",
   "language": "python",
   "name": "python3"
  },
  "language_info": {
   "codemirror_mode": {
    "name": "ipython",
    "version": 3
   },
   "file_extension": ".py",
   "mimetype": "text/x-python",
   "name": "python",
   "nbconvert_exporter": "python",
   "pygments_lexer": "ipython3",
   "version": "3.11.3"
  }
 },
 "nbformat": 4,
 "nbformat_minor": 2
}
