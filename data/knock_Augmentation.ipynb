{
 "cells": [
  {
   "cell_type": "markdown",
   "metadata": {},
   "source": [
    "# Utlis"
   ]
  },
  {
   "cell_type": "code",
   "execution_count": 2,
   "metadata": {},
   "outputs": [],
   "source": [
    "import librosa\n",
    "import numpy as np\n",
    "import os\n",
    "import soundfile as sf\n",
    "\n",
    "# Definieren der Variablen\n",
    "source_dir = \"knocks\"\n"
   ]
  },
  {
   "cell_type": "markdown",
   "metadata": {},
   "source": [
    "# Generating augmented Data"
   ]
  },
  {
   "cell_type": "markdown",
   "metadata": {},
   "source": [
    "TODO: The augmented Knocks use to have a length of 44100 while any other audio file has a length of 88200 (all files are 2 seconds)"
   ]
  },
  {
   "cell_type": "code",
   "execution_count": 6,
   "metadata": {},
   "outputs": [
    {
     "name": "stdout",
     "output_type": "stream",
     "text": [
      "finished!\n"
     ]
    }
   ],
   "source": [
    "# Durchlaufen des Ordners und Vorverarbeiten der Audiodateien\n",
    "data = []\n",
    "labels = []\n",
    "for filename in os.listdir(source_dir):\n",
    "    filepath = os.path.join(source_dir, filename)\n",
    "    \n",
    "    # Ignorieren von Verzeichnissen\n",
    "    if os.path.isdir(filepath):\n",
    "        continue\n",
    "\n",
    "    # Laden der Audiodatei\n",
    "    y, sr = librosa.load(filepath, sr=44100)\n",
    "    y_norm = y / np.max(np.abs(y))\n",
    "\n",
    "    indices = np.where(np.abs(y_norm) > 0.1)[0]\n",
    "\n",
    "    # Extrahieren des Bereichs von dem ersten bis zum letzten Index, wo das Signal größer als 0,1 ist\n",
    "    if len(indices) > 0:\n",
    "        start_index = indices[0]\n",
    "        end_index = indices[-1]\n",
    "        y_extracted = y[start_index:end_index+1]\n",
    "    else:\n",
    "        print(\"Kein Signal größer als 0,1 gefunden.\")\n",
    "    \n",
    "    # Erstellen von 5 Arrays der Länge von y und Einfügen von y_extracted an zufälligen Positionen\n",
    "    augmented_signals = []\n",
    "    for _ in range(10):\n",
    "        # Erstellen eines neuen Arrays mit der gleichen Länge wie y, gefüllt mit Nullen\n",
    "        augmented_signal = np.zeros_like(y)\n",
    "\n",
    "        # Generieren einer zufälligen Startposition für y_extracted\n",
    "        start_pos = np.random.randint(0, len(y) - len(y_extracted) + 1)\n",
    "\n",
    "        # Einfügen von y_extracted an der zufälligen Position\n",
    "        augmented_signal[start_pos:start_pos + len(y_extracted)] = y_extracted\n",
    "\n",
    "        # Hinzufügen des augmentierten Signals zur Liste\n",
    "        augmented_signals.append(augmented_signal)\n",
    "\n",
    "    # Speichern der augmentierten Signale\n",
    "    for i, augmented_signal in enumerate(augmented_signals):\n",
    "        # Erstellen des Dateinamens\n",
    "        filename_part = filename.split(\".\")[0]\n",
    "        output_filename = f\"{filename_part}_var{i}.wav\"\n",
    "\n",
    "        # Erstellen des vollständigen Pfads zur Ausgabedatei\n",
    "        output_filepath = os.path.join(source_dir, output_filename)\n",
    "        # Speichern des augmentierten Signals\n",
    "        sf.write(output_filepath, augmented_signal, sr)\n",
    "\n",
    "print(\"finished!\")\n",
    "        \n",
    "\n",
    "    "
   ]
  },
  {
   "cell_type": "code",
   "execution_count": 5,
   "metadata": {},
   "outputs": [
    {
     "data": {
      "text/plain": [
       "88200"
      ]
     },
     "execution_count": 5,
     "metadata": {},
     "output_type": "execute_result"
    }
   ],
   "source": [
    "\n",
    "len(augmented_signals[0])"
   ]
  },
  {
   "cell_type": "markdown",
   "metadata": {},
   "source": [
    "# Deleting augmented Data"
   ]
  },
  {
   "cell_type": "code",
   "execution_count": 3,
   "metadata": {},
   "outputs": [],
   "source": [
    "import os\n",
    "\n",
    "for filename in os.listdir(source_dir):\n",
    "    if \"var\" in filename:\n",
    "        file_path = os.path.join(source_dir, filename)\n",
    "        os.remove(file_path)\n"
   ]
  }
 ],
 "metadata": {
  "kernelspec": {
   "display_name": "Python 3",
   "language": "python",
   "name": "python3"
  },
  "language_info": {
   "codemirror_mode": {
    "name": "ipython",
    "version": 3
   },
   "file_extension": ".py",
   "mimetype": "text/x-python",
   "name": "python",
   "nbconvert_exporter": "python",
   "pygments_lexer": "ipython3",
   "version": "3.11.3"
  }
 },
 "nbformat": 4,
 "nbformat_minor": 2
}
