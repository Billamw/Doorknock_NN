{
 "cells": [
  {
   "cell_type": "markdown",
   "metadata": {},
   "source": [
    "https://towardsdatascience.com/audio-deep-learning-made-simple-sound-classification-step-by-step-cebc936bbe5"
   ]
  },
  {
   "cell_type": "code",
   "execution_count": 23,
   "metadata": {},
   "outputs": [],
   "source": [
    "import torch\n",
    "import random\n",
    "import torchaudio\n",
    "from torchaudio import transforms\n",
    "import os\n",
    "from torch.utils.data import DataLoader, Dataset\n",
    "from AudioUtil import AudioUtil\n",
    "\n",
    "# ----------------------------\n",
    "# Sound Dataset\n",
    "# ----------------------------\n",
    "class SoundDS(Dataset):\n",
    "  def __init__(self, data_path):\n",
    "    self.data_path = str(data_path)\n",
    "    self.files = [f for f in os.listdir(data_path) if f.endswith('.wav')]\n",
    "    self.duration = 2000\n",
    "    self.sr = 44100\n",
    "    self.channel = 2\n",
    "    self.shift_pct = 0.4\n",
    "            \n",
    "  # ----------------------------\n",
    "  # Number of items in dataset\n",
    "  # ----------------------------\n",
    "  def __len__(self):\n",
    "    return len(self.files)    \n",
    "    \n",
    "  # ----------------------------\n",
    "  # Get i'th item in dataset\n",
    "  # ----------------------------\n",
    "  def __getitem__(self, idx):\n",
    "    # Absolute file path of the audio file - concatenate the audio directory with\n",
    "    # the relative path\n",
    "    audio_file = self.files[idx]\n",
    "    # Get the Class ID\n",
    "    class_id = 1 if audio_file.split('_')[0] == 'knock' else 0\n",
    "\n",
    "    aud = AudioUtil.open(os.path.join(self.data_path, audio_file))\n",
    "    # Some sounds have a higher sample rate, or fewer channels compared to the\n",
    "    # majority. So make all sounds have the same number of channels and same \n",
    "    # sample rate. Unless the sample rate is the same, the pad_trunc will still\n",
    "    # result in arrays of different lengths, even though the sound duration is\n",
    "    # the same.\n",
    "    reaud = AudioUtil.resample(aud, self.sr)\n",
    "    rechan = AudioUtil.rechannel(reaud, self.channel)\n",
    "\n",
    "    dur_aud = AudioUtil.pad_trunc(rechan, self.duration)\n",
    "    shift_aud = AudioUtil.time_shift(dur_aud, self.shift_pct)\n",
    "    sgram = AudioUtil.spectro_gram(shift_aud, n_mels=64, n_fft=1024, hop_len=None)\n",
    "    aug_sgram = AudioUtil.spectro_augment(sgram, max_mask_pct=0.1, n_freq_masks=2, n_time_masks=2)\n",
    "\n",
    "    return aug_sgram, class_id"
   ]
  },
  {
   "cell_type": "code",
   "execution_count": 24,
   "metadata": {},
   "outputs": [],
   "source": [
    "train_data = SoundDS('data/train')\n",
    "test_data = SoundDS('data/test')\n",
    "valid_data = SoundDS('data/validation')\n",
    "\n",
    "train_dl = DataLoader(train_data, batch_size=16, shuffle=True)\n",
    "test_dl = DataLoader(test_data, batch_size=16, shuffle=True)\n",
    "valid_dl = DataLoader(valid_data, batch_size=16, shuffle=True)"
   ]
  },
  {
   "cell_type": "code",
   "execution_count": 25,
   "metadata": {},
   "outputs": [
    {
     "data": {
      "text/plain": [
       "device(type='cuda', index=0)"
      ]
     },
     "execution_count": 25,
     "metadata": {},
     "output_type": "execute_result"
    }
   ],
   "source": [
    "import torch.nn.functional as F\n",
    "from torch.nn import init\n",
    "import torch.nn as nn\n",
    "\n",
    "# ----------------------------\n",
    "# Audio Classification Model\n",
    "# ----------------------------\n",
    "class AudioClassifier (nn.Module):\n",
    "    # ----------------------------\n",
    "    # Build the model architecture\n",
    "    # ----------------------------\n",
    "    def __init__(self):\n",
    "        super().__init__()\n",
    "        conv_layers = []\n",
    "\n",
    "        # First Convolution Block with Relu and Batch Norm. Use Kaiming Initialization\n",
    "        self.conv1 = nn.Conv2d(2, 8, kernel_size=(5, 5), stride=(2, 2), padding=(2, 2))\n",
    "        self.relu1 = nn.ReLU()\n",
    "        self.bn1 = nn.BatchNorm2d(8)\n",
    "        init.kaiming_normal_(self.conv1.weight, a=0.1)\n",
    "        self.conv1.bias.data.zero_()\n",
    "        conv_layers += [self.conv1, self.relu1, self.bn1]\n",
    "\n",
    "        # Second Convolution Block\n",
    "        self.conv2 = nn.Conv2d(8, 16, kernel_size=(3, 3), stride=(2, 2), padding=(1, 1))\n",
    "        self.relu2 = nn.ReLU()\n",
    "        self.bn2 = nn.BatchNorm2d(16)\n",
    "        init.kaiming_normal_(self.conv2.weight, a=0.1)\n",
    "        self.conv2.bias.data.zero_()\n",
    "        conv_layers += [self.conv2, self.relu2, self.bn2]\n",
    "\n",
    "        # Second Convolution Block\n",
    "        self.conv3 = nn.Conv2d(16, 32, kernel_size=(3, 3), stride=(2, 2), padding=(1, 1))\n",
    "        self.relu3 = nn.ReLU()\n",
    "        self.bn3 = nn.BatchNorm2d(32)\n",
    "        init.kaiming_normal_(self.conv3.weight, a=0.1)\n",
    "        self.conv3.bias.data.zero_()\n",
    "        conv_layers += [self.conv3, self.relu3, self.bn3]\n",
    "\n",
    "        # Second Convolution Block\n",
    "        self.conv4 = nn.Conv2d(32, 64, kernel_size=(3, 3), stride=(2, 2), padding=(1, 1))\n",
    "        self.relu4 = nn.ReLU()\n",
    "        self.bn4 = nn.BatchNorm2d(64)\n",
    "        init.kaiming_normal_(self.conv4.weight, a=0.1)\n",
    "        self.conv4.bias.data.zero_()\n",
    "        conv_layers += [self.conv4, self.relu4, self.bn4]\n",
    "\n",
    "        # Linear Classifier\n",
    "        self.ap = nn.AdaptiveAvgPool2d(output_size=1)\n",
    "        self.lin = nn.Linear(in_features=64, out_features=10)\n",
    "\n",
    "        # Wrap the Convolutional Blocks\n",
    "        self.conv = nn.Sequential(*conv_layers)\n",
    " \n",
    "    # ----------------------------\n",
    "    # Forward pass computations\n",
    "    # ----------------------------\n",
    "    def forward(self, x):\n",
    "        # Run the convolutional blocks\n",
    "        x = self.conv(x)\n",
    "\n",
    "        # Adaptive pool and flatten for input to linear layer\n",
    "        x = self.ap(x)\n",
    "        x = x.view(x.shape[0], -1)\n",
    "\n",
    "        # Linear layer\n",
    "        x = self.lin(x)\n",
    "\n",
    "        # Final output\n",
    "        return x\n",
    "\n",
    "# Create the model and put it on the GPU if available\n",
    "myModel = AudioClassifier()\n",
    "device = torch.device(\"cuda:0\" if torch.cuda.is_available() else \"cpu\")\n",
    "myModel = myModel.to(device)\n",
    "# Check that it is on Cuda\n",
    "next(myModel.parameters()).device"
   ]
  },
  {
   "cell_type": "code",
   "execution_count": 26,
   "metadata": {},
   "outputs": [
    {
     "name": "stdout",
     "output_type": "stream",
     "text": [
      "2.3.0+cu118\n"
     ]
    }
   ],
   "source": [
    "print(torch.__version__)"
   ]
  },
  {
   "cell_type": "code",
   "execution_count": 7,
   "metadata": {},
   "outputs": [
    {
     "data": {
      "application/vnd.jupyter.widget-view+json": {
       "model_id": "40e28c56827b4c469392e1a522a340c4",
       "version_major": 2,
       "version_minor": 0
      },
      "text/plain": [
       "IntSlider(value=0)"
      ]
     },
     "execution_count": 7,
     "metadata": {},
     "output_type": "execute_result"
    }
   ],
   "source": [
    "import ipywidgets as widgets\n",
    "widgets.IntSlider()"
   ]
  },
  {
   "cell_type": "code",
   "execution_count": 27,
   "metadata": {},
   "outputs": [
    {
     "name": "stdout",
     "output_type": "stream",
     "text": [
      "Epoch: 1/7, Loss: 2.11, Accuracy: 0.45\n",
      "Epoch: 2/7, Loss: 1.39, Accuracy: 0.84\n",
      "Epoch: 3/7, Loss: 0.95, Accuracy: 0.88\n",
      "Epoch: 4/7, Loss: 0.68, Accuracy: 0.94\n",
      "Epoch: 5/7, Loss: 0.49, Accuracy: 0.94\n",
      "Epoch: 6/7, Loss: 0.54, Accuracy: 0.94\n",
      "Epoch: 7/7, Loss: 0.46, Accuracy: 0.95\n",
      "Finished Training\n"
     ]
    }
   ],
   "source": [
    "# ----------------------------\n",
    "# Training Loop\n",
    "# ----------------------------\n",
    "def training(model, train_dl, num_epochs):\n",
    "  # Loss Function, Optimizer and Scheduler\n",
    "  criterion = nn.CrossEntropyLoss()\n",
    "  optimizer = torch.optim.Adam(model.parameters(),lr=0.001)\n",
    "  scheduler = torch.optim.lr_scheduler.OneCycleLR(optimizer, max_lr=0.001,\n",
    "                                                steps_per_epoch=int(len(train_dl)),\n",
    "                                                epochs=num_epochs,\n",
    "                                                anneal_strategy='linear')\n",
    "\n",
    "  # Repeat for each epoch\n",
    "  for epoch in range(num_epochs):\n",
    "    running_loss = 0.0\n",
    "    correct_prediction = 0\n",
    "    total_prediction = 0\n",
    "\n",
    "    # Repeat for each batch in the training set\n",
    "    for i, data in enumerate(train_dl):\n",
    "        # Get the input features and target labels, and put them on the GPU\n",
    "        inputs, labels = data[0].to(device), data[1].to(device)\n",
    "\n",
    "        # Normalize the inputs\n",
    "        inputs_m, inputs_s = inputs.mean(), inputs.std()\n",
    "        inputs = (inputs - inputs_m) / inputs_s\n",
    "\n",
    "        # Zero the parameter gradients\n",
    "        optimizer.zero_grad()\n",
    "\n",
    "        # forward + backward + optimize\n",
    "        outputs = model(inputs)\n",
    "        loss = criterion(outputs, labels)\n",
    "        loss.backward()\n",
    "        optimizer.step()\n",
    "        scheduler.step()\n",
    "\n",
    "        # Keep stats for Loss and Accuracy\n",
    "        running_loss += loss.item()\n",
    "\n",
    "        # Get the predicted class with the highest score\n",
    "        _, prediction = torch.max(outputs,1)\n",
    "        # Count of predictions that matched the target label\n",
    "        correct_prediction += (prediction == labels).sum().item()\n",
    "        total_prediction += prediction.shape[0]\n",
    "\n",
    "        #if i % 10 == 0:    # print every 10 mini-batches\n",
    "        #    print('[%d, %5d] loss: %.3f' % (epoch + 1, i + 1, running_loss / 10))\n",
    "    \n",
    "    # Print stats at the end of the epoch\n",
    "    num_batches = len(train_dl)\n",
    "    avg_loss = running_loss / num_batches\n",
    "    acc = correct_prediction/total_prediction\n",
    "    print(f'Epoch: {epoch+1}/{num_epochs}, Loss: {avg_loss:.2f}, Accuracy: {acc:.2f}')\n",
    "\n",
    "  print('Finished Training')\n",
    "  \n",
    "num_epochs=7   # Just for demo, adjust this higher.\n",
    "training(myModel, train_dl, num_epochs)"
   ]
  },
  {
   "cell_type": "code",
   "execution_count": 35,
   "metadata": {},
   "outputs": [
    {
     "name": "stdout",
     "output_type": "stream",
     "text": [
      "Predicted:\t['Noise', 'Noise', 'Noise', 'Noise', 'Noise', 'Noise', 'Noise', 'Noise', 'Knock', 'Noise', 'Noise', 'Knock', 'Noise', 'Noise', 'Noise', 'Noise']\n",
      "Actual:\t\t['Noise', 'Noise', 'Noise', 'Noise', 'Noise', 'Noise', 'Noise', 'Noise', 'Knock', 'Noise', 'Noise', 'Knock', 'Noise', 'Knock', 'Noise', 'Noise']\n",
      "Predicted:\t['Noise', 'Noise', 'Noise', 'Noise', 'Noise', 'Noise', 'Noise', 'Knock', 'Noise', 'Knock', 'Noise', 'Noise', 'Noise', 'Noise', 'Noise', 'Noise']\n",
      "Actual:\t\t['Noise', 'Noise', 'Noise', 'Noise', 'Noise', 'Noise', 'Noise', 'Knock', 'Noise', 'Knock', 'Noise', 'Noise', 'Noise', 'Noise', 'Noise', 'Noise']\n",
      "Predicted:\t['Noise', 'Noise', 'Noise', 'Noise', 'Noise', 'Noise', 'Knock', 'Noise', 'Knock', 'Knock', 'Knock', 'Noise', 'Noise', 'Knock', 'Noise', 'Noise']\n",
      "Actual:\t\t['Noise', 'Noise', 'Noise', 'Noise', 'Noise', 'Noise', 'Knock', 'Noise', 'Knock', 'Knock', 'Noise', 'Noise', 'Noise', 'Knock', 'Noise', 'Knock']\n",
      "Predicted:\t['Noise', 'Knock', 'Knock', 'Noise', 'Knock', 'Noise', 'Noise', 'Knock', 'Noise', 'Noise', 'Noise', 'Noise', 'Noise', 'Noise', 'Noise', 'Noise']\n",
      "Actual:\t\t['Noise', 'Knock', 'Knock', 'Noise', 'Noise', 'Noise', 'Noise', 'Knock', 'Noise', 'Noise', 'Noise', 'Noise', 'Noise', 'Noise', 'Noise', 'Noise']\n",
      "Predicted:\t['Noise', 'Noise', 'Noise', 'Noise', 'Knock', 'Noise', 'Noise', 'Noise', 'Knock', 'Noise', 'Noise', 'Noise', 'Noise', 'Knock', 'Noise', 'Noise']\n",
      "Actual:\t\t['Noise', 'Noise', 'Noise', 'Noise', 'Knock', 'Noise', 'Noise', 'Noise', 'Knock', 'Noise', 'Noise', 'Noise', 'Noise', 'Knock', 'Noise', 'Noise']\n",
      "Predicted:\t['Noise', 'Noise', 'Noise', 'Knock', 'Noise', 'Noise', 'Noise', 'Noise', 'Noise', 'Noise', 'Noise', 'Noise', 'Noise', 'Knock', 'Noise', 'Noise']\n",
      "Actual:\t\t['Noise', 'Noise', 'Noise', 'Knock', 'Noise', 'Noise', 'Noise', 'Noise', 'Noise', 'Noise', 'Noise', 'Noise', 'Noise', 'Knock', 'Noise', 'Noise']\n",
      "Predicted:\t['Noise', 'Noise', 'Noise', 'Noise', 'Noise', 'Noise', 'Knock', 'Noise', 'Noise', 'Noise', 'Knock', 'Noise', 'Noise', 'Noise', 'Noise', 'Noise']\n",
      "Actual:\t\t['Noise', 'Noise', 'Noise', 'Noise', 'Noise', 'Noise', 'Noise', 'Noise', 'Noise', 'Noise', 'Knock', 'Noise', 'Noise', 'Noise', 'Noise', 'Noise']\n",
      "Predicted:\t['Noise', 'Noise', 'Noise', 'Noise', 'Noise', 'Noise', 'Noise', 'Knock', 'Noise', 'Noise', 'Noise', 'Noise', 'Noise', 'Knock', 'Knock', 'Noise']\n",
      "Actual:\t\t['Noise', 'Noise', 'Noise', 'Noise', 'Noise', 'Noise', 'Noise', 'Knock', 'Noise', 'Noise', 'Noise', 'Noise', 'Noise', 'Knock', 'Knock', 'Noise']\n",
      "Predicted:\t['Noise', 'Noise', 'Noise', 'Noise', 'Noise', 'Noise', 'Noise', 'Noise', 'Knock', 'Noise', 'Knock', 'Noise', 'Noise', 'Noise', 'Knock', 'Noise']\n",
      "Actual:\t\t['Noise', 'Noise', 'Noise', 'Noise', 'Noise', 'Noise', 'Noise', 'Noise', 'Knock', 'Noise', 'Knock', 'Noise', 'Noise', 'Noise', 'Knock', 'Noise']\n",
      "Predicted:\t['Noise', 'Noise', 'Noise', 'Noise', 'Noise', 'Noise', 'Knock']\n",
      "Actual:\t\t['Noise', 'Noise', 'Noise', 'Noise', 'Noise', 'Noise', 'Knock']\n",
      "Accuracy: 0.97, Total items: 151\n"
     ]
    }
   ],
   "source": [
    "def inference(model, val_dl):\n",
    "    correct_prediction = 0\n",
    "    total_prediction = 0\n",
    "    class_names = {0: 'Noise', 1: 'Knock'}  # Mapping class indices to class names\n",
    "\n",
    "    # Disable gradient updates\n",
    "    with torch.no_grad():\n",
    "        for data in val_dl:\n",
    "            # Get the input features and target labels, and put them on the GPU\n",
    "            inputs, labels = data[0].to(device), data[1].to(device)\n",
    "\n",
    "            # Normalize the inputs\n",
    "            inputs_m, inputs_s = inputs.mean(), inputs.std()\n",
    "            inputs = (inputs - inputs_m) / inputs_s\n",
    "\n",
    "            # Get predictions\n",
    "            outputs = model(inputs)\n",
    "\n",
    "            # Get the predicted class with the highest score\n",
    "            _, prediction = torch.max(outputs, 1)\n",
    "            # Print the predicted class names, using the key itself as the default value if not found in the dictionary\n",
    "            predicted_classes = [class_names.get(p.item(), p.item()) for p in prediction]\n",
    "            actual_classes = [class_names.get(l.item(), l.item()) for l in labels]\n",
    "            print(f'Predicted:\\t{predicted_classes}\\nActual:\\t\\t{actual_classes}')\n",
    "            # Count of predictions that matched the target label\n",
    "            correct_prediction += (prediction == labels).sum().item()\n",
    "            total_prediction += prediction.shape[0]\n",
    "\n",
    "    acc = correct_prediction / total_prediction\n",
    "    print(f'Accuracy: {acc:.2f}, Total items: {total_prediction}')\n",
    "\n",
    "# Assuming myModel and valid_dl are defined\n",
    "inference(myModel, valid_dl)"
   ]
  },
  {
   "cell_type": "code",
   "execution_count": 15,
   "metadata": {},
   "outputs": [],
   "source": [
    "#saving the model\n",
    "torch.save(myModel.state_dict(), 'data/models/V8_model.pth')"
   ]
  }
 ],
 "metadata": {
  "kernelspec": {
   "display_name": "Python 3",
   "language": "python",
   "name": "python3"
  },
  "language_info": {
   "codemirror_mode": {
    "name": "ipython",
    "version": 3
   },
   "file_extension": ".py",
   "mimetype": "text/x-python",
   "name": "python",
   "nbconvert_exporter": "python",
   "pygments_lexer": "ipython3",
   "version": "3.11.3"
  }
 },
 "nbformat": 4,
 "nbformat_minor": 2
}
