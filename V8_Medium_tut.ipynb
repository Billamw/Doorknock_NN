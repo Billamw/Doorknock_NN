{
 "cells": [
  {
   "cell_type": "markdown",
   "metadata": {},
   "source": [
    "https://towardsdatascience.com/audio-deep-learning-made-simple-sound-classification-step-by-step-cebc936bbe5"
   ]
  },
  {
   "cell_type": "code",
   "execution_count": 19,
   "metadata": {},
   "outputs": [],
   "source": [
    "import torch\n",
    "import random\n",
    "import torchaudio\n",
    "from torchaudio import transforms\n",
    "import os\n",
    "from torch.utils.data import DataLoader, Dataset\n",
    "from AudioUtil import AudioUtil\n",
    "\n",
    "# ----------------------------\n",
    "# Sound Dataset\n",
    "# ----------------------------\n",
    "class SoundDS(Dataset):\n",
    "  def __init__(self, data_path):\n",
    "    self.data_path = str(data_path)\n",
    "    self.files = [f for f in os.listdir(data_path) if f.endswith('.wav')]\n",
    "    self.duration = 2000\n",
    "    self.sr = 44100\n",
    "    self.channel = 2\n",
    "    self.shift_pct = 0.4\n",
    "            \n",
    "  # ----------------------------\n",
    "  # Number of items in dataset\n",
    "  # ----------------------------\n",
    "  def __len__(self):\n",
    "    return len(self.files)    \n",
    "    \n",
    "  # ----------------------------\n",
    "  # Get i'th item in dataset\n",
    "  # ----------------------------\n",
    "  def __getitem__(self, idx):\n",
    "    # Absolute file path of the audio file - concatenate the audio directory with\n",
    "    # the relative path\n",
    "    audio_file = self.files[idx]\n",
    "    # Get the Class ID\n",
    "    class_id = 0 if audio_file.split('_')[0] == 'noise' else 1\n",
    "\n",
    "    aud = AudioUtil.open(os.path.join(self.data_path, audio_file))\n",
    "    # Some sounds have a higher sample rate, or fewer channels compared to the\n",
    "    # majority. So make all sounds have the same number of channels and same \n",
    "    # sample rate. Unless the sample rate is the same, the pad_trunc will still\n",
    "    # result in arrays of different lengths, even though the sound duration is\n",
    "    # the same.\n",
    "    reaud = AudioUtil.resample(aud, self.sr)\n",
    "    rechan = AudioUtil.rechannel(reaud, self.channel)\n",
    "\n",
    "    dur_aud = AudioUtil.pad_trunc(rechan, self.duration)\n",
    "    shift_aud = AudioUtil.time_shift(dur_aud, self.shift_pct)\n",
    "    sgram = AudioUtil.spectro_gram(shift_aud, n_mels=64, n_fft=1024, hop_len=None)\n",
    "    aug_sgram = AudioUtil.spectro_augment(sgram, max_mask_pct=0.1, n_freq_masks=2, n_time_masks=2)\n",
    "\n",
    "    return aug_sgram, class_id"
   ]
  },
  {
   "cell_type": "code",
   "execution_count": 20,
   "metadata": {},
   "outputs": [],
   "source": [
    "train_data = SoundDS('data/train')\n",
    "test_data = SoundDS('data/test')\n",
    "valid_data = SoundDS('data/validation')\n",
    "\n",
    "train_dl = DataLoader(train_data, batch_size=16, shuffle=True)\n",
    "test_dl = DataLoader(test_data, batch_size=16, shuffle=True)\n",
    "valid_dl = DataLoader(valid_data, batch_size=16, shuffle=True)"
   ]
  },
  {
   "cell_type": "code",
   "execution_count": 33,
   "metadata": {},
   "outputs": [
    {
     "data": {
      "text/plain": [
       "device(type='cuda', index=0)"
      ]
     },
     "execution_count": 33,
     "metadata": {},
     "output_type": "execute_result"
    }
   ],
   "source": [
    "import torch.nn.functional as F\n",
    "from torch.nn import init\n",
    "import torch.nn as nn\n",
    "from AudioClassifier import AudioClassifier\n",
    "\n",
    "# Create the model and put it on the GPU if available\n",
    "myModel = AudioClassifier()\n",
    "device = torch.device(\"cuda:0\" if torch.cuda.is_available() else \"cpu\")\n",
    "myModel = myModel.to(device)\n",
    "# Check that it is on Cuda\n",
    "next(myModel.parameters()).device"
   ]
  },
  {
   "cell_type": "code",
   "execution_count": 22,
   "metadata": {},
   "outputs": [
    {
     "name": "stdout",
     "output_type": "stream",
     "text": [
      "2.3.0+cu118\n"
     ]
    }
   ],
   "source": [
    "print(torch.__version__)"
   ]
  },
  {
   "cell_type": "code",
   "execution_count": 34,
   "metadata": {},
   "outputs": [
    {
     "data": {
      "application/vnd.jupyter.widget-view+json": {
       "model_id": "f6f745cc4bc04add9a9c2f1701cc7802",
       "version_major": 2,
       "version_minor": 0
      },
      "text/plain": [
       "IntSlider(value=0)"
      ]
     },
     "execution_count": 34,
     "metadata": {},
     "output_type": "execute_result"
    }
   ],
   "source": [
    "import ipywidgets as widgets\n",
    "print(widgets.IntSlider())"
   ]
  },
  {
   "cell_type": "code",
   "execution_count": 42,
   "metadata": {},
   "outputs": [
    {
     "name": "stdout",
     "output_type": "stream",
     "text": [
      "Epoch: 1/16, Loss: 0.16, Accuracy: 0.94\n",
      "Epoch: 2/16, Loss: 0.11, Accuracy: 0.96\n",
      "Epoch: 3/16, Loss: 0.14, Accuracy: 0.94\n",
      "Epoch: 4/16, Loss: 0.14, Accuracy: 0.94\n",
      "Epoch: 5/16, Loss: 0.15, Accuracy: 0.94\n",
      "Epoch: 6/16, Loss: 0.12, Accuracy: 0.94\n",
      "Epoch: 7/16, Loss: 0.13, Accuracy: 0.95\n",
      "Epoch: 8/16, Loss: 0.12, Accuracy: 0.95\n",
      "Epoch: 9/16, Loss: 0.15, Accuracy: 0.94\n",
      "Epoch: 10/16, Loss: 0.12, Accuracy: 0.95\n",
      "Epoch: 11/16, Loss: 0.15, Accuracy: 0.94\n",
      "Epoch: 12/16, Loss: 0.11, Accuracy: 0.97\n",
      "Epoch: 13/16, Loss: 0.10, Accuracy: 0.96\n",
      "Epoch: 14/16, Loss: 0.11, Accuracy: 0.96\n",
      "Epoch: 15/16, Loss: 0.13, Accuracy: 0.95\n",
      "Epoch: 16/16, Loss: 0.12, Accuracy: 0.94\n",
      "Finished Training\n"
     ]
    }
   ],
   "source": [
    "# ----------------------------\n",
    "# Training Loop\n",
    "# ----------------------------\n",
    "def training(model, train_dl, num_epochs):\n",
    "  # Loss Function, Optimizer and Scheduler\n",
    "  criterion = nn.CrossEntropyLoss()\n",
    "  optimizer = torch.optim.Adam(model.parameters(),lr=0.003)\n",
    "  # scheduler = torch.optim.lr_scheduler.OneCycleLR(optimizer, max_lr=0.001,\n",
    "  #                                               steps_per_epoch=int(len(train_dl)),\n",
    "  #                                               epochs=num_epochs,\n",
    "  #                                               anneal_strategy='linear')\n",
    "\n",
    "  # Repeat for each epoch\n",
    "  for epoch in range(num_epochs):\n",
    "    running_loss = 0.0\n",
    "    correct_prediction = 0\n",
    "    total_prediction = 0\n",
    "\n",
    "    # Repeat for each batch in the training set\n",
    "    for i, data in enumerate(train_dl):\n",
    "        # Get the input features and target labels, and put them on the GPU\n",
    "        inputs, labels = data[0].to(device), data[1].to(device)\n",
    "\n",
    "        # Normalize the inputs\n",
    "        inputs_m, inputs_s = inputs.mean(), inputs.std()\n",
    "        inputs = (inputs - inputs_m) / inputs_s\n",
    "\n",
    "        # Zero the parameter gradients\n",
    "        optimizer.zero_grad()\n",
    "\n",
    "        # forward + backward + optimize\n",
    "        outputs = model(inputs)\n",
    "        loss = criterion(outputs, labels)\n",
    "        loss.backward()\n",
    "        optimizer.step()\n",
    "        # scheduler.step()\n",
    "\n",
    "        # Keep stats for Loss and Accuracy\n",
    "        running_loss += loss.item()\n",
    "\n",
    "        # Get the predicted class with the highest score\n",
    "        _, prediction = torch.max(outputs,1)\n",
    "        # Count of predictions that matched the target label\n",
    "        correct_prediction += (prediction == labels).sum().item()\n",
    "        total_prediction += prediction.shape[0]\n",
    "\n",
    "        if i % 10 == 0:    # print every 10 mini-batches\n",
    "           print('[%d, %5d] loss: %.3f' % (epoch + 1, i + 1, running_loss / 10))\n",
    "    \n",
    "    # Print stats at the end of the epoch\n",
    "    num_batches = len(train_dl)\n",
    "    avg_loss = running_loss / num_batches\n",
    "    acc = correct_prediction/total_prediction\n",
    "    print(f'Epoch: {epoch+1}/{num_epochs}, Loss: {avg_loss:.2f}, Accuracy: {acc:.2f}')\n",
    "\n",
    "  print('Finished Training')\n",
    "  \n",
    "num_epochs=16   # Just for demo, adjust this higher.\n",
    "training(myModel, train_dl, num_epochs)"
   ]
  },
  {
   "cell_type": "code",
   "execution_count": 43,
   "metadata": {},
   "outputs": [
    {
     "name": "stdout",
     "output_type": "stream",
     "text": [
      "Predicted:\t['Knock', 'Knock', 'Noise', 'Knock', 'Knock', 'Noise', 'Knock', 'Knock', 'Knock', 'Knock', 'Knock', 'Knock', 'Knock', 'Knock', 'Knock', 'Knock']\n",
      "Actual:\t\t['Knock', 'Knock', 'Knock', 'Knock', 'Knock', 'Noise', 'Knock', 'Knock', 'Knock', 'Knock', 'Knock', 'Noise', 'Knock', 'Knock', 'Knock', 'Knock']\n",
      "Predicted:\t['Noise', 'Knock', 'Knock', 'Knock', 'Knock', 'Knock', 'Knock', 'Knock', 'Noise', 'Knock', 'Knock', 'Knock', 'Knock', 'Knock', 'Knock', 'Noise']\n",
      "Actual:\t\t['Noise', 'Knock', 'Knock', 'Knock', 'Knock', 'Knock', 'Knock', 'Knock', 'Noise', 'Knock', 'Knock', 'Knock', 'Knock', 'Knock', 'Knock', 'Knock']\n",
      "Predicted:\t['Knock', 'Knock', 'Knock', 'Knock', 'Noise', 'Knock', 'Knock', 'Knock', 'Knock', 'Knock', 'Knock', 'Knock', 'Knock', 'Knock', 'Knock', 'Knock']\n",
      "Actual:\t\t['Knock', 'Knock', 'Knock', 'Knock', 'Noise', 'Knock', 'Knock', 'Knock', 'Knock', 'Knock', 'Noise', 'Knock', 'Knock', 'Knock', 'Noise', 'Knock']\n",
      "Predicted:\t['Noise', 'Knock', 'Knock', 'Knock', 'Knock', 'Knock', 'Knock', 'Knock', 'Noise', 'Knock', 'Knock', 'Noise', 'Knock', 'Noise', 'Knock', 'Knock']\n",
      "Actual:\t\t['Noise', 'Knock', 'Knock', 'Knock', 'Knock', 'Noise', 'Knock', 'Knock', 'Noise', 'Knock', 'Knock', 'Noise', 'Knock', 'Noise', 'Knock', 'Knock']\n",
      "Predicted:\t['Knock', 'Knock', 'Noise', 'Knock', 'Knock', 'Knock', 'Knock', 'Knock', 'Knock', 'Knock', 'Knock', 'Noise', 'Knock', 'Knock', 'Knock', 'Knock']\n",
      "Actual:\t\t['Knock', 'Knock', 'Noise', 'Knock', 'Knock', 'Knock', 'Knock', 'Knock', 'Knock', 'Knock', 'Knock', 'Noise', 'Knock', 'Knock', 'Noise', 'Knock']\n",
      "Predicted:\t['Knock', 'Knock', 'Knock', 'Noise', 'Knock', 'Noise', 'Knock', 'Knock', 'Knock', 'Knock', 'Knock', 'Knock', 'Knock', 'Noise', 'Knock', 'Knock']\n",
      "Actual:\t\t['Knock', 'Knock', 'Knock', 'Noise', 'Knock', 'Knock', 'Knock', 'Knock', 'Knock', 'Knock', 'Knock', 'Knock', 'Knock', 'Noise', 'Knock', 'Knock']\n",
      "Predicted:\t['Knock', 'Knock', 'Knock', 'Knock', 'Knock', 'Knock', 'Knock', 'Knock', 'Knock', 'Knock', 'Knock', 'Noise', 'Knock', 'Knock', 'Knock', 'Knock']\n",
      "Actual:\t\t['Knock', 'Noise', 'Knock', 'Knock', 'Noise', 'Knock', 'Knock', 'Knock', 'Knock', 'Knock', 'Knock', 'Noise', 'Noise', 'Noise', 'Noise', 'Knock']\n",
      "Predicted:\t['Noise', 'Knock', 'Knock', 'Knock', 'Knock', 'Knock', 'Noise', 'Noise', 'Knock', 'Knock', 'Knock', 'Knock', 'Knock', 'Knock', 'Knock', 'Knock']\n",
      "Actual:\t\t['Noise', 'Knock', 'Knock', 'Knock', 'Knock', 'Noise', 'Noise', 'Knock', 'Knock', 'Knock', 'Knock', 'Knock', 'Knock', 'Knock', 'Knock', 'Knock']\n",
      "Predicted:\t['Knock', 'Knock', 'Noise', 'Knock', 'Knock', 'Knock', 'Knock', 'Knock', 'Knock', 'Knock', 'Knock', 'Noise', 'Knock', 'Knock', 'Knock', 'Knock']\n",
      "Actual:\t\t['Knock', 'Knock', 'Noise', 'Noise', 'Knock', 'Knock', 'Knock', 'Knock', 'Knock', 'Knock', 'Knock', 'Noise', 'Knock', 'Knock', 'Knock', 'Knock']\n",
      "Predicted:\t['Knock', 'Knock', 'Knock', 'Knock', 'Knock', 'Knock', 'Knock']\n",
      "Actual:\t\t['Knock', 'Knock', 'Knock', 'Knock', 'Knock', 'Knock', 'Knock']\n",
      "Accuracy: 0.89, Total items: 151\n"
     ]
    }
   ],
   "source": [
    "def inference(model, val_dl):\n",
    "    correct_prediction = 0\n",
    "    total_prediction = 0\n",
    "    class_names = {0: 'Noise', 1: 'Knock'}  # Mapping class indices to class names\n",
    "\n",
    "    # Disable gradient updates\n",
    "    with torch.no_grad():\n",
    "        for data in val_dl:\n",
    "            # Get the input features and target labels, and put them on the GPU\n",
    "            inputs, labels = data[0].to(device), data[1].to(device)\n",
    "\n",
    "            # Normalize the inputs\n",
    "            inputs_m, inputs_s = inputs.mean(), inputs.std()\n",
    "            inputs = (inputs - inputs_m) / inputs_s\n",
    "\n",
    "            # Get predictions\n",
    "            outputs = model(inputs)\n",
    "\n",
    "            # Get the predicted class with the highest score\n",
    "            _, prediction = torch.max(outputs, 1)\n",
    "            # Print the predicted class names, using the key itself as the default value if not found in the dictionary\n",
    "            predicted_classes = [class_names.get(p.item(), p.item()) for p in prediction]\n",
    "            actual_classes = [class_names.get(l.item(), l.item()) for l in labels]\n",
    "            print(f'Predicted:\\t{predicted_classes}\\nActual:\\t\\t{actual_classes}')\n",
    "            # Count of predictions that matched the target label\n",
    "            correct_prediction += (prediction == labels).sum().item()\n",
    "            total_prediction += prediction.shape[0]\n",
    "\n",
    "    acc = correct_prediction / total_prediction\n",
    "    print(f'Accuracy: {acc:.2f}, Total items: {total_prediction}')\n",
    "\n",
    "# Assuming myModel and valid_dl are defined\n",
    "inference(myModel, valid_dl)"
   ]
  },
  {
   "cell_type": "code",
   "execution_count": 27,
   "metadata": {},
   "outputs": [],
   "source": [
    "#saving the model\n",
    "torch.save(myModel.state_dict(), 'data/models/V8_model_state_dict.pth')\n",
    "torch.save(myModel, 'data/models/V8_model_full.pth')"
   ]
  },
  {
   "cell_type": "code",
   "execution_count": 29,
   "metadata": {},
   "outputs": [
    {
     "name": "stdout",
     "output_type": "stream",
     "text": [
      "Predicted:\t['Knock']\n",
      "Actual:\t\t['Knock']\n",
      "Accuracy: 1.00, Total items: 1\n"
     ]
    }
   ],
   "source": [
    "model = AudioClassifier()\n",
    "model.load_state_dict(torch.load('data/models/V8_model_state_dict.pth'))\n",
    "model = model.to(device)\n",
    "single_ds = SoundDS('data/single')\n",
    "single_dl = DataLoader(single_ds, shuffle=True)\n",
    "\n",
    "inference(model, single_dl)"
   ]
  }
 ],
 "metadata": {
  "kernelspec": {
   "display_name": "Python 3",
   "language": "python",
   "name": "python3"
  },
  "language_info": {
   "codemirror_mode": {
    "name": "ipython",
    "version": 3
   },
   "file_extension": ".py",
   "mimetype": "text/x-python",
   "name": "python",
   "nbconvert_exporter": "python",
   "pygments_lexer": "ipython3",
   "version": "3.11.3"
  }
 },
 "nbformat": 4,
 "nbformat_minor": 2
}
