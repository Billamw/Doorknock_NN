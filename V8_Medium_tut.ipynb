{
 "cells": [
  {
   "cell_type": "markdown",
   "metadata": {},
   "source": [
    "https://towardsdatascience.com/audio-deep-learning-made-simple-sound-classification-step-by-step-cebc936bbe5"
   ]
  },
  {
   "cell_type": "code",
   "execution_count": 1,
   "metadata": {},
   "outputs": [],
   "source": [
    "import torch\n",
    "import random\n",
    "import torchaudio\n",
    "from torchaudio import transforms\n",
    "import os\n",
    "from torch.utils.data import DataLoader, Dataset\n",
    "from AudioUtil import AudioUtil\n",
    "\n",
    "# ----------------------------\n",
    "# Sound Dataset\n",
    "# ----------------------------\n",
    "class SoundDS(Dataset):\n",
    "  def __init__(self, data_path):\n",
    "    self.data_path = str(data_path)\n",
    "    self.files = [f for f in os.listdir(data_path) if f.endswith('.wav')]\n",
    "    self.duration = 2000\n",
    "    self.sr = 44100\n",
    "    self.channel = 2\n",
    "    self.shift_pct = 0.4\n",
    "            \n",
    "  # ----------------------------\n",
    "  # Number of items in dataset\n",
    "  # ----------------------------\n",
    "  def __len__(self):\n",
    "    return len(self.files)    \n",
    "    \n",
    "  # ----------------------------\n",
    "  # Get i'th item in dataset\n",
    "  # ----------------------------\n",
    "  def __getitem__(self, idx):\n",
    "    # Absolute file path of the audio file - concatenate the audio directory with\n",
    "    # the relative path\n",
    "    audio_file = self.files[idx]\n",
    "    # Get the Class ID\n",
    "    class_id = 0 if audio_file.split('_')[0] == 'noise' else 1\n",
    "\n",
    "    aud = AudioUtil.open(os.path.join(self.data_path, audio_file))\n",
    "    # Some sounds have a higher sample rate, or fewer channels compared to the\n",
    "    # majority. So make all sounds have the same number of channels and same \n",
    "    # sample rate. Unless the sample rate is the same, the pad_trunc will still\n",
    "    # result in arrays of different lengths, even though the sound duration is\n",
    "    # the same.\n",
    "    reaud = AudioUtil.resample(aud, self.sr)\n",
    "    rechan = AudioUtil.rechannel(reaud, self.channel)\n",
    "\n",
    "    dur_aud = AudioUtil.pad_trunc(rechan, self.duration)\n",
    "    shift_aud = AudioUtil.time_shift(dur_aud, self.shift_pct)\n",
    "    sgram = AudioUtil.spectro_gram(shift_aud, n_mels=64, n_fft=1024, hop_len=None)\n",
    "    aug_sgram = AudioUtil.spectro_augment(sgram, max_mask_pct=0.1, n_freq_masks=2, n_time_masks=2)\n",
    "\n",
    "    return aug_sgram, class_id"
   ]
  },
  {
   "cell_type": "code",
   "execution_count": 2,
   "metadata": {},
   "outputs": [],
   "source": [
    "train_data = SoundDS('data/train')\n",
    "test_data = SoundDS('data/test')\n",
    "valid_data = SoundDS('data/validation')\n",
    "\n",
    "train_dl = DataLoader(train_data, batch_size=16, shuffle=True)\n",
    "test_dl = DataLoader(test_data, batch_size=16, shuffle=True)\n",
    "valid_dl = DataLoader(valid_data, batch_size=16, shuffle=True)"
   ]
  },
  {
   "cell_type": "code",
   "execution_count": 3,
   "metadata": {},
   "outputs": [
    {
     "data": {
      "text/plain": [
       "device(type='cuda', index=0)"
      ]
     },
     "execution_count": 3,
     "metadata": {},
     "output_type": "execute_result"
    }
   ],
   "source": [
    "import torch.nn as nn\n",
    "from AudioClassifier import AudioClassifier\n",
    "\n",
    "# Create the model and put it on the GPU if available\n",
    "myModel = AudioClassifier(out_features=2)\n",
    "device = torch.device(\"cuda:0\" if torch.cuda.is_available() else \"cpu\")\n",
    "myModel = myModel.to(device)\n",
    "# Check that it is on Cuda\n",
    "next(myModel.parameters()).device"
   ]
  },
  {
   "cell_type": "code",
   "execution_count": 49,
   "metadata": {},
   "outputs": [
    {
     "name": "stdout",
     "output_type": "stream",
     "text": [
      "2.3.0+cu118\n"
     ]
    }
   ],
   "source": [
    "print(torch.__version__)"
   ]
  },
  {
   "cell_type": "code",
   "execution_count": 4,
   "metadata": {},
   "outputs": [
    {
     "data": {
      "application/vnd.jupyter.widget-view+json": {
       "model_id": "463701c550d1493c9d06206ec57eebc5",
       "version_major": 2,
       "version_minor": 0
      },
      "text/plain": [
       "IntSlider(value=7, description='Test Slider:', max=10)"
      ]
     },
     "metadata": {},
     "output_type": "display_data"
    },
    {
     "name": "stdout",
     "output_type": "stream",
     "text": [
      "7\n"
     ]
    }
   ],
   "source": [
    "import ipywidgets as widgets\n",
    "slider = widgets.IntSlider(\n",
    "    value=7,  # Initial value\n",
    "    min=0,    # Minimum value\n",
    "    max=10,   # Maximum value\n",
    "    step=1,   # Step size\n",
    "    description='Test Slider:',  # Label for the slider\n",
    ")\n",
    "\n",
    "# Step 3: Display the slider\n",
    "display(slider)\n",
    "\n",
    "# Step 4: Access the slider's value (this would be done in a separate cell or in response to an event)\n",
    "print(slider.value)"
   ]
  },
  {
   "cell_type": "code",
   "execution_count": 5,
   "metadata": {},
   "outputs": [
    {
     "name": "stdout",
     "output_type": "stream",
     "text": [
      "Epoch: 1/25, Loss: 0.64, Accuracy: 0.64\n",
      "Epoch: 2/25, Loss: 0.63, Accuracy: 0.67\n",
      "Epoch: 3/25, Loss: 0.62, Accuracy: 0.65\n",
      "Epoch: 4/25, Loss: 0.61, Accuracy: 0.68\n",
      "Epoch: 5/25, Loss: 0.60, Accuracy: 0.69\n",
      "Epoch: 6/25, Loss: 0.57, Accuracy: 0.73\n",
      "Epoch: 7/25, Loss: 0.54, Accuracy: 0.77\n",
      "Epoch: 8/25, Loss: 0.51, Accuracy: 0.80\n",
      "Epoch: 9/25, Loss: 0.50, Accuracy: 0.81\n",
      "Epoch: 10/25, Loss: 0.48, Accuracy: 0.83\n",
      "Epoch: 11/25, Loss: 0.48, Accuracy: 0.84\n",
      "Epoch: 12/25, Loss: 0.47, Accuracy: 0.85\n",
      "Epoch: 13/25, Loss: 0.46, Accuracy: 0.85\n",
      "Epoch: 14/25, Loss: 0.45, Accuracy: 0.87\n",
      "Epoch: 15/25, Loss: 0.46, Accuracy: 0.85\n",
      "Epoch: 16/25, Loss: 0.44, Accuracy: 0.87\n",
      "Epoch: 17/25, Loss: 0.45, Accuracy: 0.86\n",
      "Epoch: 18/25, Loss: 0.44, Accuracy: 0.87\n",
      "Epoch: 19/25, Loss: 0.45, Accuracy: 0.86\n",
      "Epoch: 20/25, Loss: 0.44, Accuracy: 0.88\n",
      "Epoch: 21/25, Loss: 0.43, Accuracy: 0.89\n",
      "Epoch: 22/25, Loss: 0.44, Accuracy: 0.88\n",
      "Epoch: 23/25, Loss: 0.43, Accuracy: 0.89\n",
      "Epoch: 24/25, Loss: 0.44, Accuracy: 0.87\n",
      "Epoch: 25/25, Loss: 0.43, Accuracy: 0.88\n",
      "Finished Training\n"
     ]
    }
   ],
   "source": [
    "# ----------------------------\n",
    "# Training Loop\n",
    "# ----------------------------\n",
    "def training(model, train_dl, num_epochs):\n",
    "  # Loss Function, Optimizer and Scheduler\n",
    "  criterion = nn.CrossEntropyLoss()\n",
    "  optimizer = torch.optim.Adam(model.parameters(),lr=0.003)\n",
    "  # scheduler = torch.optim.lr_scheduler.OneCycleLR(optimizer, max_lr=0.001,\n",
    "  #                                               steps_per_epoch=int(len(train_dl)),\n",
    "  #                                               epochs=num_epochs,\n",
    "  #                                               anneal_strategy='linear')\n",
    "\n",
    "  # Repeat for each epoch\n",
    "  for epoch in range(num_epochs):\n",
    "    running_loss = 0.0\n",
    "    correct_prediction = 0\n",
    "    total_prediction = 0\n",
    "\n",
    "    # Repeat for each batch in the training set\n",
    "    for i, data in enumerate(train_dl):\n",
    "        # Get the input features and target labels, and put them on the GPU\n",
    "        inputs, labels = data[0].to(device), data[1].to(device)\n",
    "\n",
    "        # Normalize the inputs\n",
    "        inputs_m, inputs_s = inputs.mean(), inputs.std()\n",
    "        inputs = (inputs - inputs_m) / inputs_s\n",
    "\n",
    "        # Zero the parameter gradients\n",
    "        optimizer.zero_grad()\n",
    "\n",
    "        # forward + backward + optimize\n",
    "        outputs = model(inputs)\n",
    "        loss = criterion(outputs, labels)\n",
    "        loss.backward()\n",
    "        optimizer.step()\n",
    "        # scheduler.step()\n",
    "\n",
    "        # Keep stats for Loss and Accuracy\n",
    "        running_loss += loss.item()\n",
    "\n",
    "        # Get the predicted class with the highest score\n",
    "        _, prediction = torch.max(outputs,1)\n",
    "        # Count of predictions that matched the target label\n",
    "        correct_prediction += (prediction == labels).sum().item()\n",
    "        total_prediction += prediction.shape[0]\n",
    "\n",
    "        # if i % 10 == 0:    # print every 10 mini-batches\n",
    "        #    print('[%d, %5d] loss: %.3f' % (epoch + 1, i + 1, running_loss / 10))\n",
    "    \n",
    "    # Print stats at the end of the epoch\n",
    "    num_batches = len(train_dl)\n",
    "    avg_loss = running_loss / num_batches\n",
    "    acc = correct_prediction/total_prediction\n",
    "    print(f'Epoch: {epoch+1}/{num_epochs}, Loss: {avg_loss:.2f}, Accuracy: {acc:.2f}')\n",
    "    if acc > 0.92:\n",
    "      break\n",
    "\n",
    "  print('Finished Training')\n",
    "  \n",
    "num_epochs=25   # Just for demo, adjust this higher.\n",
    "training(myModel, train_dl, num_epochs)"
   ]
  },
  {
   "cell_type": "code",
   "execution_count": 6,
   "metadata": {},
   "outputs": [
    {
     "name": "stdout",
     "output_type": "stream",
     "text": [
      "Predicted: \u001b[0mKnock\u001b[0m, \u001b[0mNoise\u001b[0m, \u001b[0mNoise\u001b[0m, \u001b[91mKnock\u001b[0m, \u001b[0mKnock\u001b[0m, \u001b[0mNoise\u001b[0m, \u001b[0mKnock\u001b[0m, \u001b[0mNoise\u001b[0m, \u001b[0mKnock\u001b[0m, \u001b[0mNoise\u001b[0m, \u001b[0mNoise\u001b[0m, \u001b[0mNoise\u001b[0m, \u001b[91mNoise\u001b[0m, \u001b[0mNoise\u001b[0m, \u001b[0mNoise\u001b[0m, \u001b[0mNoise\u001b[0m\n",
      "Actual:    \u001b[0mKnock\u001b[0m, \u001b[0mNoise\u001b[0m, \u001b[0mNoise\u001b[0m, \u001b[91mNoise\u001b[0m, \u001b[0mKnock\u001b[0m, \u001b[0mNoise\u001b[0m, \u001b[0mKnock\u001b[0m, \u001b[0mNoise\u001b[0m, \u001b[0mKnock\u001b[0m, \u001b[0mNoise\u001b[0m, \u001b[0mNoise\u001b[0m, \u001b[0mNoise\u001b[0m, \u001b[91mKnock\u001b[0m, \u001b[0mNoise\u001b[0m, \u001b[0mNoise\u001b[0m, \u001b[0mNoise\u001b[0m\n",
      "\n",
      "Predicted: \u001b[0mNoise\u001b[0m, \u001b[0mKnock\u001b[0m, \u001b[0mNoise\u001b[0m, \u001b[0mNoise\u001b[0m, \u001b[0mNoise\u001b[0m, \u001b[0mNoise\u001b[0m, \u001b[0mNoise\u001b[0m, \u001b[91mNoise\u001b[0m, \u001b[0mKnock\u001b[0m, \u001b[0mKnock\u001b[0m, \u001b[0mNoise\u001b[0m, \u001b[0mKnock\u001b[0m, \u001b[0mNoise\u001b[0m, \u001b[0mKnock\u001b[0m, \u001b[0mNoise\u001b[0m, \u001b[0mKnock\u001b[0m\n",
      "Actual:    \u001b[0mNoise\u001b[0m, \u001b[0mKnock\u001b[0m, \u001b[0mNoise\u001b[0m, \u001b[0mNoise\u001b[0m, \u001b[0mNoise\u001b[0m, \u001b[0mNoise\u001b[0m, \u001b[0mNoise\u001b[0m, \u001b[91mKnock\u001b[0m, \u001b[0mKnock\u001b[0m, \u001b[0mKnock\u001b[0m, \u001b[0mNoise\u001b[0m, \u001b[0mKnock\u001b[0m, \u001b[0mNoise\u001b[0m, \u001b[0mKnock\u001b[0m, \u001b[0mNoise\u001b[0m, \u001b[0mKnock\u001b[0m\n",
      "\n",
      "Predicted: \u001b[0mNoise\u001b[0m, \u001b[0mKnock\u001b[0m, \u001b[0mNoise\u001b[0m, \u001b[0mNoise\u001b[0m, \u001b[0mKnock\u001b[0m, \u001b[0mNoise\u001b[0m, \u001b[0mNoise\u001b[0m, \u001b[0mNoise\u001b[0m, \u001b[0mNoise\u001b[0m, \u001b[0mNoise\u001b[0m, \u001b[91mKnock\u001b[0m, \u001b[0mKnock\u001b[0m, \u001b[0mKnock\u001b[0m, \u001b[0mNoise\u001b[0m, \u001b[0mKnock\u001b[0m, \u001b[0mNoise\u001b[0m\n",
      "Actual:    \u001b[0mNoise\u001b[0m, \u001b[0mKnock\u001b[0m, \u001b[0mNoise\u001b[0m, \u001b[0mNoise\u001b[0m, \u001b[0mKnock\u001b[0m, \u001b[0mNoise\u001b[0m, \u001b[0mNoise\u001b[0m, \u001b[0mNoise\u001b[0m, \u001b[0mNoise\u001b[0m, \u001b[0mNoise\u001b[0m, \u001b[91mNoise\u001b[0m, \u001b[0mKnock\u001b[0m, \u001b[0mKnock\u001b[0m, \u001b[0mNoise\u001b[0m, \u001b[0mKnock\u001b[0m, \u001b[0mNoise\u001b[0m\n",
      "\n",
      "Predicted: \u001b[0mNoise\u001b[0m, \u001b[0mKnock\u001b[0m, \u001b[0mNoise\u001b[0m, \u001b[0mKnock\u001b[0m, \u001b[0mNoise\u001b[0m, \u001b[0mNoise\u001b[0m, \u001b[0mNoise\u001b[0m, \u001b[0mKnock\u001b[0m, \u001b[91mNoise\u001b[0m, \u001b[0mNoise\u001b[0m, \u001b[0mNoise\u001b[0m, \u001b[0mKnock\u001b[0m, \u001b[0mNoise\u001b[0m, \u001b[0mNoise\u001b[0m, \u001b[0mNoise\u001b[0m, \u001b[0mNoise\u001b[0m\n",
      "Actual:    \u001b[0mNoise\u001b[0m, \u001b[0mKnock\u001b[0m, \u001b[0mNoise\u001b[0m, \u001b[0mKnock\u001b[0m, \u001b[0mNoise\u001b[0m, \u001b[0mNoise\u001b[0m, \u001b[0mNoise\u001b[0m, \u001b[0mKnock\u001b[0m, \u001b[91mKnock\u001b[0m, \u001b[0mNoise\u001b[0m, \u001b[0mNoise\u001b[0m, \u001b[0mKnock\u001b[0m, \u001b[0mNoise\u001b[0m, \u001b[0mNoise\u001b[0m, \u001b[0mNoise\u001b[0m, \u001b[0mNoise\u001b[0m\n",
      "\n",
      "Predicted: \u001b[0mNoise\u001b[0m, \u001b[0mNoise\u001b[0m, \u001b[0mKnock\u001b[0m, \u001b[0mNoise\u001b[0m, \u001b[0mNoise\u001b[0m, \u001b[0mNoise\u001b[0m, \u001b[91mNoise\u001b[0m, \u001b[91mNoise\u001b[0m, \u001b[0mKnock\u001b[0m, \u001b[0mKnock\u001b[0m, \u001b[0mNoise\u001b[0m, \u001b[0mNoise\u001b[0m, \u001b[0mNoise\u001b[0m, \u001b[0mKnock\u001b[0m, \u001b[0mKnock\u001b[0m, \u001b[0mKnock\u001b[0m\n",
      "Actual:    \u001b[0mNoise\u001b[0m, \u001b[0mNoise\u001b[0m, \u001b[0mKnock\u001b[0m, \u001b[0mNoise\u001b[0m, \u001b[0mNoise\u001b[0m, \u001b[0mNoise\u001b[0m, \u001b[91mKnock\u001b[0m, \u001b[91mKnock\u001b[0m, \u001b[0mKnock\u001b[0m, \u001b[0mKnock\u001b[0m, \u001b[0mNoise\u001b[0m, \u001b[0mNoise\u001b[0m, \u001b[0mNoise\u001b[0m, \u001b[0mKnock\u001b[0m, \u001b[0mKnock\u001b[0m, \u001b[0mKnock\u001b[0m\n",
      "\n",
      "Predicted: \u001b[0mKnock\u001b[0m, \u001b[91mKnock\u001b[0m, \u001b[0mNoise\u001b[0m, \u001b[0mNoise\u001b[0m, \u001b[0mKnock\u001b[0m, \u001b[0mKnock\u001b[0m, \u001b[0mNoise\u001b[0m, \u001b[0mNoise\u001b[0m, \u001b[0mNoise\u001b[0m, \u001b[91mNoise\u001b[0m, \u001b[0mKnock\u001b[0m, \u001b[0mNoise\u001b[0m, \u001b[0mKnock\u001b[0m, \u001b[0mNoise\u001b[0m, \u001b[0mNoise\u001b[0m, \u001b[0mKnock\u001b[0m\n",
      "Actual:    \u001b[0mKnock\u001b[0m, \u001b[91mNoise\u001b[0m, \u001b[0mNoise\u001b[0m, \u001b[0mNoise\u001b[0m, \u001b[0mKnock\u001b[0m, \u001b[0mKnock\u001b[0m, \u001b[0mNoise\u001b[0m, \u001b[0mNoise\u001b[0m, \u001b[0mNoise\u001b[0m, \u001b[91mKnock\u001b[0m, \u001b[0mKnock\u001b[0m, \u001b[0mNoise\u001b[0m, \u001b[0mKnock\u001b[0m, \u001b[0mNoise\u001b[0m, \u001b[0mNoise\u001b[0m, \u001b[0mKnock\u001b[0m\n",
      "\n",
      "Predicted: \u001b[0mKnock\u001b[0m, \u001b[0mNoise\u001b[0m, \u001b[0mKnock\u001b[0m, \u001b[0mNoise\u001b[0m, \u001b[0mNoise\u001b[0m, \u001b[0mKnock\u001b[0m, \u001b[0mNoise\u001b[0m, \u001b[91mNoise\u001b[0m, \u001b[0mNoise\u001b[0m, \u001b[0mKnock\u001b[0m, \u001b[0mKnock\u001b[0m, \u001b[0mNoise\u001b[0m, \u001b[91mNoise\u001b[0m, \u001b[0mNoise\u001b[0m, \u001b[0mNoise\u001b[0m, \u001b[0mNoise\u001b[0m\n",
      "Actual:    \u001b[0mKnock\u001b[0m, \u001b[0mNoise\u001b[0m, \u001b[0mKnock\u001b[0m, \u001b[0mNoise\u001b[0m, \u001b[0mNoise\u001b[0m, \u001b[0mKnock\u001b[0m, \u001b[0mNoise\u001b[0m, \u001b[91mKnock\u001b[0m, \u001b[0mNoise\u001b[0m, \u001b[0mKnock\u001b[0m, \u001b[0mKnock\u001b[0m, \u001b[0mNoise\u001b[0m, \u001b[91mKnock\u001b[0m, \u001b[0mNoise\u001b[0m, \u001b[0mNoise\u001b[0m, \u001b[0mNoise\u001b[0m\n",
      "\n",
      "Predicted: \u001b[0mNoise\u001b[0m, \u001b[0mNoise\u001b[0m, \u001b[0mKnock\u001b[0m, \u001b[0mKnock\u001b[0m, \u001b[0mNoise\u001b[0m, \u001b[0mNoise\u001b[0m, \u001b[0mKnock\u001b[0m, \u001b[0mKnock\u001b[0m, \u001b[0mKnock\u001b[0m, \u001b[0mKnock\u001b[0m, \u001b[0mNoise\u001b[0m, \u001b[0mNoise\u001b[0m, \u001b[91mNoise\u001b[0m, \u001b[91mNoise\u001b[0m, \u001b[0mKnock\u001b[0m, \u001b[91mNoise\u001b[0m\n",
      "Actual:    \u001b[0mNoise\u001b[0m, \u001b[0mNoise\u001b[0m, \u001b[0mKnock\u001b[0m, \u001b[0mKnock\u001b[0m, \u001b[0mNoise\u001b[0m, \u001b[0mNoise\u001b[0m, \u001b[0mKnock\u001b[0m, \u001b[0mKnock\u001b[0m, \u001b[0mKnock\u001b[0m, \u001b[0mKnock\u001b[0m, \u001b[0mNoise\u001b[0m, \u001b[0mNoise\u001b[0m, \u001b[91mKnock\u001b[0m, \u001b[91mKnock\u001b[0m, \u001b[0mKnock\u001b[0m, \u001b[91mKnock\u001b[0m\n",
      "\n",
      "Predicted: \u001b[0mNoise\u001b[0m, \u001b[0mNoise\u001b[0m, \u001b[0mKnock\u001b[0m, \u001b[0mNoise\u001b[0m, \u001b[0mNoise\u001b[0m, \u001b[0mNoise\u001b[0m, \u001b[0mNoise\u001b[0m, \u001b[0mNoise\u001b[0m, \u001b[0mKnock\u001b[0m, \u001b[0mKnock\u001b[0m, \u001b[91mKnock\u001b[0m, \u001b[0mKnock\u001b[0m, \u001b[0mNoise\u001b[0m, \u001b[0mNoise\u001b[0m, \u001b[0mNoise\u001b[0m, \u001b[0mNoise\u001b[0m\n",
      "Actual:    \u001b[0mNoise\u001b[0m, \u001b[0mNoise\u001b[0m, \u001b[0mKnock\u001b[0m, \u001b[0mNoise\u001b[0m, \u001b[0mNoise\u001b[0m, \u001b[0mNoise\u001b[0m, \u001b[0mNoise\u001b[0m, \u001b[0mNoise\u001b[0m, \u001b[0mKnock\u001b[0m, \u001b[0mKnock\u001b[0m, \u001b[91mNoise\u001b[0m, \u001b[0mKnock\u001b[0m, \u001b[0mNoise\u001b[0m, \u001b[0mNoise\u001b[0m, \u001b[0mNoise\u001b[0m, \u001b[0mNoise\u001b[0m\n",
      "\n",
      "Predicted: \u001b[0mNoise\u001b[0m, \u001b[0mNoise\u001b[0m, \u001b[0mNoise\u001b[0m, \u001b[0mNoise\u001b[0m, \u001b[0mNoise\u001b[0m, \u001b[0mKnock\u001b[0m, \u001b[0mNoise\u001b[0m, \u001b[0mNoise\u001b[0m, \u001b[0mNoise\u001b[0m, \u001b[0mNoise\u001b[0m, \u001b[0mNoise\u001b[0m, \u001b[0mKnock\u001b[0m, \u001b[0mKnock\u001b[0m, \u001b[0mNoise\u001b[0m, \u001b[0mKnock\u001b[0m, \u001b[0mNoise\u001b[0m\n",
      "Actual:    \u001b[0mNoise\u001b[0m, \u001b[0mNoise\u001b[0m, \u001b[0mNoise\u001b[0m, \u001b[0mNoise\u001b[0m, \u001b[0mNoise\u001b[0m, \u001b[0mKnock\u001b[0m, \u001b[0mNoise\u001b[0m, \u001b[0mNoise\u001b[0m, \u001b[0mNoise\u001b[0m, \u001b[0mNoise\u001b[0m, \u001b[0mNoise\u001b[0m, \u001b[0mKnock\u001b[0m, \u001b[0mKnock\u001b[0m, \u001b[0mNoise\u001b[0m, \u001b[0mKnock\u001b[0m, \u001b[0mNoise\u001b[0m\n",
      "\n",
      "Predicted: \u001b[0mNoise\u001b[0m, \u001b[0mKnock\u001b[0m, \u001b[0mNoise\u001b[0m, \u001b[0mKnock\u001b[0m, \u001b[0mNoise\u001b[0m, \u001b[0mNoise\u001b[0m, \u001b[0mNoise\u001b[0m, \u001b[0mKnock\u001b[0m, \u001b[0mKnock\u001b[0m, \u001b[0mNoise\u001b[0m, \u001b[0mKnock\u001b[0m, \u001b[0mKnock\u001b[0m, \u001b[0mNoise\u001b[0m, \u001b[0mNoise\u001b[0m, \u001b[0mNoise\u001b[0m, \u001b[0mKnock\u001b[0m\n",
      "Actual:    \u001b[0mNoise\u001b[0m, \u001b[0mKnock\u001b[0m, \u001b[0mNoise\u001b[0m, \u001b[0mKnock\u001b[0m, \u001b[0mNoise\u001b[0m, \u001b[0mNoise\u001b[0m, \u001b[0mNoise\u001b[0m, \u001b[0mKnock\u001b[0m, \u001b[0mKnock\u001b[0m, \u001b[0mNoise\u001b[0m, \u001b[0mKnock\u001b[0m, \u001b[0mKnock\u001b[0m, \u001b[0mNoise\u001b[0m, \u001b[0mNoise\u001b[0m, \u001b[0mNoise\u001b[0m, \u001b[0mKnock\u001b[0m\n",
      "\n",
      "Predicted: \u001b[0mKnock\u001b[0m, \u001b[0mNoise\u001b[0m, \u001b[0mKnock\u001b[0m, \u001b[0mNoise\u001b[0m, \u001b[0mKnock\u001b[0m, \u001b[0mKnock\u001b[0m, \u001b[0mNoise\u001b[0m, \u001b[0mKnock\u001b[0m, \u001b[0mNoise\u001b[0m, \u001b[0mNoise\u001b[0m, \u001b[0mNoise\u001b[0m, \u001b[0mNoise\u001b[0m, \u001b[91mNoise\u001b[0m, \u001b[0mKnock\u001b[0m, \u001b[0mNoise\u001b[0m, \u001b[0mNoise\u001b[0m\n",
      "Actual:    \u001b[0mKnock\u001b[0m, \u001b[0mNoise\u001b[0m, \u001b[0mKnock\u001b[0m, \u001b[0mNoise\u001b[0m, \u001b[0mKnock\u001b[0m, \u001b[0mKnock\u001b[0m, \u001b[0mNoise\u001b[0m, \u001b[0mKnock\u001b[0m, \u001b[0mNoise\u001b[0m, \u001b[0mNoise\u001b[0m, \u001b[0mNoise\u001b[0m, \u001b[0mNoise\u001b[0m, \u001b[91mKnock\u001b[0m, \u001b[0mKnock\u001b[0m, \u001b[0mNoise\u001b[0m, \u001b[0mNoise\u001b[0m\n",
      "\n",
      "Predicted: \u001b[0mNoise\u001b[0m, \u001b[0mNoise\u001b[0m, \u001b[0mNoise\u001b[0m, \u001b[91mKnock\u001b[0m, \u001b[0mNoise\u001b[0m, \u001b[0mNoise\u001b[0m, \u001b[0mKnock\u001b[0m, \u001b[0mNoise\u001b[0m, \u001b[0mNoise\u001b[0m, \u001b[91mKnock\u001b[0m, \u001b[91mKnock\u001b[0m, \u001b[0mNoise\u001b[0m, \u001b[0mKnock\u001b[0m, \u001b[0mNoise\u001b[0m, \u001b[0mKnock\u001b[0m, \u001b[0mNoise\u001b[0m\n",
      "Actual:    \u001b[0mNoise\u001b[0m, \u001b[0mNoise\u001b[0m, \u001b[0mNoise\u001b[0m, \u001b[91mNoise\u001b[0m, \u001b[0mNoise\u001b[0m, \u001b[0mNoise\u001b[0m, \u001b[0mKnock\u001b[0m, \u001b[0mNoise\u001b[0m, \u001b[0mNoise\u001b[0m, \u001b[91mNoise\u001b[0m, \u001b[91mNoise\u001b[0m, \u001b[0mNoise\u001b[0m, \u001b[0mKnock\u001b[0m, \u001b[0mNoise\u001b[0m, \u001b[0mKnock\u001b[0m, \u001b[0mNoise\u001b[0m\n",
      "\n",
      "Predicted: \u001b[0mNoise\u001b[0m, \u001b[0mKnock\u001b[0m, \u001b[0mNoise\u001b[0m, \u001b[0mNoise\u001b[0m, \u001b[0mNoise\u001b[0m, \u001b[0mNoise\u001b[0m, \u001b[0mNoise\u001b[0m, \u001b[91mNoise\u001b[0m, \u001b[0mNoise\u001b[0m, \u001b[0mNoise\u001b[0m, \u001b[0mNoise\u001b[0m, \u001b[0mNoise\u001b[0m, \u001b[0mKnock\u001b[0m, \u001b[0mKnock\u001b[0m, \u001b[0mKnock\u001b[0m, \u001b[91mNoise\u001b[0m\n",
      "Actual:    \u001b[0mNoise\u001b[0m, \u001b[0mKnock\u001b[0m, \u001b[0mNoise\u001b[0m, \u001b[0mNoise\u001b[0m, \u001b[0mNoise\u001b[0m, \u001b[0mNoise\u001b[0m, \u001b[0mNoise\u001b[0m, \u001b[91mKnock\u001b[0m, \u001b[0mNoise\u001b[0m, \u001b[0mNoise\u001b[0m, \u001b[0mNoise\u001b[0m, \u001b[0mNoise\u001b[0m, \u001b[0mKnock\u001b[0m, \u001b[0mKnock\u001b[0m, \u001b[0mKnock\u001b[0m, \u001b[91mKnock\u001b[0m\n",
      "\n",
      "Predicted: \u001b[91mNoise\u001b[0m, \u001b[0mNoise\u001b[0m, \u001b[0mKnock\u001b[0m, \u001b[0mNoise\u001b[0m, \u001b[0mNoise\u001b[0m, \u001b[0mNoise\u001b[0m, \u001b[0mNoise\u001b[0m, \u001b[0mNoise\u001b[0m, \u001b[0mKnock\u001b[0m, \u001b[0mNoise\u001b[0m, \u001b[0mNoise\u001b[0m, \u001b[0mNoise\u001b[0m, \u001b[0mNoise\u001b[0m, \u001b[0mNoise\u001b[0m, \u001b[0mNoise\u001b[0m, \u001b[0mKnock\u001b[0m\n",
      "Actual:    \u001b[91mKnock\u001b[0m, \u001b[0mNoise\u001b[0m, \u001b[0mKnock\u001b[0m, \u001b[0mNoise\u001b[0m, \u001b[0mNoise\u001b[0m, \u001b[0mNoise\u001b[0m, \u001b[0mNoise\u001b[0m, \u001b[0mNoise\u001b[0m, \u001b[0mKnock\u001b[0m, \u001b[0mNoise\u001b[0m, \u001b[0mNoise\u001b[0m, \u001b[0mNoise\u001b[0m, \u001b[0mNoise\u001b[0m, \u001b[0mNoise\u001b[0m, \u001b[0mNoise\u001b[0m, \u001b[0mKnock\u001b[0m\n",
      "\n",
      "Predicted: \u001b[0mKnock\u001b[0m, \u001b[0mNoise\u001b[0m, \u001b[91mKnock\u001b[0m, \u001b[0mNoise\u001b[0m, \u001b[0mNoise\u001b[0m, \u001b[0mNoise\u001b[0m, \u001b[0mKnock\u001b[0m, \u001b[0mNoise\u001b[0m, \u001b[0mKnock\u001b[0m, \u001b[0mNoise\u001b[0m, \u001b[0mKnock\u001b[0m, \u001b[91mNoise\u001b[0m, \u001b[0mNoise\u001b[0m, \u001b[0mKnock\u001b[0m, \u001b[0mNoise\u001b[0m, \u001b[0mNoise\u001b[0m\n",
      "Actual:    \u001b[0mKnock\u001b[0m, \u001b[0mNoise\u001b[0m, \u001b[91mNoise\u001b[0m, \u001b[0mNoise\u001b[0m, \u001b[0mNoise\u001b[0m, \u001b[0mNoise\u001b[0m, \u001b[0mKnock\u001b[0m, \u001b[0mNoise\u001b[0m, \u001b[0mKnock\u001b[0m, \u001b[0mNoise\u001b[0m, \u001b[0mKnock\u001b[0m, \u001b[91mKnock\u001b[0m, \u001b[0mNoise\u001b[0m, \u001b[0mKnock\u001b[0m, \u001b[0mNoise\u001b[0m, \u001b[0mNoise\u001b[0m\n",
      "\n",
      "Predicted: \u001b[0mNoise\u001b[0m, \u001b[0mNoise\u001b[0m, \u001b[0mNoise\u001b[0m, \u001b[91mNoise\u001b[0m, \u001b[0mKnock\u001b[0m, \u001b[0mNoise\u001b[0m, \u001b[0mKnock\u001b[0m, \u001b[0mNoise\u001b[0m, \u001b[0mNoise\u001b[0m, \u001b[0mKnock\u001b[0m, \u001b[91mNoise\u001b[0m, \u001b[0mNoise\u001b[0m, \u001b[0mKnock\u001b[0m, \u001b[0mKnock\u001b[0m, \u001b[0mNoise\u001b[0m, \u001b[0mNoise\u001b[0m\n",
      "Actual:    \u001b[0mNoise\u001b[0m, \u001b[0mNoise\u001b[0m, \u001b[0mNoise\u001b[0m, \u001b[91mKnock\u001b[0m, \u001b[0mKnock\u001b[0m, \u001b[0mNoise\u001b[0m, \u001b[0mKnock\u001b[0m, \u001b[0mNoise\u001b[0m, \u001b[0mNoise\u001b[0m, \u001b[0mKnock\u001b[0m, \u001b[91mKnock\u001b[0m, \u001b[0mNoise\u001b[0m, \u001b[0mKnock\u001b[0m, \u001b[0mKnock\u001b[0m, \u001b[0mNoise\u001b[0m, \u001b[0mNoise\u001b[0m\n",
      "\n",
      "Predicted: \u001b[0mKnock\u001b[0m, \u001b[0mNoise\u001b[0m, \u001b[0mNoise\u001b[0m, \u001b[0mKnock\u001b[0m, \u001b[0mKnock\u001b[0m, \u001b[0mNoise\u001b[0m, \u001b[0mKnock\u001b[0m, \u001b[0mNoise\u001b[0m, \u001b[0mKnock\u001b[0m, \u001b[91mNoise\u001b[0m, \u001b[0mKnock\u001b[0m, \u001b[0mKnock\u001b[0m, \u001b[0mNoise\u001b[0m, \u001b[0mNoise\u001b[0m, \u001b[0mNoise\u001b[0m, \u001b[0mNoise\u001b[0m\n",
      "Actual:    \u001b[0mKnock\u001b[0m, \u001b[0mNoise\u001b[0m, \u001b[0mNoise\u001b[0m, \u001b[0mKnock\u001b[0m, \u001b[0mKnock\u001b[0m, \u001b[0mNoise\u001b[0m, \u001b[0mKnock\u001b[0m, \u001b[0mNoise\u001b[0m, \u001b[0mKnock\u001b[0m, \u001b[91mKnock\u001b[0m, \u001b[0mKnock\u001b[0m, \u001b[0mKnock\u001b[0m, \u001b[0mNoise\u001b[0m, \u001b[0mNoise\u001b[0m, \u001b[0mNoise\u001b[0m, \u001b[0mNoise\u001b[0m\n",
      "\n",
      "Predicted: \u001b[91mNoise\u001b[0m, \u001b[0mNoise\u001b[0m, \u001b[0mNoise\u001b[0m, \u001b[0mNoise\u001b[0m, \u001b[0mKnock\u001b[0m, \u001b[0mNoise\u001b[0m, \u001b[0mKnock\u001b[0m, \u001b[0mNoise\u001b[0m, \u001b[0mKnock\u001b[0m, \u001b[0mNoise\u001b[0m, \u001b[0mKnock\u001b[0m, \u001b[0mKnock\u001b[0m, \u001b[0mNoise\u001b[0m, \u001b[0mKnock\u001b[0m, \u001b[0mNoise\u001b[0m, \u001b[91mNoise\u001b[0m\n",
      "Actual:    \u001b[91mKnock\u001b[0m, \u001b[0mNoise\u001b[0m, \u001b[0mNoise\u001b[0m, \u001b[0mNoise\u001b[0m, \u001b[0mKnock\u001b[0m, \u001b[0mNoise\u001b[0m, \u001b[0mKnock\u001b[0m, \u001b[0mNoise\u001b[0m, \u001b[0mKnock\u001b[0m, \u001b[0mNoise\u001b[0m, \u001b[0mKnock\u001b[0m, \u001b[0mKnock\u001b[0m, \u001b[0mNoise\u001b[0m, \u001b[0mKnock\u001b[0m, \u001b[0mNoise\u001b[0m, \u001b[91mKnock\u001b[0m\n",
      "\n",
      "Predicted: \u001b[0mNoise\u001b[0m, \u001b[0mNoise\u001b[0m, \u001b[0mNoise\u001b[0m, \u001b[0mKnock\u001b[0m, \u001b[0mNoise\u001b[0m, \u001b[91mNoise\u001b[0m, \u001b[0mNoise\u001b[0m, \u001b[0mNoise\u001b[0m, \u001b[0mKnock\u001b[0m, \u001b[91mNoise\u001b[0m, \u001b[0mNoise\u001b[0m, \u001b[0mKnock\u001b[0m, \u001b[91mNoise\u001b[0m, \u001b[0mNoise\u001b[0m, \u001b[0mKnock\u001b[0m, \u001b[91mNoise\u001b[0m\n",
      "Actual:    \u001b[0mNoise\u001b[0m, \u001b[0mNoise\u001b[0m, \u001b[0mNoise\u001b[0m, \u001b[0mKnock\u001b[0m, \u001b[0mNoise\u001b[0m, \u001b[91mKnock\u001b[0m, \u001b[0mNoise\u001b[0m, \u001b[0mNoise\u001b[0m, \u001b[0mKnock\u001b[0m, \u001b[91mKnock\u001b[0m, \u001b[0mNoise\u001b[0m, \u001b[0mKnock\u001b[0m, \u001b[91mKnock\u001b[0m, \u001b[0mNoise\u001b[0m, \u001b[0mKnock\u001b[0m, \u001b[91mKnock\u001b[0m\n",
      "\n",
      "Predicted: \u001b[0mNoise\u001b[0m, \u001b[0mNoise\u001b[0m, \u001b[0mNoise\u001b[0m, \u001b[91mKnock\u001b[0m, \u001b[0mNoise\u001b[0m, \u001b[0mKnock\u001b[0m, \u001b[0mNoise\u001b[0m, \u001b[0mNoise\u001b[0m, \u001b[0mKnock\u001b[0m, \u001b[0mNoise\u001b[0m, \u001b[0mNoise\u001b[0m, \u001b[0mNoise\u001b[0m, \u001b[91mNoise\u001b[0m, \u001b[0mNoise\u001b[0m, \u001b[0mNoise\u001b[0m, \u001b[0mKnock\u001b[0m\n",
      "Actual:    \u001b[0mNoise\u001b[0m, \u001b[0mNoise\u001b[0m, \u001b[0mNoise\u001b[0m, \u001b[91mNoise\u001b[0m, \u001b[0mNoise\u001b[0m, \u001b[0mKnock\u001b[0m, \u001b[0mNoise\u001b[0m, \u001b[0mNoise\u001b[0m, \u001b[0mKnock\u001b[0m, \u001b[0mNoise\u001b[0m, \u001b[0mNoise\u001b[0m, \u001b[0mNoise\u001b[0m, \u001b[91mKnock\u001b[0m, \u001b[0mNoise\u001b[0m, \u001b[0mNoise\u001b[0m, \u001b[0mKnock\u001b[0m\n",
      "\n",
      "Predicted: \u001b[0mKnock\u001b[0m, \u001b[0mKnock\u001b[0m, \u001b[0mNoise\u001b[0m, \u001b[0mNoise\u001b[0m, \u001b[0mKnock\u001b[0m, \u001b[0mNoise\u001b[0m, \u001b[0mNoise\u001b[0m, \u001b[0mNoise\u001b[0m, \u001b[0mNoise\u001b[0m, \u001b[91mNoise\u001b[0m, \u001b[0mNoise\u001b[0m, \u001b[0mKnock\u001b[0m, \u001b[0mNoise\u001b[0m, \u001b[0mNoise\u001b[0m, \u001b[0mNoise\u001b[0m\n",
      "Actual:    \u001b[0mKnock\u001b[0m, \u001b[0mKnock\u001b[0m, \u001b[0mNoise\u001b[0m, \u001b[0mNoise\u001b[0m, \u001b[0mKnock\u001b[0m, \u001b[0mNoise\u001b[0m, \u001b[0mNoise\u001b[0m, \u001b[0mNoise\u001b[0m, \u001b[0mNoise\u001b[0m, \u001b[91mKnock\u001b[0m, \u001b[0mNoise\u001b[0m, \u001b[0mKnock\u001b[0m, \u001b[0mNoise\u001b[0m, \u001b[0mNoise\u001b[0m, \u001b[0mNoise\u001b[0m\n",
      "\n",
      "Accuracy: 0.90, Total items: 351\n"
     ]
    }
   ],
   "source": [
    "def inference(model, val_dl):\n",
    "    correct_prediction = 0\n",
    "    total_prediction = 0\n",
    "    class_names = {0: 'Noise', 1: 'Knock'}  # Mapping class indices to class names\n",
    "\n",
    "    # ANSI escape codes for colors\n",
    "    RED = '\\033[91m'   # Red text\n",
    "    RESET = '\\033[0m'  # Reset to default color\n",
    "\n",
    "    # Disable gradient updates\n",
    "    with torch.no_grad():\n",
    "        for data in val_dl:\n",
    "            # Get the input features and target labels, and put them on the GPU\n",
    "            inputs, labels = data[0].to(device), data[1].to(device)\n",
    "\n",
    "            # Normalize the inputs\n",
    "            inputs_m, inputs_s = inputs.mean(), inputs.std()\n",
    "            inputs = (inputs - inputs_m) / inputs_s\n",
    "\n",
    "            # Get predictions\n",
    "            outputs = model(inputs)\n",
    "\n",
    "            # Get the predicted class with the highest score\n",
    "            _, prediction = torch.max(outputs, 1)\n",
    "            # Convert predictions and actual labels to class names\n",
    "            predicted_classes = [class_names.get(p.item(), p.item()) for p in prediction]\n",
    "            actual_classes = [class_names.get(l.item(), l.item()) for l in labels]\n",
    "            row_len = 50\n",
    "            # Prepare to print 10 predictions and actuals per line\n",
    "            for i in range(0, len(predicted_classes), row_len):\n",
    "                pred_slice = predicted_classes[i:i+row_len]\n",
    "                actual_slice = actual_classes[i:i+row_len]\n",
    "                pred_str = ', '.join([f'{RED if pred != actual else RESET}{pred}{RESET}' for pred, actual in zip(pred_slice, actual_slice)])\n",
    "                actual_str = ', '.join([f'{RED if pred != actual else RESET}{actual}{RESET}' for pred, actual in zip(pred_slice, actual_slice)])\n",
    "                print(f'Predicted: {pred_str}\\nActual:    {actual_str}\\n')\n",
    "\n",
    "            # Count of predictions that matched the target label\n",
    "            correct_prediction += (prediction == labels).sum().item()\n",
    "            total_prediction += prediction.shape[0]\n",
    "\n",
    "    acc = correct_prediction / total_prediction\n",
    "    print(f'Accuracy: {acc:.2f}, Total items: {total_prediction}')\n",
    "\n",
    "# Assuming myModel and valid_dl are defined\n",
    "inference(myModel, valid_dl)"
   ]
  },
  {
   "cell_type": "code",
   "execution_count": 7,
   "metadata": {},
   "outputs": [],
   "source": [
    "#saving the model\n",
    "torch.save(myModel.state_dict(), 'data/models/V8_model_state_dict.pth')\n",
    "torch.save(myModel, 'data/models/V8_model_full.pth')"
   ]
  },
  {
   "cell_type": "code",
   "execution_count": 8,
   "metadata": {},
   "outputs": [
    {
     "name": "stdout",
     "output_type": "stream",
     "text": [
      "Predicted: \u001b[91mNoise\u001b[0m\n",
      "Actual:    \u001b[91mKnock\u001b[0m\n",
      "\n",
      "Accuracy: 0.00, Total items: 1\n"
     ]
    }
   ],
   "source": [
    "model = AudioClassifier()\n",
    "model.load_state_dict(torch.load('data/models/V8_model_state_dict.pth'))\n",
    "model = model.to(device)\n",
    "single_ds = SoundDS('data/single')\n",
    "single_dl = DataLoader(single_ds, shuffle=True)\n",
    "\n",
    "inference(model, single_dl)"
   ]
  }
 ],
 "metadata": {
  "kernelspec": {
   "display_name": "Python 3",
   "language": "python",
   "name": "python3"
  },
  "language_info": {
   "codemirror_mode": {
    "name": "ipython",
    "version": 3
   },
   "file_extension": ".py",
   "mimetype": "text/x-python",
   "name": "python",
   "nbconvert_exporter": "python",
   "pygments_lexer": "ipython3",
   "version": "3.11.3"
  }
 },
 "nbformat": 4,
 "nbformat_minor": 2
}
