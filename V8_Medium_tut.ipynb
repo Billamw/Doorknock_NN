{
 "cells": [
  {
   "cell_type": "markdown",
   "metadata": {},
   "source": [
    "https://towardsdatascience.com/audio-deep-learning-made-simple-sound-classification-step-by-step-cebc936bbe5"
   ]
  },
  {
   "cell_type": "code",
   "execution_count": 16,
   "metadata": {},
   "outputs": [],
   "source": [
    "import torch\n",
    "import random\n",
    "import torchaudio\n",
    "from torchaudio import transforms\n",
    "import os\n",
    "import torch.nn as nn\n",
    "from torch.utils.data import DataLoader, Dataset\n",
    "from AudioUtil import AudioUtil\n",
    "from SoundDS import SoundDS\n",
    "from AudioClassifier import AudioClassifier"
   ]
  },
  {
   "cell_type": "code",
   "execution_count": 15,
   "metadata": {},
   "outputs": [
    {
     "name": "stdout",
     "output_type": "stream",
     "text": [
      "The autoreload extension is already loaded. To reload it, use:\n",
      "  %reload_ext autoreload\n"
     ]
    }
   ],
   "source": [
    "%load_ext autoreload\n",
    "%autoreload 2"
   ]
  },
  {
   "cell_type": "code",
   "execution_count": 17,
   "metadata": {},
   "outputs": [],
   "source": [
    "train_data = SoundDS('data/train')\n",
    "test_data = SoundDS('data/test')\n",
    "valid_data = SoundDS('data/validation')\n",
    "\n",
    "train_dl = DataLoader(train_data, batch_size=16, shuffle=True)\n",
    "test_dl = DataLoader(test_data, batch_size=16, shuffle=True)\n",
    "val_dl = DataLoader(valid_data, batch_size=16, shuffle=True)"
   ]
  },
  {
   "cell_type": "code",
   "execution_count": 18,
   "metadata": {},
   "outputs": [
    {
     "name": "stdout",
     "output_type": "stream",
     "text": [
      "[tensor([[[[-30.0889, -21.6071, -26.8864,  ..., -15.9838, -22.9360, -17.2147],\n",
      "          [-21.4632, -24.5870, -28.6117,  ..., -20.8001, -23.8865, -23.2233],\n",
      "          [-20.7024, -27.3035, -18.7314,  ..., -23.8563, -21.1787, -20.6578],\n",
      "          ...,\n",
      "          [-36.3524, -35.2500, -35.0007,  ..., -35.5221, -34.3151, -34.9494],\n",
      "          [-26.2103, -26.4810, -25.5787,  ..., -27.1514, -24.9009, -26.4410],\n",
      "          [-29.8057, -31.4929, -30.8465,  ..., -31.6708, -29.9144, -31.0251]],\n",
      "\n",
      "         [[-30.0889, -21.6071, -26.8864,  ..., -15.9838, -22.9360, -17.2147],\n",
      "          [-21.4632, -24.5870, -28.6117,  ..., -20.8001, -23.8865, -23.2233],\n",
      "          [-20.7024, -27.3035, -18.7314,  ..., -23.8563, -21.1787, -20.6578],\n",
      "          ...,\n",
      "          [-36.3524, -35.2500, -35.0007,  ..., -35.5221, -34.3151, -34.9494],\n",
      "          [-26.2103, -26.4810, -25.5787,  ..., -27.1514, -24.9009, -26.4410],\n",
      "          [-29.8057, -31.4929, -30.8465,  ..., -31.6708, -29.9144, -31.0251]]],\n",
      "\n",
      "\n",
      "        [[[ -8.2903,  -4.4888,  -6.3338,  ..., -10.6892,  -5.6151,  -6.8829],\n",
      "          [ -7.5796,  -3.2226,  -4.2354,  ...,  -9.3563,  -3.5713,  -2.6140],\n",
      "          [-13.7493,  -6.7944,  -8.5459,  ...,  -9.8385,  -6.1389,  -5.3014],\n",
      "          ...,\n",
      "          [-32.8272, -35.8231, -35.1979,  ..., -35.8672, -36.2616, -36.4178],\n",
      "          [-26.4318, -25.8957, -26.0240,  ..., -25.7257, -26.5017, -24.8388],\n",
      "          [-30.7424, -30.7053, -31.0969,  ..., -30.7619, -30.3955, -29.6925]],\n",
      "\n",
      "         [[ -8.2903,  -4.4888,  -6.3338,  ..., -10.6892,  -5.6151,  -6.8829],\n",
      "          [ -7.5796,  -3.2226,  -4.2354,  ...,  -9.3563,  -3.5713,  -2.6140],\n",
      "          [-13.7493,  -6.7944,  -8.5459,  ...,  -9.8385,  -6.1389,  -5.3014],\n",
      "          ...,\n",
      "          [-32.8272, -35.8231, -35.1979,  ..., -35.8672, -36.2616, -36.4178],\n",
      "          [-26.4318, -25.8957, -26.0240,  ..., -25.7257, -26.5017, -24.8388],\n",
      "          [-30.7424, -30.7053, -31.0969,  ..., -30.7619, -30.3955, -29.6925]]],\n",
      "\n",
      "\n",
      "        [[[-17.7307, -18.9056, -17.9192,  ..., -16.8478, -19.5857, -20.6555],\n",
      "          [-25.8641, -24.8107, -18.5776,  ..., -15.0147, -21.2585, -22.4077],\n",
      "          [-25.9645, -25.1885, -26.3109,  ..., -18.1028, -26.1759, -25.9874],\n",
      "          ...,\n",
      "          [-43.7371, -44.0210, -43.3660,  ..., -42.8348, -46.5395, -44.8831],\n",
      "          [-43.3264, -44.4591, -41.5543,  ..., -43.3693, -44.4135, -43.7974],\n",
      "          [-46.9991, -46.3335, -45.2781,  ..., -47.0840, -45.7665, -46.9676]],\n",
      "\n",
      "         [[-17.7307, -18.9056, -17.9192,  ..., -16.8478, -19.5857, -20.6555],\n",
      "          [-25.8641, -24.8107, -18.5776,  ..., -15.0147, -21.2585, -22.4077],\n",
      "          [-25.9645, -25.1885, -26.3109,  ..., -18.1028, -26.1759, -25.9874],\n",
      "          ...,\n",
      "          [-43.7371, -44.0210, -43.3660,  ..., -42.8348, -46.5395, -44.8831],\n",
      "          [-43.3264, -44.4591, -41.5543,  ..., -43.3693, -44.4135, -43.7974],\n",
      "          [-46.9991, -46.3335, -45.2781,  ..., -47.0840, -45.7665, -46.9676]]],\n",
      "\n",
      "\n",
      "        ...,\n",
      "\n",
      "\n",
      "        [[[-16.7234, -12.4313, -13.1570,  ..., -11.9480, -19.7005, -10.0498],\n",
      "          [-20.1242, -19.5759,  -9.0587,  ..., -11.7200, -13.8499, -18.2465],\n",
      "          [-17.3680, -20.6934, -12.7898,  ..., -15.5064, -12.1227, -19.5488],\n",
      "          ...,\n",
      "          [-36.4406, -33.3704, -34.6140,  ..., -36.7866, -35.9138, -35.9586],\n",
      "          [-26.6249, -25.6896, -26.0868,  ..., -25.8418, -26.0408, -25.7600],\n",
      "          [-31.4090, -30.8111, -30.8969,  ..., -30.6126, -30.2028, -30.6089]],\n",
      "\n",
      "         [[-16.7234, -12.4313, -13.1570,  ..., -11.9480, -19.7005, -10.0498],\n",
      "          [-20.1242, -19.5759,  -9.0587,  ..., -11.7200, -13.8499, -18.2465],\n",
      "          [-17.3680, -20.6934, -12.7898,  ..., -15.5064, -12.1227, -19.5488],\n",
      "          ...,\n",
      "          [-36.4406, -33.3704, -34.6140,  ..., -36.7866, -35.9138, -35.9586],\n",
      "          [-26.6249, -25.6896, -26.0868,  ..., -25.8418, -26.0408, -25.7600],\n",
      "          [-31.4090, -30.8111, -30.8969,  ..., -30.6126, -30.2028, -30.6089]]],\n",
      "\n",
      "\n",
      "        [[[-22.7440, -14.1671, -16.2914,  ..., -14.8211, -15.1860, -19.9714],\n",
      "          [-14.6187, -14.5278, -13.9143,  ..., -11.8573, -13.9139, -28.2953],\n",
      "          [-21.5178, -16.8799, -18.5097,  ..., -12.5952, -15.0457, -20.0321],\n",
      "          ...,\n",
      "          [-42.5436, -44.5524, -44.2797,  ..., -44.1722, -42.3917, -46.0342],\n",
      "          [-44.8855, -44.5308, -43.4047,  ..., -43.5287, -43.8584, -46.9769],\n",
      "          [-47.3627, -47.2173, -45.9949,  ..., -48.6395, -47.8821, -47.9349]],\n",
      "\n",
      "         [[-22.7440, -14.1671, -16.2914,  ..., -14.8211, -15.1860, -19.9714],\n",
      "          [-14.6187, -14.5278, -13.9143,  ..., -11.8573, -13.9139, -28.2953],\n",
      "          [-21.5178, -16.8799, -18.5097,  ..., -12.5952, -15.0457, -20.0321],\n",
      "          ...,\n",
      "          [-42.5436, -44.5524, -44.2797,  ..., -44.1722, -42.3917, -46.0342],\n",
      "          [-44.8855, -44.5308, -43.4047,  ..., -43.5287, -43.8584, -46.9769],\n",
      "          [-47.3627, -47.2173, -45.9949,  ..., -48.6395, -47.8821, -47.9349]]],\n",
      "\n",
      "\n",
      "        [[[-15.3718, -15.1686, -25.4904,  ..., -17.2406, -13.9644, -29.1511],\n",
      "          [-18.3741, -20.4755, -28.1004,  ..., -24.4054, -15.4478, -20.7228],\n",
      "          [-26.1851, -25.3472, -28.7560,  ..., -23.7636, -18.9857, -18.9688],\n",
      "          ...,\n",
      "          [-35.4269, -34.8358, -34.7880,  ..., -35.3970, -35.1292, -35.8202],\n",
      "          [-26.6737, -27.1060, -26.2398,  ..., -26.0082, -25.3382, -25.7568],\n",
      "          [-30.8108, -31.5877, -31.1329,  ..., -30.9324, -30.0368, -30.2140]],\n",
      "\n",
      "         [[-15.3718, -15.1686, -25.4904,  ..., -17.2406, -13.9644, -29.1511],\n",
      "          [-18.3741, -20.4755, -28.1004,  ..., -24.4054, -15.4478, -20.7228],\n",
      "          [-26.1851, -25.3472, -28.7560,  ..., -23.7636, -18.9857, -18.9688],\n",
      "          ...,\n",
      "          [-35.4269, -34.8358, -34.7880,  ..., -35.3970, -35.1292, -35.8202],\n",
      "          [-26.6737, -27.1060, -26.2398,  ..., -26.0082, -25.3382, -25.7568],\n",
      "          [-30.8108, -31.5877, -31.1329,  ..., -30.9324, -30.0368, -30.2140]]]]), tensor([0, 0, 1, 0, 0, 0, 0, 1, 0, 0, 0, 0, 0, 1, 1, 1])]\n"
     ]
    }
   ],
   "source": [
    "print(next(iter(train_dl)))"
   ]
  },
  {
   "cell_type": "code",
   "execution_count": 19,
   "metadata": {},
   "outputs": [
    {
     "data": {
      "text/plain": [
       "device(type='cuda', index=0)"
      ]
     },
     "execution_count": 19,
     "metadata": {},
     "output_type": "execute_result"
    }
   ],
   "source": [
    "# Create the model and put it on the GPU if available\n",
    "myModel = AudioClassifier(out_features=2)\n",
    "device = torch.device(\"cuda:0\" if torch.cuda.is_available() else \"cpu\")\n",
    "myModel = myModel.to(device)\n",
    "# Check that it is on Cuda\n",
    "next(myModel.parameters()).device"
   ]
  },
  {
   "cell_type": "code",
   "execution_count": 49,
   "metadata": {},
   "outputs": [
    {
     "name": "stdout",
     "output_type": "stream",
     "text": [
      "2.3.0+cu118\n"
     ]
    }
   ],
   "source": [
    "print(torch.__version__)"
   ]
  },
  {
   "cell_type": "code",
   "execution_count": 20,
   "metadata": {},
   "outputs": [
    {
     "data": {
      "application/vnd.jupyter.widget-view+json": {
       "model_id": "d8c89e144d5b46898ffc3332a73f0c39",
       "version_major": 2,
       "version_minor": 0
      },
      "text/plain": [
       "IntSlider(value=7, description='Test Slider:', max=10)"
      ]
     },
     "metadata": {},
     "output_type": "display_data"
    },
    {
     "name": "stdout",
     "output_type": "stream",
     "text": [
      "7\n"
     ]
    }
   ],
   "source": [
    "import ipywidgets as widgets\n",
    "slider = widgets.IntSlider(\n",
    "    value=7,  # Initial value\n",
    "    min=0,    # Minimum value\n",
    "    max=10,   # Maximum value\n",
    "    step=1,   # Step size\n",
    "    description='Test Slider:',  # Label for the slider\n",
    ")\n",
    "\n",
    "# Step 3: Display the slider\n",
    "display(slider)\n",
    "\n",
    "# Step 4: Access the slider's value (this would be done in a separate cell or in response to an event)\n",
    "print(slider.value)"
   ]
  },
  {
   "cell_type": "code",
   "execution_count": 21,
   "metadata": {},
   "outputs": [
    {
     "name": "stdout",
     "output_type": "stream",
     "text": [
      "Epoch: 1/25, Loss: 0.65, Accuracy: 0.64\n",
      "Epoch: 2/25, Loss: 0.62, Accuracy: 0.67\n",
      "Epoch: 3/25, Loss: 0.59, Accuracy: 0.70\n",
      "Epoch: 4/25, Loss: 0.57, Accuracy: 0.72\n",
      "Epoch: 5/25, Loss: 0.55, Accuracy: 0.76\n",
      "Epoch: 6/25, Loss: 0.51, Accuracy: 0.81\n",
      "Epoch: 7/25, Loss: 0.48, Accuracy: 0.83\n",
      "Epoch: 8/25, Loss: 0.45, Accuracy: 0.86\n",
      "Epoch: 9/25, Loss: 0.44, Accuracy: 0.88\n",
      "Epoch: 10/25, Loss: 0.42, Accuracy: 0.89\n",
      "Epoch: 11/25, Loss: 0.41, Accuracy: 0.91\n",
      "Epoch: 12/25, Loss: 0.41, Accuracy: 0.90\n",
      "Epoch: 13/25, Loss: 0.40, Accuracy: 0.91\n",
      "Epoch: 14/25, Loss: 0.40, Accuracy: 0.92\n",
      "Epoch: 15/25, Loss: 0.39, Accuracy: 0.92\n",
      "Epoch: 16/25, Loss: 0.38, Accuracy: 0.94\n",
      "Finished Training\n"
     ]
    }
   ],
   "source": [
    "# ----------------------------\n",
    "# Training Loop\n",
    "# ----------------------------\n",
    "def training(model, train_dl, num_epochs):\n",
    "  # Loss Function, Optimizer and Scheduler\n",
    "  criterion = nn.CrossEntropyLoss()\n",
    "  optimizer = torch.optim.Adam(model.parameters(),lr=0.003)\n",
    "  # scheduler = torch.optim.lr_scheduler.OneCycleLR(optimizer, max_lr=0.001,\n",
    "  #                                               steps_per_epoch=int(len(train_dl)),\n",
    "  #                                               epochs=num_epochs,\n",
    "  #                                               anneal_strategy='linear')\n",
    "\n",
    "  # Repeat for each epoch\n",
    "  for epoch in range(num_epochs):\n",
    "    running_loss = 0.0\n",
    "    correct_prediction = 0\n",
    "    total_prediction = 0\n",
    "\n",
    "    # Repeat for each batch in the training set\n",
    "    for i, data in enumerate(train_dl):\n",
    "        # Get the input features and target labels, and put them on the GPU\n",
    "        inputs, labels = data[0].to(device), data[1].to(device)\n",
    "\n",
    "        # Normalize the inputs\n",
    "        inputs_m, inputs_s = inputs.mean(), inputs.std()\n",
    "        inputs = (inputs - inputs_m) / inputs_s\n",
    "\n",
    "        # Zero the parameter gradients\n",
    "        optimizer.zero_grad()\n",
    "\n",
    "        # forward + backward + optimize\n",
    "        outputs = model(inputs)\n",
    "        loss = criterion(outputs, labels)\n",
    "        loss.backward()\n",
    "        optimizer.step()\n",
    "        # scheduler.step()\n",
    "\n",
    "        # Keep stats for Loss and Accuracy\n",
    "        running_loss += loss.item()\n",
    "\n",
    "        # Get the predicted class with the highest score\n",
    "        _, prediction = torch.max(outputs,1)\n",
    "        # Count of predictions that matched the target label\n",
    "        correct_prediction += (prediction == labels).sum().item()\n",
    "        total_prediction += prediction.shape[0]\n",
    "\n",
    "        # if i % 10 == 0:    # print every 10 mini-batches\n",
    "        #    print('[%d, %5d] loss: %.3f' % (epoch + 1, i + 1, running_loss / 10))\n",
    "    \n",
    "    # Print stats at the end of the epoch\n",
    "    num_batches = len(train_dl)\n",
    "    avg_loss = running_loss / num_batches\n",
    "    acc = correct_prediction/total_prediction\n",
    "    print(f'Epoch: {epoch+1}/{num_epochs}, Loss: {avg_loss:.2f}, Accuracy: {acc:.2f}')\n",
    "    if acc > 0.92:\n",
    "      break\n",
    "\n",
    "  print('Finished Training')\n",
    "  \n",
    "num_epochs=25   # Just for demo, adjust this higher.\n",
    "training(myModel, train_dl, num_epochs)"
   ]
  },
  {
   "cell_type": "code",
   "execution_count": 6,
   "metadata": {},
   "outputs": [],
   "source": [
    "def inference(model, val_dl):\n",
    "    correct_prediction = 0\n",
    "    total_prediction = 0\n",
    "    class_names = {0: 'Noise', 1: 'Knock'}  # Mapping class indices to class names\n",
    "\n",
    "    # ANSI escape codes for colors\n",
    "    RED = '\\033[91m'   # Red text\n",
    "    RESET = '\\033[0m'  # Reset to default color\n",
    "\n",
    "    # Disable gradient updates\n",
    "    with torch.no_grad():\n",
    "        for data in val_dl:\n",
    "            # Get the input features and target labels, and put them on the GPU\n",
    "            inputs, labels = data[0].to(device), data[1].to(device)\n",
    "\n",
    "            # Normalize the inputs\n",
    "            inputs_m, inputs_s = inputs.mean(), inputs.std()\n",
    "            inputs = (inputs - inputs_m) / inputs_s\n",
    "\n",
    "            # Get predictions\n",
    "            outputs = model(inputs)\n",
    "\n",
    "            # Get the predicted class with the highest score\n",
    "            _, prediction = torch.max(outputs, 1)\n",
    "            # Convert predictions and actual labels to class names\n",
    "            predicted_classes = [class_names.get(p.item(), p.item()) for p in prediction]\n",
    "            actual_classes = [class_names.get(l.item(), l.item()) for l in labels]\n",
    "            row_len = 50\n",
    "            # Prepare to print 10 predictions and actuals per line\n",
    "            for i in range(0, len(predicted_classes), row_len):\n",
    "                pred_slice = predicted_classes[i:i+row_len]\n",
    "                actual_slice = actual_classes[i:i+row_len]\n",
    "                pred_str = ', '.join([f'{RED if pred != actual else RESET}{pred}{RESET}' for pred, actual in zip(pred_slice, actual_slice)])\n",
    "                actual_str = ', '.join([f'{RED if pred != actual else RESET}{actual}{RESET}' for pred, actual in zip(pred_slice, actual_slice)])\n",
    "                print(f'Predicted: {pred_str}\\nActual:    {actual_str}\\n')\n",
    "\n",
    "            # Count of predictions that matched the target label\n",
    "            correct_prediction += (prediction == labels).sum().item()\n",
    "            total_prediction += prediction.shape[0]\n",
    "\n",
    "    acc = correct_prediction / total_prediction\n",
    "    print(f'Accuracy: {acc:.2f}, Total items: {total_prediction}')"
   ]
  },
  {
   "cell_type": "code",
   "execution_count": null,
   "metadata": {},
   "outputs": [],
   "source": [
    "inference(myModel, val_dl)"
   ]
  },
  {
   "cell_type": "code",
   "execution_count": 7,
   "metadata": {},
   "outputs": [],
   "source": [
    "#saving the model\n",
    "torch.save(myModel.state_dict(), 'data/models/V8_model_state_dict.pth')\n",
    "torch.save(myModel, 'data/models/V8_model_full.pth')"
   ]
  },
  {
   "cell_type": "code",
   "execution_count": 14,
   "metadata": {},
   "outputs": [
    {
     "name": "stdout",
     "output_type": "stream",
     "text": [
      "Predicted: \u001b[0mNoise\u001b[0m, \u001b[91mNoise\u001b[0m, \u001b[0mKnock\u001b[0m, \u001b[0mKnock\u001b[0m, \u001b[0mNoise\u001b[0m, \u001b[0mNoise\u001b[0m, \u001b[0mKnock\u001b[0m, \u001b[91mNoise\u001b[0m, \u001b[0mNoise\u001b[0m, \u001b[0mNoise\u001b[0m, \u001b[0mNoise\u001b[0m, \u001b[0mNoise\u001b[0m, \u001b[0mKnock\u001b[0m, \u001b[0mNoise\u001b[0m, \u001b[0mKnock\u001b[0m, \u001b[0mNoise\u001b[0m\n",
      "Actual:    \u001b[0mNoise\u001b[0m, \u001b[91mKnock\u001b[0m, \u001b[0mKnock\u001b[0m, \u001b[0mKnock\u001b[0m, \u001b[0mNoise\u001b[0m, \u001b[0mNoise\u001b[0m, \u001b[0mKnock\u001b[0m, \u001b[91mKnock\u001b[0m, \u001b[0mNoise\u001b[0m, \u001b[0mNoise\u001b[0m, \u001b[0mNoise\u001b[0m, \u001b[0mNoise\u001b[0m, \u001b[0mKnock\u001b[0m, \u001b[0mNoise\u001b[0m, \u001b[0mKnock\u001b[0m, \u001b[0mNoise\u001b[0m\n",
      "\n",
      "Predicted: \u001b[0mNoise\u001b[0m, \u001b[0mNoise\u001b[0m, \u001b[0mNoise\u001b[0m, \u001b[0mNoise\u001b[0m, \u001b[0mKnock\u001b[0m, \u001b[0mKnock\u001b[0m, \u001b[91mNoise\u001b[0m, \u001b[0mKnock\u001b[0m, \u001b[0mNoise\u001b[0m, \u001b[0mNoise\u001b[0m, \u001b[0mKnock\u001b[0m, \u001b[0mKnock\u001b[0m, \u001b[0mKnock\u001b[0m, \u001b[0mNoise\u001b[0m, \u001b[0mKnock\u001b[0m, \u001b[0mKnock\u001b[0m\n",
      "Actual:    \u001b[0mNoise\u001b[0m, \u001b[0mNoise\u001b[0m, \u001b[0mNoise\u001b[0m, \u001b[0mNoise\u001b[0m, \u001b[0mKnock\u001b[0m, \u001b[0mKnock\u001b[0m, \u001b[91mKnock\u001b[0m, \u001b[0mKnock\u001b[0m, \u001b[0mNoise\u001b[0m, \u001b[0mNoise\u001b[0m, \u001b[0mKnock\u001b[0m, \u001b[0mKnock\u001b[0m, \u001b[0mKnock\u001b[0m, \u001b[0mNoise\u001b[0m, \u001b[0mKnock\u001b[0m, \u001b[0mKnock\u001b[0m\n",
      "\n",
      "Predicted: \u001b[91mKnock\u001b[0m, \u001b[0mKnock\u001b[0m, \u001b[0mKnock\u001b[0m, \u001b[0mNoise\u001b[0m, \u001b[0mNoise\u001b[0m, \u001b[0mNoise\u001b[0m, \u001b[0mNoise\u001b[0m, \u001b[0mNoise\u001b[0m, \u001b[0mNoise\u001b[0m, \u001b[0mNoise\u001b[0m, \u001b[91mNoise\u001b[0m, \u001b[0mNoise\u001b[0m, \u001b[0mKnock\u001b[0m, \u001b[0mNoise\u001b[0m, \u001b[0mNoise\u001b[0m, \u001b[91mNoise\u001b[0m\n",
      "Actual:    \u001b[91mNoise\u001b[0m, \u001b[0mKnock\u001b[0m, \u001b[0mKnock\u001b[0m, \u001b[0mNoise\u001b[0m, \u001b[0mNoise\u001b[0m, \u001b[0mNoise\u001b[0m, \u001b[0mNoise\u001b[0m, \u001b[0mNoise\u001b[0m, \u001b[0mNoise\u001b[0m, \u001b[0mNoise\u001b[0m, \u001b[91mKnock\u001b[0m, \u001b[0mNoise\u001b[0m, \u001b[0mKnock\u001b[0m, \u001b[0mNoise\u001b[0m, \u001b[0mNoise\u001b[0m, \u001b[91mKnock\u001b[0m\n",
      "\n",
      "Predicted: \u001b[0mKnock\u001b[0m, \u001b[0mNoise\u001b[0m, \u001b[0mNoise\u001b[0m, \u001b[0mNoise\u001b[0m, \u001b[0mNoise\u001b[0m, \u001b[0mNoise\u001b[0m, \u001b[0mNoise\u001b[0m, \u001b[0mNoise\u001b[0m, \u001b[0mNoise\u001b[0m, \u001b[0mNoise\u001b[0m, \u001b[0mNoise\u001b[0m, \u001b[91mKnock\u001b[0m, \u001b[0mNoise\u001b[0m, \u001b[91mKnock\u001b[0m, \u001b[0mNoise\u001b[0m, \u001b[0mNoise\u001b[0m\n",
      "Actual:    \u001b[0mKnock\u001b[0m, \u001b[0mNoise\u001b[0m, \u001b[0mNoise\u001b[0m, \u001b[0mNoise\u001b[0m, \u001b[0mNoise\u001b[0m, \u001b[0mNoise\u001b[0m, \u001b[0mNoise\u001b[0m, \u001b[0mNoise\u001b[0m, \u001b[0mNoise\u001b[0m, \u001b[0mNoise\u001b[0m, \u001b[0mNoise\u001b[0m, \u001b[91mNoise\u001b[0m, \u001b[0mNoise\u001b[0m, \u001b[91mNoise\u001b[0m, \u001b[0mNoise\u001b[0m, \u001b[0mNoise\u001b[0m\n",
      "\n",
      "Predicted: \u001b[0mKnock\u001b[0m, \u001b[0mNoise\u001b[0m, \u001b[0mNoise\u001b[0m, \u001b[0mKnock\u001b[0m, \u001b[0mKnock\u001b[0m, \u001b[0mNoise\u001b[0m, \u001b[91mNoise\u001b[0m, \u001b[0mNoise\u001b[0m, \u001b[0mKnock\u001b[0m, \u001b[0mNoise\u001b[0m, \u001b[0mNoise\u001b[0m, \u001b[0mNoise\u001b[0m, \u001b[0mKnock\u001b[0m, \u001b[0mKnock\u001b[0m, \u001b[91mNoise\u001b[0m, \u001b[0mNoise\u001b[0m\n",
      "Actual:    \u001b[0mKnock\u001b[0m, \u001b[0mNoise\u001b[0m, \u001b[0mNoise\u001b[0m, \u001b[0mKnock\u001b[0m, \u001b[0mKnock\u001b[0m, \u001b[0mNoise\u001b[0m, \u001b[91mKnock\u001b[0m, \u001b[0mNoise\u001b[0m, \u001b[0mKnock\u001b[0m, \u001b[0mNoise\u001b[0m, \u001b[0mNoise\u001b[0m, \u001b[0mNoise\u001b[0m, \u001b[0mKnock\u001b[0m, \u001b[0mKnock\u001b[0m, \u001b[91mKnock\u001b[0m, \u001b[0mNoise\u001b[0m\n",
      "\n",
      "Predicted: \u001b[0mNoise\u001b[0m, \u001b[0mNoise\u001b[0m, \u001b[0mNoise\u001b[0m, \u001b[0mNoise\u001b[0m, \u001b[0mNoise\u001b[0m, \u001b[0mNoise\u001b[0m, \u001b[0mNoise\u001b[0m, \u001b[0mNoise\u001b[0m, \u001b[0mKnock\u001b[0m, \u001b[0mNoise\u001b[0m, \u001b[0mKnock\u001b[0m, \u001b[91mNoise\u001b[0m, \u001b[0mKnock\u001b[0m, \u001b[0mKnock\u001b[0m, \u001b[0mKnock\u001b[0m, \u001b[0mNoise\u001b[0m\n",
      "Actual:    \u001b[0mNoise\u001b[0m, \u001b[0mNoise\u001b[0m, \u001b[0mNoise\u001b[0m, \u001b[0mNoise\u001b[0m, \u001b[0mNoise\u001b[0m, \u001b[0mNoise\u001b[0m, \u001b[0mNoise\u001b[0m, \u001b[0mNoise\u001b[0m, \u001b[0mKnock\u001b[0m, \u001b[0mNoise\u001b[0m, \u001b[0mKnock\u001b[0m, \u001b[91mKnock\u001b[0m, \u001b[0mKnock\u001b[0m, \u001b[0mKnock\u001b[0m, \u001b[0mKnock\u001b[0m, \u001b[0mNoise\u001b[0m\n",
      "\n",
      "Predicted: \u001b[0mNoise\u001b[0m, \u001b[0mKnock\u001b[0m, \u001b[0mNoise\u001b[0m, \u001b[0mKnock\u001b[0m, \u001b[0mNoise\u001b[0m, \u001b[0mNoise\u001b[0m, \u001b[0mNoise\u001b[0m, \u001b[0mNoise\u001b[0m, \u001b[0mNoise\u001b[0m, \u001b[0mNoise\u001b[0m, \u001b[0mNoise\u001b[0m, \u001b[0mNoise\u001b[0m, \u001b[0mNoise\u001b[0m, \u001b[0mNoise\u001b[0m, \u001b[0mKnock\u001b[0m, \u001b[0mNoise\u001b[0m\n",
      "Actual:    \u001b[0mNoise\u001b[0m, \u001b[0mKnock\u001b[0m, \u001b[0mNoise\u001b[0m, \u001b[0mKnock\u001b[0m, \u001b[0mNoise\u001b[0m, \u001b[0mNoise\u001b[0m, \u001b[0mNoise\u001b[0m, \u001b[0mNoise\u001b[0m, \u001b[0mNoise\u001b[0m, \u001b[0mNoise\u001b[0m, \u001b[0mNoise\u001b[0m, \u001b[0mNoise\u001b[0m, \u001b[0mNoise\u001b[0m, \u001b[0mNoise\u001b[0m, \u001b[0mKnock\u001b[0m, \u001b[0mNoise\u001b[0m\n",
      "\n",
      "Predicted: \u001b[0mNoise\u001b[0m, \u001b[0mNoise\u001b[0m, \u001b[0mNoise\u001b[0m, \u001b[0mKnock\u001b[0m, \u001b[0mKnock\u001b[0m, \u001b[91mNoise\u001b[0m, \u001b[0mNoise\u001b[0m, \u001b[0mNoise\u001b[0m, \u001b[0mKnock\u001b[0m, \u001b[0mNoise\u001b[0m, \u001b[0mKnock\u001b[0m, \u001b[0mNoise\u001b[0m, \u001b[0mKnock\u001b[0m, \u001b[0mNoise\u001b[0m, \u001b[0mNoise\u001b[0m, \u001b[0mNoise\u001b[0m\n",
      "Actual:    \u001b[0mNoise\u001b[0m, \u001b[0mNoise\u001b[0m, \u001b[0mNoise\u001b[0m, \u001b[0mKnock\u001b[0m, \u001b[0mKnock\u001b[0m, \u001b[91mKnock\u001b[0m, \u001b[0mNoise\u001b[0m, \u001b[0mNoise\u001b[0m, \u001b[0mKnock\u001b[0m, \u001b[0mNoise\u001b[0m, \u001b[0mKnock\u001b[0m, \u001b[0mNoise\u001b[0m, \u001b[0mKnock\u001b[0m, \u001b[0mNoise\u001b[0m, \u001b[0mNoise\u001b[0m, \u001b[0mNoise\u001b[0m\n",
      "\n",
      "Predicted: \u001b[0mNoise\u001b[0m, \u001b[0mKnock\u001b[0m, \u001b[0mNoise\u001b[0m, \u001b[0mKnock\u001b[0m, \u001b[0mNoise\u001b[0m, \u001b[91mNoise\u001b[0m, \u001b[0mKnock\u001b[0m, \u001b[0mNoise\u001b[0m, \u001b[91mNoise\u001b[0m, \u001b[0mNoise\u001b[0m, \u001b[0mKnock\u001b[0m, \u001b[0mNoise\u001b[0m, \u001b[0mNoise\u001b[0m, \u001b[0mKnock\u001b[0m, \u001b[91mNoise\u001b[0m, \u001b[0mKnock\u001b[0m\n",
      "Actual:    \u001b[0mNoise\u001b[0m, \u001b[0mKnock\u001b[0m, \u001b[0mNoise\u001b[0m, \u001b[0mKnock\u001b[0m, \u001b[0mNoise\u001b[0m, \u001b[91mKnock\u001b[0m, \u001b[0mKnock\u001b[0m, \u001b[0mNoise\u001b[0m, \u001b[91mKnock\u001b[0m, \u001b[0mNoise\u001b[0m, \u001b[0mKnock\u001b[0m, \u001b[0mNoise\u001b[0m, \u001b[0mNoise\u001b[0m, \u001b[0mKnock\u001b[0m, \u001b[91mKnock\u001b[0m, \u001b[0mKnock\u001b[0m\n",
      "\n",
      "Predicted: \u001b[0mKnock\u001b[0m, \u001b[0mNoise\u001b[0m, \u001b[0mNoise\u001b[0m, \u001b[0mNoise\u001b[0m, \u001b[0mNoise\u001b[0m, \u001b[91mNoise\u001b[0m, \u001b[0mKnock\u001b[0m, \u001b[0mNoise\u001b[0m, \u001b[91mNoise\u001b[0m, \u001b[0mNoise\u001b[0m, \u001b[0mKnock\u001b[0m, \u001b[91mNoise\u001b[0m, \u001b[0mNoise\u001b[0m, \u001b[0mNoise\u001b[0m, \u001b[0mNoise\u001b[0m, \u001b[0mKnock\u001b[0m\n",
      "Actual:    \u001b[0mKnock\u001b[0m, \u001b[0mNoise\u001b[0m, \u001b[0mNoise\u001b[0m, \u001b[0mNoise\u001b[0m, \u001b[0mNoise\u001b[0m, \u001b[91mKnock\u001b[0m, \u001b[0mKnock\u001b[0m, \u001b[0mNoise\u001b[0m, \u001b[91mKnock\u001b[0m, \u001b[0mNoise\u001b[0m, \u001b[0mKnock\u001b[0m, \u001b[91mKnock\u001b[0m, \u001b[0mNoise\u001b[0m, \u001b[0mNoise\u001b[0m, \u001b[0mNoise\u001b[0m, \u001b[0mKnock\u001b[0m\n",
      "\n",
      "Predicted: \u001b[0mNoise\u001b[0m, \u001b[0mKnock\u001b[0m, \u001b[0mNoise\u001b[0m, \u001b[0mNoise\u001b[0m, \u001b[0mNoise\u001b[0m, \u001b[91mKnock\u001b[0m, \u001b[0mKnock\u001b[0m, \u001b[0mNoise\u001b[0m, \u001b[0mNoise\u001b[0m, \u001b[0mNoise\u001b[0m, \u001b[0mNoise\u001b[0m, \u001b[0mKnock\u001b[0m, \u001b[0mKnock\u001b[0m, \u001b[0mNoise\u001b[0m, \u001b[0mNoise\u001b[0m, \u001b[0mNoise\u001b[0m\n",
      "Actual:    \u001b[0mNoise\u001b[0m, \u001b[0mKnock\u001b[0m, \u001b[0mNoise\u001b[0m, \u001b[0mNoise\u001b[0m, \u001b[0mNoise\u001b[0m, \u001b[91mNoise\u001b[0m, \u001b[0mKnock\u001b[0m, \u001b[0mNoise\u001b[0m, \u001b[0mNoise\u001b[0m, \u001b[0mNoise\u001b[0m, \u001b[0mNoise\u001b[0m, \u001b[0mKnock\u001b[0m, \u001b[0mKnock\u001b[0m, \u001b[0mNoise\u001b[0m, \u001b[0mNoise\u001b[0m, \u001b[0mNoise\u001b[0m\n",
      "\n",
      "Predicted: \u001b[0mNoise\u001b[0m, \u001b[0mKnock\u001b[0m, \u001b[0mKnock\u001b[0m, \u001b[0mKnock\u001b[0m, \u001b[0mNoise\u001b[0m, \u001b[0mNoise\u001b[0m, \u001b[0mKnock\u001b[0m, \u001b[0mNoise\u001b[0m, \u001b[0mNoise\u001b[0m, \u001b[0mNoise\u001b[0m, \u001b[0mNoise\u001b[0m, \u001b[0mKnock\u001b[0m, \u001b[0mNoise\u001b[0m, \u001b[0mNoise\u001b[0m, \u001b[0mNoise\u001b[0m, \u001b[0mNoise\u001b[0m\n",
      "Actual:    \u001b[0mNoise\u001b[0m, \u001b[0mKnock\u001b[0m, \u001b[0mKnock\u001b[0m, \u001b[0mKnock\u001b[0m, \u001b[0mNoise\u001b[0m, \u001b[0mNoise\u001b[0m, \u001b[0mKnock\u001b[0m, \u001b[0mNoise\u001b[0m, \u001b[0mNoise\u001b[0m, \u001b[0mNoise\u001b[0m, \u001b[0mNoise\u001b[0m, \u001b[0mKnock\u001b[0m, \u001b[0mNoise\u001b[0m, \u001b[0mNoise\u001b[0m, \u001b[0mNoise\u001b[0m, \u001b[0mNoise\u001b[0m\n",
      "\n",
      "Predicted: \u001b[91mNoise\u001b[0m, \u001b[0mNoise\u001b[0m, \u001b[0mNoise\u001b[0m, \u001b[0mNoise\u001b[0m, \u001b[0mNoise\u001b[0m, \u001b[0mNoise\u001b[0m, \u001b[91mKnock\u001b[0m, \u001b[91mKnock\u001b[0m, \u001b[0mKnock\u001b[0m, \u001b[0mKnock\u001b[0m, \u001b[0mKnock\u001b[0m, \u001b[0mNoise\u001b[0m, \u001b[91mKnock\u001b[0m, \u001b[0mKnock\u001b[0m, \u001b[91mNoise\u001b[0m, \u001b[0mNoise\u001b[0m\n",
      "Actual:    \u001b[91mKnock\u001b[0m, \u001b[0mNoise\u001b[0m, \u001b[0mNoise\u001b[0m, \u001b[0mNoise\u001b[0m, \u001b[0mNoise\u001b[0m, \u001b[0mNoise\u001b[0m, \u001b[91mNoise\u001b[0m, \u001b[91mNoise\u001b[0m, \u001b[0mKnock\u001b[0m, \u001b[0mKnock\u001b[0m, \u001b[0mKnock\u001b[0m, \u001b[0mNoise\u001b[0m, \u001b[91mNoise\u001b[0m, \u001b[0mKnock\u001b[0m, \u001b[91mKnock\u001b[0m, \u001b[0mNoise\u001b[0m\n",
      "\n",
      "Predicted: \u001b[0mNoise\u001b[0m, \u001b[91mNoise\u001b[0m, \u001b[0mNoise\u001b[0m, \u001b[0mNoise\u001b[0m, \u001b[0mNoise\u001b[0m, \u001b[0mNoise\u001b[0m, \u001b[0mKnock\u001b[0m, \u001b[0mKnock\u001b[0m, \u001b[91mNoise\u001b[0m, \u001b[0mNoise\u001b[0m, \u001b[0mNoise\u001b[0m, \u001b[0mNoise\u001b[0m, \u001b[91mNoise\u001b[0m, \u001b[0mKnock\u001b[0m, \u001b[0mNoise\u001b[0m, \u001b[0mKnock\u001b[0m\n",
      "Actual:    \u001b[0mNoise\u001b[0m, \u001b[91mKnock\u001b[0m, \u001b[0mNoise\u001b[0m, \u001b[0mNoise\u001b[0m, \u001b[0mNoise\u001b[0m, \u001b[0mNoise\u001b[0m, \u001b[0mKnock\u001b[0m, \u001b[0mKnock\u001b[0m, \u001b[91mKnock\u001b[0m, \u001b[0mNoise\u001b[0m, \u001b[0mNoise\u001b[0m, \u001b[0mNoise\u001b[0m, \u001b[91mKnock\u001b[0m, \u001b[0mKnock\u001b[0m, \u001b[0mNoise\u001b[0m, \u001b[0mKnock\u001b[0m\n",
      "\n",
      "Predicted: \u001b[91mNoise\u001b[0m, \u001b[0mNoise\u001b[0m, \u001b[0mNoise\u001b[0m, \u001b[0mKnock\u001b[0m, \u001b[91mNoise\u001b[0m, \u001b[0mNoise\u001b[0m, \u001b[0mNoise\u001b[0m, \u001b[0mKnock\u001b[0m, \u001b[91mKnock\u001b[0m, \u001b[0mNoise\u001b[0m, \u001b[0mNoise\u001b[0m, \u001b[0mKnock\u001b[0m, \u001b[0mNoise\u001b[0m, \u001b[0mKnock\u001b[0m, \u001b[0mKnock\u001b[0m, \u001b[0mNoise\u001b[0m\n",
      "Actual:    \u001b[91mKnock\u001b[0m, \u001b[0mNoise\u001b[0m, \u001b[0mNoise\u001b[0m, \u001b[0mKnock\u001b[0m, \u001b[91mKnock\u001b[0m, \u001b[0mNoise\u001b[0m, \u001b[0mNoise\u001b[0m, \u001b[0mKnock\u001b[0m, \u001b[91mNoise\u001b[0m, \u001b[0mNoise\u001b[0m, \u001b[0mNoise\u001b[0m, \u001b[0mKnock\u001b[0m, \u001b[0mNoise\u001b[0m, \u001b[0mKnock\u001b[0m, \u001b[0mKnock\u001b[0m, \u001b[0mNoise\u001b[0m\n",
      "\n",
      "Predicted: \u001b[0mNoise\u001b[0m, \u001b[0mNoise\u001b[0m, \u001b[0mNoise\u001b[0m, \u001b[0mNoise\u001b[0m, \u001b[0mNoise\u001b[0m, \u001b[0mKnock\u001b[0m, \u001b[0mKnock\u001b[0m, \u001b[91mNoise\u001b[0m, \u001b[0mKnock\u001b[0m, \u001b[0mNoise\u001b[0m, \u001b[0mKnock\u001b[0m, \u001b[0mNoise\u001b[0m, \u001b[0mNoise\u001b[0m, \u001b[91mNoise\u001b[0m, \u001b[0mNoise\u001b[0m, \u001b[0mNoise\u001b[0m\n",
      "Actual:    \u001b[0mNoise\u001b[0m, \u001b[0mNoise\u001b[0m, \u001b[0mNoise\u001b[0m, \u001b[0mNoise\u001b[0m, \u001b[0mNoise\u001b[0m, \u001b[0mKnock\u001b[0m, \u001b[0mKnock\u001b[0m, \u001b[91mKnock\u001b[0m, \u001b[0mKnock\u001b[0m, \u001b[0mNoise\u001b[0m, \u001b[0mKnock\u001b[0m, \u001b[0mNoise\u001b[0m, \u001b[0mNoise\u001b[0m, \u001b[91mKnock\u001b[0m, \u001b[0mNoise\u001b[0m, \u001b[0mNoise\u001b[0m\n",
      "\n",
      "Predicted: \u001b[0mNoise\u001b[0m, \u001b[0mNoise\u001b[0m, \u001b[0mNoise\u001b[0m, \u001b[0mKnock\u001b[0m, \u001b[0mNoise\u001b[0m, \u001b[0mKnock\u001b[0m, \u001b[91mKnock\u001b[0m, \u001b[0mNoise\u001b[0m, \u001b[0mKnock\u001b[0m, \u001b[0mNoise\u001b[0m, \u001b[0mKnock\u001b[0m, \u001b[91mKnock\u001b[0m, \u001b[0mNoise\u001b[0m, \u001b[0mNoise\u001b[0m, \u001b[0mNoise\u001b[0m, \u001b[0mNoise\u001b[0m\n",
      "Actual:    \u001b[0mNoise\u001b[0m, \u001b[0mNoise\u001b[0m, \u001b[0mNoise\u001b[0m, \u001b[0mKnock\u001b[0m, \u001b[0mNoise\u001b[0m, \u001b[0mKnock\u001b[0m, \u001b[91mNoise\u001b[0m, \u001b[0mNoise\u001b[0m, \u001b[0mKnock\u001b[0m, \u001b[0mNoise\u001b[0m, \u001b[0mKnock\u001b[0m, \u001b[91mNoise\u001b[0m, \u001b[0mNoise\u001b[0m, \u001b[0mNoise\u001b[0m, \u001b[0mNoise\u001b[0m, \u001b[0mNoise\u001b[0m\n",
      "\n",
      "Predicted: \u001b[0mNoise\u001b[0m, \u001b[0mNoise\u001b[0m, \u001b[0mKnock\u001b[0m, \u001b[0mKnock\u001b[0m, \u001b[91mNoise\u001b[0m, \u001b[0mKnock\u001b[0m, \u001b[91mKnock\u001b[0m, \u001b[91mKnock\u001b[0m, \u001b[0mNoise\u001b[0m, \u001b[0mKnock\u001b[0m, \u001b[0mNoise\u001b[0m, \u001b[0mNoise\u001b[0m, \u001b[0mKnock\u001b[0m, \u001b[0mNoise\u001b[0m, \u001b[0mNoise\u001b[0m, \u001b[0mNoise\u001b[0m\n",
      "Actual:    \u001b[0mNoise\u001b[0m, \u001b[0mNoise\u001b[0m, \u001b[0mKnock\u001b[0m, \u001b[0mKnock\u001b[0m, \u001b[91mKnock\u001b[0m, \u001b[0mKnock\u001b[0m, \u001b[91mNoise\u001b[0m, \u001b[91mNoise\u001b[0m, \u001b[0mNoise\u001b[0m, \u001b[0mKnock\u001b[0m, \u001b[0mNoise\u001b[0m, \u001b[0mNoise\u001b[0m, \u001b[0mKnock\u001b[0m, \u001b[0mNoise\u001b[0m, \u001b[0mNoise\u001b[0m, \u001b[0mNoise\u001b[0m\n",
      "\n",
      "Predicted: \u001b[0mKnock\u001b[0m, \u001b[0mNoise\u001b[0m, \u001b[0mNoise\u001b[0m, \u001b[0mKnock\u001b[0m, \u001b[0mKnock\u001b[0m, \u001b[0mKnock\u001b[0m, \u001b[0mKnock\u001b[0m, \u001b[0mNoise\u001b[0m, \u001b[0mKnock\u001b[0m, \u001b[0mKnock\u001b[0m, \u001b[0mKnock\u001b[0m, \u001b[0mNoise\u001b[0m, \u001b[0mNoise\u001b[0m, \u001b[0mKnock\u001b[0m, \u001b[0mNoise\u001b[0m, \u001b[91mNoise\u001b[0m\n",
      "Actual:    \u001b[0mKnock\u001b[0m, \u001b[0mNoise\u001b[0m, \u001b[0mNoise\u001b[0m, \u001b[0mKnock\u001b[0m, \u001b[0mKnock\u001b[0m, \u001b[0mKnock\u001b[0m, \u001b[0mKnock\u001b[0m, \u001b[0mNoise\u001b[0m, \u001b[0mKnock\u001b[0m, \u001b[0mKnock\u001b[0m, \u001b[0mKnock\u001b[0m, \u001b[0mNoise\u001b[0m, \u001b[0mNoise\u001b[0m, \u001b[0mKnock\u001b[0m, \u001b[0mNoise\u001b[0m, \u001b[91mKnock\u001b[0m\n",
      "\n",
      "Predicted: \u001b[0mNoise\u001b[0m, \u001b[0mNoise\u001b[0m, \u001b[0mNoise\u001b[0m, \u001b[0mNoise\u001b[0m, \u001b[0mKnock\u001b[0m, \u001b[0mNoise\u001b[0m, \u001b[0mKnock\u001b[0m, \u001b[0mNoise\u001b[0m, \u001b[0mNoise\u001b[0m, \u001b[0mNoise\u001b[0m, \u001b[0mNoise\u001b[0m, \u001b[0mNoise\u001b[0m, \u001b[0mNoise\u001b[0m, \u001b[0mKnock\u001b[0m, \u001b[0mKnock\u001b[0m, \u001b[0mKnock\u001b[0m\n",
      "Actual:    \u001b[0mNoise\u001b[0m, \u001b[0mNoise\u001b[0m, \u001b[0mNoise\u001b[0m, \u001b[0mNoise\u001b[0m, \u001b[0mKnock\u001b[0m, \u001b[0mNoise\u001b[0m, \u001b[0mKnock\u001b[0m, \u001b[0mNoise\u001b[0m, \u001b[0mNoise\u001b[0m, \u001b[0mNoise\u001b[0m, \u001b[0mNoise\u001b[0m, \u001b[0mNoise\u001b[0m, \u001b[0mNoise\u001b[0m, \u001b[0mKnock\u001b[0m, \u001b[0mKnock\u001b[0m, \u001b[0mKnock\u001b[0m\n",
      "\n",
      "Predicted: \u001b[0mKnock\u001b[0m, \u001b[0mKnock\u001b[0m, \u001b[91mNoise\u001b[0m, \u001b[0mNoise\u001b[0m, \u001b[0mNoise\u001b[0m, \u001b[0mKnock\u001b[0m, \u001b[0mKnock\u001b[0m, \u001b[91mKnock\u001b[0m, \u001b[0mKnock\u001b[0m, \u001b[0mNoise\u001b[0m, \u001b[0mKnock\u001b[0m, \u001b[0mNoise\u001b[0m, \u001b[0mNoise\u001b[0m, \u001b[0mNoise\u001b[0m, \u001b[0mNoise\u001b[0m, \u001b[91mNoise\u001b[0m\n",
      "Actual:    \u001b[0mKnock\u001b[0m, \u001b[0mKnock\u001b[0m, \u001b[91mKnock\u001b[0m, \u001b[0mNoise\u001b[0m, \u001b[0mNoise\u001b[0m, \u001b[0mKnock\u001b[0m, \u001b[0mKnock\u001b[0m, \u001b[91mNoise\u001b[0m, \u001b[0mKnock\u001b[0m, \u001b[0mNoise\u001b[0m, \u001b[0mKnock\u001b[0m, \u001b[0mNoise\u001b[0m, \u001b[0mNoise\u001b[0m, \u001b[0mNoise\u001b[0m, \u001b[0mNoise\u001b[0m, \u001b[91mKnock\u001b[0m\n",
      "\n",
      "Predicted: \u001b[0mKnock\u001b[0m, \u001b[0mNoise\u001b[0m, \u001b[0mNoise\u001b[0m, \u001b[0mNoise\u001b[0m, \u001b[91mNoise\u001b[0m, \u001b[0mKnock\u001b[0m, \u001b[91mKnock\u001b[0m, \u001b[0mNoise\u001b[0m, \u001b[0mNoise\u001b[0m, \u001b[0mKnock\u001b[0m, \u001b[0mNoise\u001b[0m, \u001b[0mNoise\u001b[0m, \u001b[0mNoise\u001b[0m, \u001b[0mKnock\u001b[0m, \u001b[0mKnock\u001b[0m\n",
      "Actual:    \u001b[0mKnock\u001b[0m, \u001b[0mNoise\u001b[0m, \u001b[0mNoise\u001b[0m, \u001b[0mNoise\u001b[0m, \u001b[91mKnock\u001b[0m, \u001b[0mKnock\u001b[0m, \u001b[91mNoise\u001b[0m, \u001b[0mNoise\u001b[0m, \u001b[0mNoise\u001b[0m, \u001b[0mKnock\u001b[0m, \u001b[0mNoise\u001b[0m, \u001b[0mNoise\u001b[0m, \u001b[0mNoise\u001b[0m, \u001b[0mKnock\u001b[0m, \u001b[0mKnock\u001b[0m\n",
      "\n",
      "Accuracy: 0.88, Total items: 351\n"
     ]
    }
   ],
   "source": [
    "model = AudioClassifier()\n",
    "model.load_state_dict(torch.load('data/models/V8_model_state_dict.pth'))\n",
    "model = model.to(device)\n",
    "single_ds = SoundDS('data/single')\n",
    "single_dl = DataLoader(single_ds, shuffle=True)\n",
    "\n",
    "inference(model, val_dl)"
   ]
  }
 ],
 "metadata": {
  "kernelspec": {
   "display_name": "Python 3",
   "language": "python",
   "name": "python3"
  },
  "language_info": {
   "codemirror_mode": {
    "name": "ipython",
    "version": 3
   },
   "file_extension": ".py",
   "mimetype": "text/x-python",
   "name": "python",
   "nbconvert_exporter": "python",
   "pygments_lexer": "ipython3",
   "version": "3.11.3"
  }
 },
 "nbformat": 4,
 "nbformat_minor": 2
}
