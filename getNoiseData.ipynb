{
 "cells": [
  {
   "cell_type": "code",
   "execution_count": null,
   "metadata": {},
   "outputs": [],
   "source": [
    "import pyaudio\n",
    "import wave\n",
    "import os\n",
    "\n",
    "# Audio-Parameter\n",
    "CHUNK = 1024  # Blockgröße\n",
    "FORMAT = pyaudio.paInt16  # Datenformat\n",
    "CHANNELS = 1  # Anzahl der Kanäle\n",
    "RATE = 44100  # Abtastrate\n",
    "\n",
    "# Audioaufnahme initialisieren\n",
    "p = pyaudio.PyAudio()"
   ]
  },
  {
   "cell_type": "code",
   "execution_count": null,
   "metadata": {},
   "outputs": [],
   "source": [
    "def getAudio():\n",
    "    # Dateiname und Pfad\n",
    "    i = len(os.listdir(\"test_data\")) + 1\n",
    "    filename = f\"noise_{i}.wav\"\n",
    "    filepath = os.path.join(\"test_data\", filename)\n",
    "\n",
    "    stream = p.open(format=FORMAT, channels=CHANNELS, rate=RATE, input=True, frames_per_buffer=CHUNK)\n",
    "\n",
    "    # Aufnahme und Speicherung der Audiodaten\n",
    "    frames = []\n",
    "    for i in range(0, int(RATE / CHUNK * 2)):\n",
    "        data = stream.read(CHUNK)\n",
    "        frames.append(data)\n",
    "\n",
    "    # Aufräumen\n",
    "    stream.stop_stream()\n",
    "    stream.close()\n",
    "    p.terminate()\n",
    "\n",
    "    # Überprüfen, ob das Verzeichnis existiert\n",
    "    dir_name = os.path.dirname(filepath)\n",
    "    if not os.path.exists(dir_name):\n",
    "        # Wenn nicht, erstellen Sie es\n",
    "        os.makedirs(dir_name)\n",
    "\n",
    "    # Speichern der Audiodatei\n",
    "    wf = wave.open(filepath, \"wb\")\n",
    "    wf.setnchannels(CHANNELS)\n",
    "    wf.setsampwidth(p.get_sample_size(FORMAT))\n",
    "    wf.setframerate(RATE)\n",
    "    wf.writeframes(b''.join(frames))\n",
    "    wf.close()\n",
    "\n",
    "    print(f\"Audiodatei gespeichert: {filepath}\")"
   ]
  },
  {
   "cell_type": "code",
   "execution_count": null,
   "metadata": {},
   "outputs": [],
   "source": [
    "import time\n",
    "import random\n",
    "\n",
    "# Gesamtzahl der Ausführungen\n",
    "total_executions = 100\n",
    "\n",
    "# Gesamtzeit in Sekunden\n",
    "total_time = 600\n",
    "\n",
    "# Durchschnittliche Verzögerung in Sekunden\n",
    "average_delay = total_time / total_executions\n",
    "\n",
    "for i in range(total_executions):\n",
    "    getAudio()\n",
    "    delay = random.uniform(0, 2 * average_delay)\n",
    "    time.sleep(delay)"
   ]
  }
 ],
 "metadata": {
  "language_info": {
   "name": "python"
  }
 },
 "nbformat": 4,
 "nbformat_minor": 2
}
