{
 "cells": [
  {
   "cell_type": "code",
   "execution_count": 8,
   "metadata": {},
   "outputs": [],
   "source": [
    "import pyaudio\n",
    "import wave\n",
    "import os\n",
    "\n",
    "# Audio-Parameter\n",
    "CHUNK = 1050  # Blockgröße | n teile von 44100\n",
    "FORMAT = pyaudio.paInt16  # Datenformat\n",
    "CHANNELS = 1  # Anzahl der Kanäle\n",
    "RATE = 44100  # Abtastrate"
   ]
  },
  {
   "cell_type": "code",
   "execution_count": 9,
   "metadata": {},
   "outputs": [],
   "source": [
    "def getAudio():\n",
    "    # Dateiname und Pfad\n",
    "    i = len(os.listdir(\"test_data\")) + 1\n",
    "    filename = f\"noise_{i}.wav\"\n",
    "    filepath = os.path.join(\"test_data\", filename)\n",
    "\n",
    "    # Audioaufnahme initialisieren\n",
    "    p = pyaudio.PyAudio()\n",
    "    stream = p.open(format=FORMAT, channels=CHANNELS, rate=RATE, input=True, frames_per_buffer=CHUNK)\n",
    "\n",
    "    # Aufnahme und Speicherung der Audiodaten\n",
    "    frames = []\n",
    "    for i in range(0, int(RATE / CHUNK * 2)):\n",
    "        data = stream.read(CHUNK)\n",
    "        frames.append(data)\n",
    "\n",
    "    # Aufräumen\n",
    "    stream.stop_stream()\n",
    "    stream.close()\n",
    "    p.terminate()\n",
    "    \n",
    "    # Überprüfen, ob das Verzeichnis existiert\n",
    "    check_direction(filepath)\n",
    "\n",
    "    # Speichern der Audiodatei\n",
    "    wf = wave.open(filepath, \"wb\")\n",
    "    wf.setnchannels(CHANNELS)\n",
    "    wf.setsampwidth(p.get_sample_size(FORMAT))\n",
    "    wf.setframerate(RATE)\n",
    "    wf.writeframes(b''.join(frames))\n",
    "    wf.close()\n",
    "\n",
    "    print(f\"Audiodatei gespeichert: {filepath}\")\n",
    "\n",
    "def check_direction(filepath):\n",
    "    dir_name = os.path.dirname(filepath)\n",
    "    if not os.path.exists(dir_name):\n",
    "        # Wenn nicht, erstellen Sie es\n",
    "        os.makedirs(dir_name)"
   ]
  },
  {
   "cell_type": "code",
   "execution_count": 11,
   "metadata": {},
   "outputs": [
    {
     "name": "stdout",
     "output_type": "stream",
     "text": [
      "Audiodatei gespeichert: test_data\\noise_1.wav\n",
      "Audiodatei gespeichert: test_data\\noise_2.wav\n",
      "Audiodatei gespeichert: test_data\\noise_3.wav\n"
     ]
    }
   ],
   "source": [
    "import time\n",
    "import random\n",
    "\n",
    "# Gesamtzahl der Ausführungen\n",
    "total_executions = 97\n",
    "\n",
    "# Gesamtzeit in Sekunden\n",
    "total_time = 5\n",
    "\n",
    "# Durchschnittliche Verzögerung in Sekunden\n",
    "average_delay = total_time / total_executions\n",
    "\n",
    "for i in range(total_executions):\n",
    "    getAudio()\n",
    "    delay = random.uniform(0, 2 * average_delay)\n",
    "    time.sleep(delay)"
   ]
  }
 ],
 "metadata": {
  "kernelspec": {
   "display_name": "Python 3",
   "language": "python",
   "name": "python3"
  },
  "language_info": {
   "codemirror_mode": {
    "name": "ipython",
    "version": 3
   },
   "file_extension": ".py",
   "mimetype": "text/x-python",
   "name": "python",
   "nbconvert_exporter": "python",
   "pygments_lexer": "ipython3",
   "version": "3.11.3"
  }
 },
 "nbformat": 4,
 "nbformat_minor": 2
}
